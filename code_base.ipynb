{
 "cells": [
  {
   "cell_type": "code",
   "execution_count": 2,
   "metadata": {},
   "outputs": [],
   "source": [
    "import pandas as pd \n",
    "import requests \n",
    "from sqlalchemy import create_engine\n",
    "import psycopg2\n",
    "import config "
   ]
  },
  {
   "cell_type": "code",
   "execution_count": 11,
   "metadata": {},
   "outputs": [],
   "source": [
    "endpoint = \"https://data.sfgov.org/resource/imvp-dq3v.json?$limit=10\"\n",
    "r = requests.get(url=endpoint)"
   ]
  },
  {
   "cell_type": "code",
   "execution_count": 17,
   "metadata": {},
   "outputs": [],
   "source": [
    "df = pd.DataFrame(r.json())"
   ]
  },
  {
   "cell_type": "code",
   "execution_count": 18,
   "metadata": {},
   "outputs": [
    {
     "data": {
      "text/html": [
       "<div>\n",
       "<style scoped>\n",
       "    .dataframe tbody tr th:only-of-type {\n",
       "        vertical-align: middle;\n",
       "    }\n",
       "\n",
       "    .dataframe tbody tr th {\n",
       "        vertical-align: top;\n",
       "    }\n",
       "\n",
       "    .dataframe thead th {\n",
       "        text-align: right;\n",
       "    }\n",
       "</style>\n",
       "<table border=\"1\" class=\"dataframe\">\n",
       "  <thead>\n",
       "    <tr style=\"text-align: right;\">\n",
       "      <th></th>\n",
       "      <th>transmission_datetime</th>\n",
       "      <th>post_id</th>\n",
       "      <th>street_block</th>\n",
       "      <th>payment_type</th>\n",
       "      <th>session_start_dt</th>\n",
       "      <th>session_end_dt</th>\n",
       "      <th>meter_event_type</th>\n",
       "      <th>gross_paid_amt</th>\n",
       "    </tr>\n",
       "  </thead>\n",
       "  <tbody>\n",
       "    <tr>\n",
       "      <th>0</th>\n",
       "      <td>196157694_4_06092020011254</td>\n",
       "      <td>444-11250</td>\n",
       "      <td>GRANT AVE 1100</td>\n",
       "      <td>CASH</td>\n",
       "      <td>2020-06-09T01:12:54.000</td>\n",
       "      <td>2020-06-09T01:12:54.000</td>\n",
       "      <td>NS</td>\n",
       "      <td>0.75</td>\n",
       "    </tr>\n",
       "    <tr>\n",
       "      <th>1</th>\n",
       "      <td>196157908_4_06092020041214</td>\n",
       "      <td>600-04380</td>\n",
       "      <td>PACIFIC AVE 400</td>\n",
       "      <td>CASH</td>\n",
       "      <td>2020-06-09T04:12:14.000</td>\n",
       "      <td>2020-06-09T04:12:14.000</td>\n",
       "      <td>NS</td>\n",
       "      <td>0.25</td>\n",
       "    </tr>\n",
       "    <tr>\n",
       "      <th>2</th>\n",
       "      <td>196157920_4_06092020043248</td>\n",
       "      <td>582-01410</td>\n",
       "      <td>NEW MONTGOMERY ST 100</td>\n",
       "      <td>CREDIT CARD</td>\n",
       "      <td>2020-06-09T04:32:48.000</td>\n",
       "      <td>2020-06-09T13:30:04.000</td>\n",
       "      <td>NS</td>\n",
       "      <td>3.25</td>\n",
       "    </tr>\n",
       "    <tr>\n",
       "      <th>3</th>\n",
       "      <td>196157921_4_06092020043733</td>\n",
       "      <td>470-01040</td>\n",
       "      <td>HOWARD ST 100</td>\n",
       "      <td>CREDIT CARD</td>\n",
       "      <td>2020-06-09T04:37:33.000</td>\n",
       "      <td>2020-06-09T15:00:03.000</td>\n",
       "      <td>NS</td>\n",
       "      <td>4</td>\n",
       "    </tr>\n",
       "    <tr>\n",
       "      <th>4</th>\n",
       "      <td>196157922_4_06092020043820</td>\n",
       "      <td>359-03180</td>\n",
       "      <td>CLAY ST 300</td>\n",
       "      <td>CREDIT CARD</td>\n",
       "      <td>2020-06-09T04:38:20.000</td>\n",
       "      <td>2020-06-09T15:00:15.000</td>\n",
       "      <td>NS</td>\n",
       "      <td>4</td>\n",
       "    </tr>\n",
       "  </tbody>\n",
       "</table>\n",
       "</div>"
      ],
      "text/plain": [
       "        transmission_datetime    post_id           street_block payment_type  \\\n",
       "0  196157694_4_06092020011254  444-11250         GRANT AVE 1100         CASH   \n",
       "1  196157908_4_06092020041214  600-04380        PACIFIC AVE 400         CASH   \n",
       "2  196157920_4_06092020043248  582-01410  NEW MONTGOMERY ST 100  CREDIT CARD   \n",
       "3  196157921_4_06092020043733  470-01040          HOWARD ST 100  CREDIT CARD   \n",
       "4  196157922_4_06092020043820  359-03180            CLAY ST 300  CREDIT CARD   \n",
       "\n",
       "          session_start_dt           session_end_dt meter_event_type  \\\n",
       "0  2020-06-09T01:12:54.000  2020-06-09T01:12:54.000               NS   \n",
       "1  2020-06-09T04:12:14.000  2020-06-09T04:12:14.000               NS   \n",
       "2  2020-06-09T04:32:48.000  2020-06-09T13:30:04.000               NS   \n",
       "3  2020-06-09T04:37:33.000  2020-06-09T15:00:03.000               NS   \n",
       "4  2020-06-09T04:38:20.000  2020-06-09T15:00:15.000               NS   \n",
       "\n",
       "  gross_paid_amt  \n",
       "0           0.75  \n",
       "1           0.25  \n",
       "2           3.25  \n",
       "3              4  \n",
       "4              4  "
      ]
     },
     "execution_count": 18,
     "metadata": {},
     "output_type": "execute_result"
    }
   ],
   "source": [
    "df.head()"
   ]
  },
  {
   "cell_type": "code",
   "execution_count": null,
   "metadata": {},
   "outputs": [],
   "source": []
  }
 ],
 "metadata": {
  "kernelspec": {
   "display_name": "PythonData",
   "language": "python",
   "name": "pythondata"
  },
  "language_info": {
   "codemirror_mode": {
    "name": "ipython",
    "version": 3
   },
   "file_extension": ".py",
   "mimetype": "text/x-python",
   "name": "python",
   "nbconvert_exporter": "python",
   "pygments_lexer": "ipython3",
   "version": "3.7.11"
  }
 },
 "nbformat": 4,
 "nbformat_minor": 4
}
