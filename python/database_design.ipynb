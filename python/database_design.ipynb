{
 "cells": [
  {
   "cell_type": "code",
   "execution_count": 1,
   "metadata": {},
   "outputs": [],
   "source": [
    "#import dependencies \n",
    "import pandas as pd \n",
    "import requests \n",
    "from sqlalchemy import create_engine\n",
    "import psycopg2\n",
    "import config "
   ]
  },
  {
   "cell_type": "markdown",
   "metadata": {},
   "source": [
    "# Data "
   ]
  },
  {
   "cell_type": "code",
   "execution_count": 20,
   "metadata": {},
   "outputs": [],
   "source": [
    "#get sample of data -1000 rows\n",
    "endpoint = \"https://data.sfgov.org/resource/imvp-dq3v.json?$limit=1000\"\n",
    "r = requests.get(url=endpoint)"
   ]
  },
  {
   "cell_type": "code",
   "execution_count": 28,
   "metadata": {},
   "outputs": [],
   "source": [
    "#convert to datframe \n",
    "data_df = pd.DataFrame(r.json())"
   ]
  },
  {
   "cell_type": "code",
   "execution_count": 29,
   "metadata": {},
   "outputs": [
    {
     "data": {
      "text/plain": [
       "(1000, 8)"
      ]
     },
     "execution_count": 29,
     "metadata": {},
     "output_type": "execute_result"
    }
   ],
   "source": [
    "data_df.shape"
   ]
  },
  {
   "cell_type": "code",
   "execution_count": 30,
   "metadata": {},
   "outputs": [
    {
     "data": {
      "text/html": [
       "<div>\n",
       "<style scoped>\n",
       "    .dataframe tbody tr th:only-of-type {\n",
       "        vertical-align: middle;\n",
       "    }\n",
       "\n",
       "    .dataframe tbody tr th {\n",
       "        vertical-align: top;\n",
       "    }\n",
       "\n",
       "    .dataframe thead th {\n",
       "        text-align: right;\n",
       "    }\n",
       "</style>\n",
       "<table border=\"1\" class=\"dataframe\">\n",
       "  <thead>\n",
       "    <tr style=\"text-align: right;\">\n",
       "      <th></th>\n",
       "      <th>transmission_datetime</th>\n",
       "      <th>post_id</th>\n",
       "      <th>street_block</th>\n",
       "      <th>payment_type</th>\n",
       "      <th>session_start_dt</th>\n",
       "      <th>session_end_dt</th>\n",
       "      <th>meter_event_type</th>\n",
       "      <th>gross_paid_amt</th>\n",
       "    </tr>\n",
       "  </thead>\n",
       "  <tbody>\n",
       "    <tr>\n",
       "      <th>0</th>\n",
       "      <td>135482724_4_09302017104221</td>\n",
       "      <td>352-05200</td>\n",
       "      <td>CASTRO ST 500</td>\n",
       "      <td>CREDIT CARD</td>\n",
       "      <td>2017-09-30T10:42:21.000</td>\n",
       "      <td>2017-09-30T11:02:21.000</td>\n",
       "      <td>NS</td>\n",
       "      <td>0.75</td>\n",
       "    </tr>\n",
       "    <tr>\n",
       "      <th>1</th>\n",
       "      <td>135482725_4_09302017104224</td>\n",
       "      <td>418-08670</td>\n",
       "      <td>FOLSOM ST 800</td>\n",
       "      <td>CREDIT CARD</td>\n",
       "      <td>2017-09-30T10:42:24.000</td>\n",
       "      <td>2017-09-30T12:42:17.000</td>\n",
       "      <td>NS</td>\n",
       "      <td>5.54</td>\n",
       "    </tr>\n",
       "    <tr>\n",
       "      <th>2</th>\n",
       "      <td>135482726_4_09302017104223</td>\n",
       "      <td>568-45310</td>\n",
       "      <td>MISSION ST 4500</td>\n",
       "      <td>CASH</td>\n",
       "      <td>2017-09-30T10:42:23.000</td>\n",
       "      <td>2017-09-30T11:26:07.000</td>\n",
       "      <td>NS</td>\n",
       "      <td>0.75</td>\n",
       "    </tr>\n",
       "    <tr>\n",
       "      <th>3</th>\n",
       "      <td>135482727_4_09302017104226</td>\n",
       "      <td>350-24090</td>\n",
       "      <td>CALIFORNIA ST 2400</td>\n",
       "      <td>CASH</td>\n",
       "      <td>2017-09-30T10:42:26.000</td>\n",
       "      <td>2017-09-30T11:27:56.000</td>\n",
       "      <td>AT</td>\n",
       "      <td>0.15</td>\n",
       "    </tr>\n",
       "    <tr>\n",
       "      <th>4</th>\n",
       "      <td>135482728_4_09302017104226</td>\n",
       "      <td>226-34480</td>\n",
       "      <td>26TH ST 3400</td>\n",
       "      <td>CASH</td>\n",
       "      <td>2017-09-30T10:42:26.000</td>\n",
       "      <td>2017-09-30T11:42:26.000</td>\n",
       "      <td>NS</td>\n",
       "      <td>2.25</td>\n",
       "    </tr>\n",
       "  </tbody>\n",
       "</table>\n",
       "</div>"
      ],
      "text/plain": [
       "        transmission_datetime    post_id        street_block payment_type  \\\n",
       "0  135482724_4_09302017104221  352-05200       CASTRO ST 500  CREDIT CARD   \n",
       "1  135482725_4_09302017104224  418-08670       FOLSOM ST 800  CREDIT CARD   \n",
       "2  135482726_4_09302017104223  568-45310     MISSION ST 4500         CASH   \n",
       "3  135482727_4_09302017104226  350-24090  CALIFORNIA ST 2400         CASH   \n",
       "4  135482728_4_09302017104226  226-34480        26TH ST 3400         CASH   \n",
       "\n",
       "          session_start_dt           session_end_dt meter_event_type  \\\n",
       "0  2017-09-30T10:42:21.000  2017-09-30T11:02:21.000               NS   \n",
       "1  2017-09-30T10:42:24.000  2017-09-30T12:42:17.000               NS   \n",
       "2  2017-09-30T10:42:23.000  2017-09-30T11:26:07.000               NS   \n",
       "3  2017-09-30T10:42:26.000  2017-09-30T11:27:56.000               AT   \n",
       "4  2017-09-30T10:42:26.000  2017-09-30T11:42:26.000               NS   \n",
       "\n",
       "  gross_paid_amt  \n",
       "0           0.75  \n",
       "1           5.54  \n",
       "2           0.75  \n",
       "3           0.15  \n",
       "4           2.25  "
      ]
     },
     "execution_count": 30,
     "metadata": {},
     "output_type": "execute_result"
    }
   ],
   "source": [
    "#review dataframe \n",
    "data_df.head()"
   ]
  },
  {
   "cell_type": "markdown",
   "metadata": {},
   "source": [
    "### Review Dimensions that can be normailized "
   ]
  },
  {
   "cell_type": "code",
   "execution_count": 39,
   "metadata": {},
   "outputs": [
    {
     "data": {
      "text/plain": [
       "array(['NS', 'AT'], dtype=object)"
      ]
     },
     "execution_count": 39,
     "metadata": {},
     "output_type": "execute_result"
    }
   ],
   "source": [
    "data_df.meter_event_type.unique()"
   ]
  },
  {
   "cell_type": "code",
   "execution_count": 67,
   "metadata": {},
   "outputs": [
    {
     "data": {
      "text/plain": [
       "534"
      ]
     },
     "execution_count": 67,
     "metadata": {},
     "output_type": "execute_result"
    }
   ],
   "source": [
    "len(data_df.street_block.unique())"
   ]
  },
  {
   "cell_type": "code",
   "execution_count": 64,
   "metadata": {},
   "outputs": [
    {
     "data": {
      "text/html": [
       "<div>\n",
       "<style scoped>\n",
       "    .dataframe tbody tr th:only-of-type {\n",
       "        vertical-align: middle;\n",
       "    }\n",
       "\n",
       "    .dataframe tbody tr th {\n",
       "        vertical-align: top;\n",
       "    }\n",
       "\n",
       "    .dataframe thead th {\n",
       "        text-align: right;\n",
       "    }\n",
       "</style>\n",
       "<table border=\"1\" class=\"dataframe\">\n",
       "  <thead>\n",
       "    <tr style=\"text-align: right;\">\n",
       "      <th></th>\n",
       "      <th>0</th>\n",
       "    </tr>\n",
       "  </thead>\n",
       "  <tbody>\n",
       "    <tr>\n",
       "      <th>0</th>\n",
       "      <td>CASTRO ST 500</td>\n",
       "    </tr>\n",
       "    <tr>\n",
       "      <th>1</th>\n",
       "      <td>FOLSOM ST 800</td>\n",
       "    </tr>\n",
       "    <tr>\n",
       "      <th>2</th>\n",
       "      <td>MISSION ST 4500</td>\n",
       "    </tr>\n",
       "    <tr>\n",
       "      <th>3</th>\n",
       "      <td>CALIFORNIA ST 2400</td>\n",
       "    </tr>\n",
       "    <tr>\n",
       "      <th>4</th>\n",
       "      <td>26TH ST 3400</td>\n",
       "    </tr>\n",
       "    <tr>\n",
       "      <th>...</th>\n",
       "      <td>...</td>\n",
       "    </tr>\n",
       "    <tr>\n",
       "      <th>529</th>\n",
       "      <td>TREAT AVE 1100</td>\n",
       "    </tr>\n",
       "    <tr>\n",
       "      <th>530</th>\n",
       "      <td>03RD ST 700</td>\n",
       "    </tr>\n",
       "    <tr>\n",
       "      <th>531</th>\n",
       "      <td>BAY ST 400</td>\n",
       "    </tr>\n",
       "    <tr>\n",
       "      <th>532</th>\n",
       "      <td>POLK ST 800</td>\n",
       "    </tr>\n",
       "    <tr>\n",
       "      <th>533</th>\n",
       "      <td>BALBOA ST 300</td>\n",
       "    </tr>\n",
       "  </tbody>\n",
       "</table>\n",
       "<p>534 rows × 1 columns</p>\n",
       "</div>"
      ],
      "text/plain": [
       "                      0\n",
       "0         CASTRO ST 500\n",
       "1         FOLSOM ST 800\n",
       "2       MISSION ST 4500\n",
       "3    CALIFORNIA ST 2400\n",
       "4          26TH ST 3400\n",
       "..                  ...\n",
       "529      TREAT AVE 1100\n",
       "530         03RD ST 700\n",
       "531          BAY ST 400\n",
       "532         POLK ST 800\n",
       "533       BALBOA ST 300\n",
       "\n",
       "[534 rows x 1 columns]"
      ]
     },
     "execution_count": 64,
     "metadata": {},
     "output_type": "execute_result"
    }
   ],
   "source": [
    "pd.DataFrame(data_df.street_block.unique())"
   ]
  },
  {
   "cell_type": "markdown",
   "metadata": {},
   "source": [
    "# Database Design "
   ]
  },
  {
   "cell_type": "code",
   "execution_count": 2,
   "metadata": {},
   "outputs": [],
   "source": [
    "#connect to postgres database \n",
    "conn = psycopg2.connect(database=\"donniedata\", user=config.db_user, password=config.db_password, sslmode=\"disable\")\n",
    "cur = conn.cursor();\n",
    "conn.autocommit = True"
   ]
  },
  {
   "cell_type": "markdown",
   "metadata": {},
   "source": [
    "## Tables"
   ]
  },
  {
   "cell_type": "code",
   "execution_count": 78,
   "metadata": {},
   "outputs": [],
   "source": [
    "#create transaction fact table \n",
    "sql = '''\n",
    "CREATE TABLE sf_ticket_trans.fact_transactions ( \n",
    "transmission_datetime TEXT,\n",
    "payment_type_id INTEGER,\n",
    "street_block_id INTEGER,\n",
    "post_id TEXT,\n",
    "meter_event_type TEXT,\n",
    "gross_paid_amt DECIMAL,\n",
    "session_start_dt TIMESTAMP,\n",
    "session_end_date TIMESTAMP\n",
    ")\n",
    "'''\n",
    "\n",
    "cur.execute(sql)"
   ]
  },
  {
   "cell_type": "code",
   "execution_count": 80,
   "metadata": {},
   "outputs": [],
   "source": [
    "#create payment type dimension table \n",
    "sql = '''\n",
    "CREATE TABLE sf_ticket_trans.dim_payment ( \n",
    "payment_type_id INTEGER,\n",
    "payment_type TEXT \n",
    ")\n",
    "'''\n",
    "\n",
    "cur.execute(sql)"
   ]
  },
  {
   "cell_type": "code",
   "execution_count": 17,
   "metadata": {},
   "outputs": [],
   "source": [
    "#create street dimension table \n",
    "sql = '''\n",
    "CREATE TABLE sf_ticket_trans.dim_street( \n",
    "street_block_id INTEGER,\n",
    "street_block TEXT\n",
    ")\n",
    "'''\n",
    "\n",
    "cur.execute(sql)"
   ]
  },
  {
   "cell_type": "code",
   "execution_count": null,
   "metadata": {},
   "outputs": [],
   "source": [
    "ALTER TABLE sf_ticket_trans.dim_street\n",
    "ALTER COLUMN street_block_id TYPE IDENTITY;\n",
    "  "
   ]
  },
  {
   "cell_type": "code",
   "execution_count": 15,
   "metadata": {},
   "outputs": [],
   "source": [
    "#update dimension tables id column to identy - auto incremting and cant be isnerted on \n",
    "sql = '''\n",
    "\n",
    "ALTER TABLE sf_ticket_trans.dim_payment\n",
    "ALTER COLUMN payment_type_id ADD GENERATED ALWAYS AS IDENTITY;\n",
    "  \n",
    "ALTER TABLE sf_ticket_trans.dim_street\n",
    "ALTER COLUMN street_block_id ADD GENERATED ALWAYS AS IDENTITY;\n",
    "  \n",
    "'''\n",
    "cur.execute(sql)"
   ]
  },
  {
   "cell_type": "markdown",
   "metadata": {},
   "source": [
    "## Constriants "
   ]
  },
  {
   "cell_type": "code",
   "execution_count": 129,
   "metadata": {},
   "outputs": [],
   "source": [
    "#add constraints to tables \n",
    "#transaction \n",
    "trans_constraint = '''\n",
    "ALTER TABLE sf_ticket_trans.fact_transactions\n",
    "ADD PRIMARY KEY (transmission_datetime),\n",
    "\n",
    "ADD CONSTRAINT fk_streetblockid FOREIGN KEY (street_block_id) \n",
    "    REFERENCES sf_ticket_trans.dim_street (street_block_id);\n",
    "\n",
    "'''\n",
    "\n",
    "\n",
    "\n",
    "cur.execute(trans_constraint)"
   ]
  },
  {
   "cell_type": "code",
   "execution_count": 114,
   "metadata": {},
   "outputs": [],
   "source": [
    "#dim_street\n",
    "street_constraint = '''\n",
    "\n",
    "ALTER TABLE sf_ticket_trans.dim_street\n",
    "ADD PRIMARY KEY (street_block_id),\n",
    "ADD CONSTRAINT unique_block UNIQUE (street_block)\n",
    "\n",
    "'''\n",
    "\n",
    "cur.execute(street_constraint)"
   ]
  },
  {
   "cell_type": "code",
   "execution_count": 127,
   "metadata": {},
   "outputs": [],
   "source": [
    "#dim_payment \n",
    "payment_constraint = '''\n",
    "ALTER TABLE sf_ticket_trans.dim_payment\n",
    "ADD PRIMARY KEY (payment_type_id),\n",
    "ADD CONSTRAINT unique_payment_type UNIQUE (payment_type)\n",
    "'''\n",
    "\n",
    "cur.execute(sql)"
   ]
  },
  {
   "cell_type": "markdown",
   "metadata": {},
   "source": [
    "## Review "
   ]
  },
  {
   "cell_type": "code",
   "execution_count": 94,
   "metadata": {},
   "outputs": [
    {
     "data": {
      "text/html": [
       "<div>\n",
       "<style scoped>\n",
       "    .dataframe tbody tr th:only-of-type {\n",
       "        vertical-align: middle;\n",
       "    }\n",
       "\n",
       "    .dataframe tbody tr th {\n",
       "        vertical-align: top;\n",
       "    }\n",
       "\n",
       "    .dataframe thead th {\n",
       "        text-align: right;\n",
       "    }\n",
       "</style>\n",
       "<table border=\"1\" class=\"dataframe\">\n",
       "  <thead>\n",
       "    <tr style=\"text-align: right;\">\n",
       "      <th></th>\n",
       "      <th>table_schema</th>\n",
       "      <th>table_name</th>\n",
       "    </tr>\n",
       "  </thead>\n",
       "  <tbody>\n",
       "    <tr>\n",
       "      <th>0</th>\n",
       "      <td>sf_ticket_trans</td>\n",
       "      <td>fact_transactions</td>\n",
       "    </tr>\n",
       "    <tr>\n",
       "      <th>1</th>\n",
       "      <td>sf_ticket_trans</td>\n",
       "      <td>dim_street</td>\n",
       "    </tr>\n",
       "    <tr>\n",
       "      <th>2</th>\n",
       "      <td>sf_ticket_trans</td>\n",
       "      <td>dim_payment</td>\n",
       "    </tr>\n",
       "  </tbody>\n",
       "</table>\n",
       "</div>"
      ],
      "text/plain": [
       "      table_schema         table_name\n",
       "0  sf_ticket_trans  fact_transactions\n",
       "1  sf_ticket_trans         dim_street\n",
       "2  sf_ticket_trans        dim_payment"
      ]
     },
     "execution_count": 94,
     "metadata": {},
     "output_type": "execute_result"
    }
   ],
   "source": [
    "#check tables \n",
    "sql = '''\n",
    "select table_schema, table_name from information_schema.tables where table_schema = 'sf_ticket_trans'\n",
    "'''\n",
    "cur.execute(sql)\n",
    "df = pd.DataFrame(cur.fetchall())\n",
    "df.columns = [i[0] for i in cur.description]\n",
    "df"
   ]
  },
  {
   "cell_type": "code",
   "execution_count": 134,
   "metadata": {},
   "outputs": [
    {
     "data": {
      "text/html": [
       "<div>\n",
       "<style scoped>\n",
       "    .dataframe tbody tr th:only-of-type {\n",
       "        vertical-align: middle;\n",
       "    }\n",
       "\n",
       "    .dataframe tbody tr th {\n",
       "        vertical-align: top;\n",
       "    }\n",
       "\n",
       "    .dataframe thead th {\n",
       "        text-align: right;\n",
       "    }\n",
       "</style>\n",
       "<table border=\"1\" class=\"dataframe\">\n",
       "  <thead>\n",
       "    <tr style=\"text-align: right;\">\n",
       "      <th></th>\n",
       "      <th>constraint_catalog</th>\n",
       "      <th>constraint_schema</th>\n",
       "      <th>constraint_name</th>\n",
       "      <th>table_catalog</th>\n",
       "      <th>table_schema</th>\n",
       "      <th>table_name</th>\n",
       "      <th>constraint_type</th>\n",
       "      <th>is_deferrable</th>\n",
       "      <th>initially_deferred</th>\n",
       "      <th>enforced</th>\n",
       "    </tr>\n",
       "  </thead>\n",
       "  <tbody>\n",
       "    <tr>\n",
       "      <th>0</th>\n",
       "      <td>donniedata</td>\n",
       "      <td>sf_ticket_trans</td>\n",
       "      <td>145793_145824_1_not_null</td>\n",
       "      <td>donniedata</td>\n",
       "      <td>sf_ticket_trans</td>\n",
       "      <td>dim_payment</td>\n",
       "      <td>CHECK</td>\n",
       "      <td>NO</td>\n",
       "      <td>NO</td>\n",
       "      <td>YES</td>\n",
       "    </tr>\n",
       "    <tr>\n",
       "      <th>1</th>\n",
       "      <td>donniedata</td>\n",
       "      <td>sf_ticket_trans</td>\n",
       "      <td>unique_payment_type</td>\n",
       "      <td>donniedata</td>\n",
       "      <td>sf_ticket_trans</td>\n",
       "      <td>dim_payment</td>\n",
       "      <td>UNIQUE</td>\n",
       "      <td>NO</td>\n",
       "      <td>NO</td>\n",
       "      <td>YES</td>\n",
       "    </tr>\n",
       "    <tr>\n",
       "      <th>2</th>\n",
       "      <td>donniedata</td>\n",
       "      <td>sf_ticket_trans</td>\n",
       "      <td>dim_payment_pkey</td>\n",
       "      <td>donniedata</td>\n",
       "      <td>sf_ticket_trans</td>\n",
       "      <td>dim_payment</td>\n",
       "      <td>PRIMARY KEY</td>\n",
       "      <td>NO</td>\n",
       "      <td>NO</td>\n",
       "      <td>YES</td>\n",
       "    </tr>\n",
       "    <tr>\n",
       "      <th>3</th>\n",
       "      <td>donniedata</td>\n",
       "      <td>sf_ticket_trans</td>\n",
       "      <td>145793_145818_1_not_null</td>\n",
       "      <td>donniedata</td>\n",
       "      <td>sf_ticket_trans</td>\n",
       "      <td>dim_street</td>\n",
       "      <td>CHECK</td>\n",
       "      <td>NO</td>\n",
       "      <td>NO</td>\n",
       "      <td>YES</td>\n",
       "    </tr>\n",
       "    <tr>\n",
       "      <th>4</th>\n",
       "      <td>donniedata</td>\n",
       "      <td>sf_ticket_trans</td>\n",
       "      <td>dim_street_pkey</td>\n",
       "      <td>donniedata</td>\n",
       "      <td>sf_ticket_trans</td>\n",
       "      <td>dim_street</td>\n",
       "      <td>PRIMARY KEY</td>\n",
       "      <td>NO</td>\n",
       "      <td>NO</td>\n",
       "      <td>YES</td>\n",
       "    </tr>\n",
       "    <tr>\n",
       "      <th>5</th>\n",
       "      <td>donniedata</td>\n",
       "      <td>sf_ticket_trans</td>\n",
       "      <td>unique_block</td>\n",
       "      <td>donniedata</td>\n",
       "      <td>sf_ticket_trans</td>\n",
       "      <td>dim_street</td>\n",
       "      <td>UNIQUE</td>\n",
       "      <td>NO</td>\n",
       "      <td>NO</td>\n",
       "      <td>YES</td>\n",
       "    </tr>\n",
       "    <tr>\n",
       "      <th>6</th>\n",
       "      <td>donniedata</td>\n",
       "      <td>sf_ticket_trans</td>\n",
       "      <td>145793_145812_1_not_null</td>\n",
       "      <td>donniedata</td>\n",
       "      <td>sf_ticket_trans</td>\n",
       "      <td>fact_transactions</td>\n",
       "      <td>CHECK</td>\n",
       "      <td>NO</td>\n",
       "      <td>NO</td>\n",
       "      <td>YES</td>\n",
       "    </tr>\n",
       "    <tr>\n",
       "      <th>7</th>\n",
       "      <td>donniedata</td>\n",
       "      <td>sf_ticket_trans</td>\n",
       "      <td>fact_transactions_pkey</td>\n",
       "      <td>donniedata</td>\n",
       "      <td>sf_ticket_trans</td>\n",
       "      <td>fact_transactions</td>\n",
       "      <td>PRIMARY KEY</td>\n",
       "      <td>NO</td>\n",
       "      <td>NO</td>\n",
       "      <td>YES</td>\n",
       "    </tr>\n",
       "    <tr>\n",
       "      <th>8</th>\n",
       "      <td>donniedata</td>\n",
       "      <td>sf_ticket_trans</td>\n",
       "      <td>fk_streetblockid</td>\n",
       "      <td>donniedata</td>\n",
       "      <td>sf_ticket_trans</td>\n",
       "      <td>fact_transactions</td>\n",
       "      <td>FOREIGN KEY</td>\n",
       "      <td>NO</td>\n",
       "      <td>NO</td>\n",
       "      <td>YES</td>\n",
       "    </tr>\n",
       "  </tbody>\n",
       "</table>\n",
       "</div>"
      ],
      "text/plain": [
       "  constraint_catalog constraint_schema           constraint_name  \\\n",
       "0         donniedata   sf_ticket_trans  145793_145824_1_not_null   \n",
       "1         donniedata   sf_ticket_trans       unique_payment_type   \n",
       "2         donniedata   sf_ticket_trans          dim_payment_pkey   \n",
       "3         donniedata   sf_ticket_trans  145793_145818_1_not_null   \n",
       "4         donniedata   sf_ticket_trans           dim_street_pkey   \n",
       "5         donniedata   sf_ticket_trans              unique_block   \n",
       "6         donniedata   sf_ticket_trans  145793_145812_1_not_null   \n",
       "7         donniedata   sf_ticket_trans    fact_transactions_pkey   \n",
       "8         donniedata   sf_ticket_trans          fk_streetblockid   \n",
       "\n",
       "  table_catalog     table_schema         table_name constraint_type  \\\n",
       "0    donniedata  sf_ticket_trans        dim_payment           CHECK   \n",
       "1    donniedata  sf_ticket_trans        dim_payment          UNIQUE   \n",
       "2    donniedata  sf_ticket_trans        dim_payment     PRIMARY KEY   \n",
       "3    donniedata  sf_ticket_trans         dim_street           CHECK   \n",
       "4    donniedata  sf_ticket_trans         dim_street     PRIMARY KEY   \n",
       "5    donniedata  sf_ticket_trans         dim_street          UNIQUE   \n",
       "6    donniedata  sf_ticket_trans  fact_transactions           CHECK   \n",
       "7    donniedata  sf_ticket_trans  fact_transactions     PRIMARY KEY   \n",
       "8    donniedata  sf_ticket_trans  fact_transactions     FOREIGN KEY   \n",
       "\n",
       "  is_deferrable initially_deferred enforced  \n",
       "0            NO                 NO      YES  \n",
       "1            NO                 NO      YES  \n",
       "2            NO                 NO      YES  \n",
       "3            NO                 NO      YES  \n",
       "4            NO                 NO      YES  \n",
       "5            NO                 NO      YES  \n",
       "6            NO                 NO      YES  \n",
       "7            NO                 NO      YES  \n",
       "8            NO                 NO      YES  "
      ]
     },
     "execution_count": 134,
     "metadata": {},
     "output_type": "execute_result"
    }
   ],
   "source": [
    "#review constraints \n",
    "sql = '''\n",
    "SELECT * FROM INFORMATION_SCHEMA.TABLE_CONSTRAINTS \n",
    "WHERE constraint_schema = 'sf_ticket_trans' ORDER BY  table_name\n",
    "'''\n",
    "cur.execute(sql)\n",
    "df = pd.DataFrame(cur.fetchall())\n",
    "df.columns = [i[0] for i in cur.description]\n",
    "df"
   ]
  },
  {
   "cell_type": "code",
   "execution_count": null,
   "metadata": {},
   "outputs": [],
   "source": []
  }
 ],
 "metadata": {
  "kernelspec": {
   "display_name": "PythonData",
   "language": "python",
   "name": "pythondata"
  },
  "language_info": {
   "codemirror_mode": {
    "name": "ipython",
    "version": 3
   },
   "file_extension": ".py",
   "mimetype": "text/x-python",
   "name": "python",
   "nbconvert_exporter": "python",
   "pygments_lexer": "ipython3",
   "version": "3.7.11"
  }
 },
 "nbformat": 4,
 "nbformat_minor": 4
}
