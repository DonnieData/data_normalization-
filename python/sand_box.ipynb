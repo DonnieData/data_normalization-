{
 "cells": [
  {
   "cell_type": "code",
   "execution_count": 99,
   "metadata": {},
   "outputs": [],
   "source": [
    "#import dependencies \n",
    "import pandas as pd \n",
    "import requests \n",
    "from sqlalchemy import create_engine\n",
    "import psycopg2\n",
    "import config \n",
    "import queries\n",
    "from datetime import datetime \n"
   ]
  },
  {
   "cell_type": "code",
   "execution_count": 106,
   "metadata": {},
   "outputs": [
    {
     "data": {
      "text/plain": [
       "6200000"
      ]
     },
     "execution_count": 106,
     "metadata": {},
     "output_type": "execute_result"
    }
   ],
   "source": [
    "200000 * 31"
   ]
  },
  {
   "cell_type": "code",
   "execution_count": null,
   "metadata": {},
   "outputs": [],
   "source": [
    "# get month and loop through each day ( will need current day and day after as between range)\n",
    "datetime.month.date"
   ]
  },
  {
   "cell_type": "code",
   "execution_count": 96,
   "metadata": {},
   "outputs": [],
   "source": [
    "#ampersand to chain filters\n",
    "#must set limit above expected data or default limt set to 1000\n",
    "api_url2 = \"https://data.sfgov.org/resource/imvp-dq3v.json?$limit=3000&$where=session_start_dt between '2022-08-01' and '2022-09-01'\"\n"
   ]
  },
  {
   "cell_type": "code",
   "execution_count": 118,
   "metadata": {},
   "outputs": [],
   "source": [
    "api_url = \"https://data.sfgov.org/resource/imvp-dq3v.json?$limit=100000&$where=session_start_dt between '2022-08-01' and '2022-08-02'\"\n"
   ]
  },
  {
   "cell_type": "code",
   "execution_count": 29,
   "metadata": {},
   "outputs": [],
   "source": [
    "class GetData():\n",
    "    #api request\n",
    "     def __init__(self, endpoint_url):\n",
    "        print(\"requesting data\")\n",
    "        self.endpoint = endpoint_url\n",
    "        self.response = requests.get(url=self.endpoint)\n",
    "        self.data = self.response.json() \n",
    "        print(\"data request complete\")\n",
    "    "
   ]
  },
  {
   "cell_type": "code",
   "execution_count": 93,
   "metadata": {},
   "outputs": [
    {
     "name": "stdout",
     "output_type": "stream",
     "text": [
      "requesting data\n",
      "data request complete\n"
     ]
    }
   ],
   "source": [
    "test1 = GetData(api_url2)"
   ]
  },
  {
   "cell_type": "code",
   "execution_count": 124,
   "metadata": {},
   "outputs": [
    {
     "name": "stdout",
     "output_type": "stream",
     "text": [
      "requesting data\n",
      "data request complete\n"
     ]
    }
   ],
   "source": [
    "test2 = GetData(api_url)"
   ]
  },
  {
   "cell_type": "code",
   "execution_count": 125,
   "metadata": {},
   "outputs": [
    {
     "data": {
      "text/plain": [
       "2646842"
      ]
     },
     "execution_count": 125,
     "metadata": {},
     "output_type": "execute_result"
    }
   ],
   "source": [
    "#test daily transactions size\n",
    "(len(test2.data) + 20000) * 31"
   ]
  }
 ],
 "metadata": {
  "kernelspec": {
   "display_name": "PythonData",
   "language": "python",
   "name": "pythondata"
  },
  "language_info": {
   "codemirror_mode": {
    "name": "ipython",
    "version": 3
   },
   "file_extension": ".py",
   "mimetype": "text/x-python",
   "name": "python",
   "nbconvert_exporter": "python",
   "pygments_lexer": "ipython3",
   "version": "3.7.11"
  }
 },
 "nbformat": 4,
 "nbformat_minor": 4
}
