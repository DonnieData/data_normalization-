{
 "cells": [
  {
   "cell_type": "code",
   "execution_count": 1,
   "metadata": {},
   "outputs": [],
   "source": [
    "#import dependencies \n",
    "import pandas as pd \n",
    "import requests \n",
    "from sqlalchemy import create_engine\n",
    "import psycopg2\n",
    "import config \n",
    "import queries\n",
    "from datetime import datetime\n",
    "import calendar\n"
   ]
  },
  {
   "cell_type": "code",
   "execution_count": null,
   "metadata": {},
   "outputs": [],
   "source": [
    "#use calendar library to get number of days in month\n",
    "#add +1 to second argument in range becuase python range starts at 0 not 1, calendar days start at 1 \n",
    "day_nums = [str(i) for i in range(1,calendar.monthrange(2022,8)[1]+1)]\n",
    "#convert days to to digits for correct format in url string\n",
    "day_nums = [('0'+ i) if len(i)==1 else i for i in day_nums]\n"
   ]
  },
  {
   "cell_type": "code",
   "execution_count": null,
   "metadata": {},
   "outputs": [],
   "source": []
  },
  {
   "cell_type": "code",
   "execution_count": 67,
   "metadata": {},
   "outputs": [
    {
     "data": {
      "text/plain": [
       "'2022-08-01'"
      ]
     },
     "execution_count": 67,
     "metadata": {},
     "output_type": "execute_result"
    }
   ],
   "source": [
    "str(datetime.date(dates[0]))"
   ]
  },
  {
   "cell_type": "code",
   "execution_count": 74,
   "metadata": {},
   "outputs": [],
   "source": [
    "# using a dates as a range is several times faster, will use ranges and optimize \n",
    "date_select = pd.date_range('2022-08-01','2022-09-01',freq='D')\n",
    "#extract date from datetime and convert to stirng \n",
    "dates = [str(datetime.date(i)) for i in dates]"
   ]
  },
  {
   "cell_type": "code",
   "execution_count": null,
   "metadata": {},
   "outputs": [],
   "source": [
    "strftime(\"%m/%d/%Y, %H:%M:%S\")"
   ]
  },
  {
   "cell_type": "code",
   "execution_count": 76,
   "metadata": {},
   "outputs": [
    {
     "data": {
      "text/plain": [
       "'2022-08-01'"
      ]
     },
     "execution_count": 76,
     "metadata": {},
     "output_type": "execute_result"
    }
   ],
   "source": [
    "dates[0] "
   ]
  },
  {
   "cell_type": "code",
   "execution_count": 30,
   "metadata": {},
   "outputs": [
    {
     "data": {
      "text/plain": [
       "'2022-00-08/01/22'"
      ]
     },
     "execution_count": 30,
     "metadata": {},
     "output_type": "execute_result"
    }
   ],
   "source": [
    "dates[0].strftime(\"%Y-%M-%D\")"
   ]
  },
  {
   "cell_type": "code",
   "execution_count": 46,
   "metadata": {},
   "outputs": [
    {
     "data": {
      "text/plain": [
       "range(0, 31)"
      ]
     },
     "execution_count": 46,
     "metadata": {},
     "output_type": "execute_result"
    }
   ],
   "source": [
    "range(len(dates)-1) "
   ]
  },
  {
   "cell_type": "code",
   "execution_count": 44,
   "metadata": {},
   "outputs": [
    {
     "data": {
      "text/plain": [
       "31"
      ]
     },
     "execution_count": 44,
     "metadata": {},
     "output_type": "execute_result"
    }
   ],
   "source": [
    "len(dates)"
   ]
  },
  {
   "cell_type": "code",
   "execution_count": null,
   "metadata": {},
   "outputs": [],
   "source": [
    "# get month and loop through each day ( will need current day and day after as between range)\n",
    "#dates  must be used as a range, cant select single date since original data is in timestamp \n",
    "for i in range(len(dates)-1): \n",
    "    print(f\"\"\"https://data.sfgov.org/resource/imvp-dq3v.json?$limit=100000\n",
    "            &$where=session_start_dt between '{dates[i]}' and '{dates[i+1]}'\"\"\")"
   ]
  },
  {
   "cell_type": "code",
   "execution_count": 88,
   "metadata": {},
   "outputs": [
    {
     "data": {
      "text/plain": [
       "\"https://data.sfgov.org/resource/imvp-dq3v.json?$limit=100000\\n            &$where=session_start_dt between '2022-08-31' and '2022-09-01'\""
      ]
     },
     "execution_count": 88,
     "metadata": {},
     "output_type": "execute_result"
    }
   ],
   "source": [
    "f\"\"\"https://data.sfgov.org/resource/imvp-dq3v.json?$limit=100000\n",
    "            &$where=session_start_dt between '{dates[i]}' and '{dates[i+1]}'\"\"\""
   ]
  },
  {
   "cell_type": "code",
   "execution_count": 58,
   "metadata": {},
   "outputs": [],
   "source": [
    "#ampersand to chain filters\n",
    "#must set limit above expected data or default limt set to 1000\n",
    "api_url1 = \"https://data.sfgov.org/resource/imvp-dq3v.json?$limit=100000&$where=session_start_dt between '2022-08-01' and '2022-08-02'\"\n"
   ]
  },
  {
   "cell_type": "code",
   "execution_count": null,
   "metadata": {},
   "outputs": [],
   "source": [
    "T00:00:00.000 '2022-08-01T00:22:03.000'\n"
   ]
  },
  {
   "cell_type": "code",
   "execution_count": 79,
   "metadata": {},
   "outputs": [],
   "source": [
    "api_url2 = f\"https://data.sfgov.org/resource/imvp-dq3v.json?$limit=100000&$where=session_start_dt between '{dates[0]}' and '{dates[1]}'\""
   ]
  },
  {
   "cell_type": "code",
   "execution_count": 3,
   "metadata": {},
   "outputs": [],
   "source": [
    "class GetData():\n",
    "    #api request\n",
    "     def __init__(self, endpoint_url):\n",
    "        print(\"requesting data\")\n",
    "        self.endpoint = endpoint_url\n",
    "        self.response = requests.get(url=self.endpoint)\n",
    "        self.data = self.response.json() \n",
    "        print(\"data request complete\")\n",
    "    "
   ]
  },
  {
   "cell_type": "code",
   "execution_count": 59,
   "metadata": {},
   "outputs": [
    {
     "name": "stdout",
     "output_type": "stream",
     "text": [
      "requesting data\n",
      "data request complete\n"
     ]
    }
   ],
   "source": [
    "test1 = GetData(api_url1)"
   ]
  },
  {
   "cell_type": "code",
   "execution_count": 87,
   "metadata": {},
   "outputs": [
    {
     "data": {
      "text/plain": [
       "2646842"
      ]
     },
     "execution_count": 87,
     "metadata": {},
     "output_type": "execute_result"
    }
   ],
   "source": [
    "(len(test1.data) +20000) * 31"
   ]
  },
  {
   "cell_type": "code",
   "execution_count": 61,
   "metadata": {},
   "outputs": [
    {
     "data": {
      "text/plain": [
       "'2022-08-01T00:22:03.000'"
      ]
     },
     "execution_count": 61,
     "metadata": {},
     "output_type": "execute_result"
    }
   ],
   "source": [
    "test1.data[0]['session_start_dt']"
   ]
  },
  {
   "cell_type": "code",
   "execution_count": 7,
   "metadata": {},
   "outputs": [
    {
     "name": "stdout",
     "output_type": "stream",
     "text": [
      "2022-08-01T00:22:03.000\n",
      "2022-08-01T23:46:50.000\n"
     ]
    }
   ],
   "source": [
    "df1 = pd.DataFrame(test1.data)\n",
    "print(df1.session_start_dt.min())\n",
    "print(df1.session_start_dt.max())"
   ]
  },
  {
   "cell_type": "code",
   "execution_count": 80,
   "metadata": {},
   "outputs": [
    {
     "name": "stdout",
     "output_type": "stream",
     "text": [
      "requesting data\n",
      "data request complete\n"
     ]
    }
   ],
   "source": [
    "test2 = GetData(api_url2)"
   ]
  },
  {
   "cell_type": "code",
   "execution_count": 81,
   "metadata": {},
   "outputs": [
    {
     "data": {
      "text/plain": [
       "{'transmission_datetime': '-6708946392_11_08012022002203',\n",
       " 'post_id': '854-29140',\n",
       " 'street_block': 'LEAVENWORTH ST 2900',\n",
       " 'payment_type': 'CREDIT CARD',\n",
       " 'session_start_dt': '2022-08-01T00:22:03.000',\n",
       " 'session_end_dt': '2022-07-31T16:16:48.000',\n",
       " 'meter_event_type': 'AT',\n",
       " 'gross_paid_amt': '10.69'}"
      ]
     },
     "execution_count": 81,
     "metadata": {},
     "output_type": "execute_result"
    }
   ],
   "source": [
    "test2.data[0]"
   ]
  },
  {
   "cell_type": "code",
   "execution_count": 83,
   "metadata": {},
   "outputs": [
    {
     "data": {
      "text/plain": [
       "65382"
      ]
     },
     "execution_count": 83,
     "metadata": {},
     "output_type": "execute_result"
    }
   ],
   "source": [
    "len(test2.data)"
   ]
  },
  {
   "cell_type": "code",
   "execution_count": 82,
   "metadata": {},
   "outputs": [
    {
     "name": "stdout",
     "output_type": "stream",
     "text": [
      "2022-08-01T00:22:03.000\n",
      "2022-08-01T23:46:50.000\n"
     ]
    }
   ],
   "source": [
    "df2 = pd.DataFrame(test2.data)\n",
    "print(df2.session_start_dt.min())\n",
    "print(df2.session_start_dt.max())"
   ]
  },
  {
   "cell_type": "code",
   "execution_count": null,
   "metadata": {},
   "outputs": [],
   "source": []
  },
  {
   "cell_type": "code",
   "execution_count": 11,
   "metadata": {},
   "outputs": [
    {
     "data": {
      "text/plain": [
       "3000"
      ]
     },
     "execution_count": 11,
     "metadata": {},
     "output_type": "execute_result"
    }
   ],
   "source": [
    "len(test2.data)"
   ]
  },
  {
   "cell_type": "code",
   "execution_count": null,
   "metadata": {},
   "outputs": [],
   "source": [
    "df = pd.DataFrame(test2.data)"
   ]
  },
  {
   "cell_type": "code",
   "execution_count": null,
   "metadata": {},
   "outputs": [],
   "source": [
    "df"
   ]
  },
  {
   "cell_type": "code",
   "execution_count": null,
   "metadata": {},
   "outputs": [],
   "source": []
  }
 ],
 "metadata": {
  "kernelspec": {
   "display_name": "PythonData",
   "language": "python",
   "name": "pythondata"
  },
  "language_info": {
   "codemirror_mode": {
    "name": "ipython",
    "version": 3
   },
   "file_extension": ".py",
   "mimetype": "text/x-python",
   "name": "python",
   "nbconvert_exporter": "python",
   "pygments_lexer": "ipython3",
   "version": "3.7.11"
  }
 },
 "nbformat": 4,
 "nbformat_minor": 4
}
