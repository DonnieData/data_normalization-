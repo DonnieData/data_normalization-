{
 "cells": [
  {
   "cell_type": "code",
   "execution_count": 1,
   "metadata": {},
   "outputs": [],
   "source": [
    "#import dependencies \n",
    "import pandas as pd \n",
    "import requests \n",
    "from sqlalchemy import create_engine\n",
    "import psycopg2\n",
    "import config \n",
    "import queries\n"
   ]
  },
  {
   "cell_type": "code",
   "execution_count": 2,
   "metadata": {},
   "outputs": [],
   "source": [
    "class GetData():\n",
    "    #api request\n",
    "     def __init__(self):\n",
    "        print(\"requesting data\")\n",
    "        self.endpoint = \"https://data.sfgov.org/resource/imvp-dq3v.json?$limit=1000\"\n",
    "        self.response = requests.get(url=self.endpoint)\n",
    "        self.data = self.response.json() \n",
    "        print(\"data request complete\")\n",
    "    \n",
    "    \n",
    "#insert data into database schema   \n",
    "class InsertData():\n",
    "    \n",
    "    #connect to databse \n",
    "    def __init__(self, data):\n",
    "        conn = psycopg2.connect(database=\"donniedata\", user=config.db_user, \n",
    "                                password=config.db_password, sslmode=\"disable\")\n",
    "        cur = conn.cursor();  \n",
    "        conn.autocommit = True\n",
    "        \n",
    "        #insert data into dimension tables -- perfromed first due to FK constraints\n",
    "        print(\"inserting dimension tables\")\n",
    "        for i in range(len(data)): \n",
    "            #dim_payment\n",
    "            cur.execute(queries.dim_paymeny_insert, {'payment':data[i]['payment_type']})\n",
    "        for i in range(len(data)): \n",
    "            #dim_street\n",
    "            cur.execute(queries.dim_street_insert, {'street':data[i]['street_block']})\n",
    "            \n",
    "        #insert data into fact table \n",
    "        print(\"--Fact Table--\")\n",
    "        counter = 0\n",
    "        size = len(data)\n",
    "        for i in range(len(data)):\n",
    "            cur.execute(queries.fact_tran_insert, {\n",
    "                     'transmission_dt' : data[i]['transmission_datetime'],\n",
    "                     'payment': data[i]['payment_type'],\n",
    "                     'street': data[i]['street_block'],\n",
    "                     'post' : data[i]['post_id'],\n",
    "                     'meter_event': data[i]['meter_event_type'],\n",
    "                     'paid_amt': data[i]['gross_paid_amt'],\n",
    "                     'sessionstart' : data[i]['session_start_dt'],\n",
    "                     'sessionend': data[i]['session_end_dt']\n",
    "                    })\n",
    "            counter += 1 \n",
    "            if counter % 100 == 0:\n",
    "                print(f\"{counter} of {size} isnerted\")"
   ]
  },
  {
   "cell_type": "code",
   "execution_count": 3,
   "metadata": {},
   "outputs": [
    {
     "name": "stdout",
     "output_type": "stream",
     "text": [
      "requesting data\n",
      "data request complete\n",
      "inserting dimension tables\n",
      "--Fact Table--\n",
      "100 of 1000 isnerted\n",
      "200 of 1000 isnerted\n",
      "300 of 1000 isnerted\n",
      "400 of 1000 isnerted\n",
      "500 of 1000 isnerted\n",
      "600 of 1000 isnerted\n",
      "700 of 1000 isnerted\n",
      "800 of 1000 isnerted\n",
      "900 of 1000 isnerted\n",
      "1000 of 1000 isnerted\n"
     ]
    }
   ],
   "source": [
    "response_data = GetData()\n",
    "insert = InsertData(response_data.data)"
   ]
  }
 ],
 "metadata": {
  "kernelspec": {
   "display_name": "PythonData",
   "language": "python",
   "name": "pythondata"
  },
  "language_info": {
   "codemirror_mode": {
    "name": "ipython",
    "version": 3
   },
   "file_extension": ".py",
   "mimetype": "text/x-python",
   "name": "python",
   "nbconvert_exporter": "python",
   "pygments_lexer": "ipython3",
   "version": "3.7.11"
  }
 },
 "nbformat": 4,
 "nbformat_minor": 4
}
