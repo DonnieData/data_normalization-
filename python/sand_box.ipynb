{
 "cells": [
  {
   "cell_type": "code",
   "execution_count": 142,
   "metadata": {},
   "outputs": [],
   "source": [
    "#import dependencies \n",
    "import pandas as pd \n",
    "import requests \n",
    "from sqlalchemy import create_engine\n",
    "import psycopg2\n",
    "import config \n",
    "import queries\n",
    "from datetime import datetime\n",
    "import calendar\n"
   ]
  },
  {
   "cell_type": "code",
   "execution_count": 173,
   "metadata": {},
   "outputs": [],
   "source": [
    "#use calendar library to get number of days in month\n",
    "#add +1 to second argument in range becuase python range starts at 0 not 1, calendar days start at 1 \n",
    "day_nums = [i for i in range(1,calendar.monthrange(2022,8)[1]+1)]\n",
    "\n"
   ]
  },
  {
   "cell_type": "code",
   "execution_count": 176,
   "metadata": {},
   "outputs": [
    {
     "data": {
      "text/plain": [
       "[1,\n",
       " 2,\n",
       " 3,\n",
       " 4,\n",
       " 5,\n",
       " 6,\n",
       " 7,\n",
       " 8,\n",
       " 9,\n",
       " 10,\n",
       " 11,\n",
       " 12,\n",
       " 13,\n",
       " 14,\n",
       " 15,\n",
       " 16,\n",
       " 17,\n",
       " 18,\n",
       " 19,\n",
       " 20,\n",
       " 21,\n",
       " 22,\n",
       " 23,\n",
       " 24,\n",
       " 25,\n",
       " 26,\n",
       " 27,\n",
       " 28,\n",
       " 29,\n",
       " 30,\n",
       " 31]"
      ]
     },
     "execution_count": 176,
     "metadata": {},
     "output_type": "execute_result"
    }
   ],
   "source": [
    "day_nums"
   ]
  },
  {
   "cell_type": "code",
   "execution_count": 175,
   "metadata": {},
   "outputs": [
    {
     "name": "stdout",
     "output_type": "stream",
     "text": [
      "https://data.sfgov.org/resource/imvp-dq3v.json?$limit=100000&\n",
      "            $where=session_start_dt between '2022-08-1' and '2022-08-1'\n",
      "https://data.sfgov.org/resource/imvp-dq3v.json?$limit=100000&\n",
      "            $where=session_start_dt between '2022-08-2' and '2022-08-2'\n",
      "https://data.sfgov.org/resource/imvp-dq3v.json?$limit=100000&\n",
      "            $where=session_start_dt between '2022-08-3' and '2022-08-3'\n",
      "https://data.sfgov.org/resource/imvp-dq3v.json?$limit=100000&\n",
      "            $where=session_start_dt between '2022-08-4' and '2022-08-4'\n",
      "https://data.sfgov.org/resource/imvp-dq3v.json?$limit=100000&\n",
      "            $where=session_start_dt between '2022-08-5' and '2022-08-5'\n",
      "https://data.sfgov.org/resource/imvp-dq3v.json?$limit=100000&\n",
      "            $where=session_start_dt between '2022-08-6' and '2022-08-6'\n",
      "https://data.sfgov.org/resource/imvp-dq3v.json?$limit=100000&\n",
      "            $where=session_start_dt between '2022-08-7' and '2022-08-7'\n",
      "https://data.sfgov.org/resource/imvp-dq3v.json?$limit=100000&\n",
      "            $where=session_start_dt between '2022-08-8' and '2022-08-8'\n",
      "https://data.sfgov.org/resource/imvp-dq3v.json?$limit=100000&\n",
      "            $where=session_start_dt between '2022-08-9' and '2022-08-9'\n",
      "https://data.sfgov.org/resource/imvp-dq3v.json?$limit=100000&\n",
      "            $where=session_start_dt between '2022-08-10' and '2022-08-10'\n",
      "https://data.sfgov.org/resource/imvp-dq3v.json?$limit=100000&\n",
      "            $where=session_start_dt between '2022-08-11' and '2022-08-11'\n",
      "https://data.sfgov.org/resource/imvp-dq3v.json?$limit=100000&\n",
      "            $where=session_start_dt between '2022-08-12' and '2022-08-12'\n",
      "https://data.sfgov.org/resource/imvp-dq3v.json?$limit=100000&\n",
      "            $where=session_start_dt between '2022-08-13' and '2022-08-13'\n",
      "https://data.sfgov.org/resource/imvp-dq3v.json?$limit=100000&\n",
      "            $where=session_start_dt between '2022-08-14' and '2022-08-14'\n",
      "https://data.sfgov.org/resource/imvp-dq3v.json?$limit=100000&\n",
      "            $where=session_start_dt between '2022-08-15' and '2022-08-15'\n",
      "https://data.sfgov.org/resource/imvp-dq3v.json?$limit=100000&\n",
      "            $where=session_start_dt between '2022-08-16' and '2022-08-16'\n",
      "https://data.sfgov.org/resource/imvp-dq3v.json?$limit=100000&\n",
      "            $where=session_start_dt between '2022-08-17' and '2022-08-17'\n",
      "https://data.sfgov.org/resource/imvp-dq3v.json?$limit=100000&\n",
      "            $where=session_start_dt between '2022-08-18' and '2022-08-18'\n",
      "https://data.sfgov.org/resource/imvp-dq3v.json?$limit=100000&\n",
      "            $where=session_start_dt between '2022-08-19' and '2022-08-19'\n",
      "https://data.sfgov.org/resource/imvp-dq3v.json?$limit=100000&\n",
      "            $where=session_start_dt between '2022-08-20' and '2022-08-20'\n",
      "https://data.sfgov.org/resource/imvp-dq3v.json?$limit=100000&\n",
      "            $where=session_start_dt between '2022-08-21' and '2022-08-21'\n",
      "https://data.sfgov.org/resource/imvp-dq3v.json?$limit=100000&\n",
      "            $where=session_start_dt between '2022-08-22' and '2022-08-22'\n",
      "https://data.sfgov.org/resource/imvp-dq3v.json?$limit=100000&\n",
      "            $where=session_start_dt between '2022-08-23' and '2022-08-23'\n",
      "https://data.sfgov.org/resource/imvp-dq3v.json?$limit=100000&\n",
      "            $where=session_start_dt between '2022-08-24' and '2022-08-24'\n",
      "https://data.sfgov.org/resource/imvp-dq3v.json?$limit=100000&\n",
      "            $where=session_start_dt between '2022-08-25' and '2022-08-25'\n",
      "https://data.sfgov.org/resource/imvp-dq3v.json?$limit=100000&\n",
      "            $where=session_start_dt between '2022-08-26' and '2022-08-26'\n",
      "https://data.sfgov.org/resource/imvp-dq3v.json?$limit=100000&\n",
      "            $where=session_start_dt between '2022-08-27' and '2022-08-27'\n",
      "https://data.sfgov.org/resource/imvp-dq3v.json?$limit=100000&\n",
      "            $where=session_start_dt between '2022-08-28' and '2022-08-28'\n",
      "https://data.sfgov.org/resource/imvp-dq3v.json?$limit=100000&\n",
      "            $where=session_start_dt between '2022-08-29' and '2022-08-29'\n",
      "https://data.sfgov.org/resource/imvp-dq3v.json?$limit=100000&\n",
      "            $where=session_start_dt between '2022-08-30' and '2022-08-30'\n",
      "https://data.sfgov.org/resource/imvp-dq3v.json?$limit=100000&\n",
      "            $where=session_start_dt between '2022-08-31' and '2022-08-31'\n"
     ]
    }
   ],
   "source": [
    "# get month and loop through each day ( will need current day and day after as between range)\n",
    "for i in day_nums: \n",
    "    print(f\"\"\"https://data.sfgov.org/resource/imvp-dq3v.json?$limit=100000&\n",
    "            $where=session_start_dt between '2022-08-{i}' and '2022-08-{i}'\"\"\")"
   ]
  },
  {
   "cell_type": "code",
   "execution_count": 96,
   "metadata": {},
   "outputs": [],
   "source": [
    "#ampersand to chain filters\n",
    "#must set limit above expected data or default limt set to 1000\n",
    "api_url2 = \"https://data.sfgov.org/resource/imvp-dq3v.json?$limit=3000&$where=session_start_dt between '2022-08-01' and '2022-09-01'\"\n"
   ]
  },
  {
   "cell_type": "code",
   "execution_count": 118,
   "metadata": {},
   "outputs": [],
   "source": [
    "api_url = \"https://data.sfgov.org/resource/imvp-dq3v.json?$limit=100000&$where=session_start_dt between '2022-08-01' and '2022-08-02'\"\n"
   ]
  },
  {
   "cell_type": "code",
   "execution_count": 29,
   "metadata": {},
   "outputs": [],
   "source": [
    "class GetData():\n",
    "    #api request\n",
    "     def __init__(self, endpoint_url):\n",
    "        print(\"requesting data\")\n",
    "        self.endpoint = endpoint_url\n",
    "        self.response = requests.get(url=self.endpoint)\n",
    "        self.data = self.response.json() \n",
    "        print(\"data request complete\")\n",
    "    "
   ]
  },
  {
   "cell_type": "code",
   "execution_count": 93,
   "metadata": {},
   "outputs": [
    {
     "name": "stdout",
     "output_type": "stream",
     "text": [
      "requesting data\n",
      "data request complete\n"
     ]
    }
   ],
   "source": [
    "test1 = GetData(api_url2)"
   ]
  },
  {
   "cell_type": "code",
   "execution_count": 124,
   "metadata": {},
   "outputs": [
    {
     "name": "stdout",
     "output_type": "stream",
     "text": [
      "requesting data\n",
      "data request complete\n"
     ]
    }
   ],
   "source": [
    "test2 = GetData(api_url)"
   ]
  },
  {
   "cell_type": "code",
   "execution_count": 125,
   "metadata": {},
   "outputs": [
    {
     "data": {
      "text/plain": [
       "2646842"
      ]
     },
     "execution_count": 125,
     "metadata": {},
     "output_type": "execute_result"
    }
   ],
   "source": [
    "#test daily transactions size\n",
    "(len(test2.data) + 20000) * 31"
   ]
  },
  {
   "cell_type": "code",
   "execution_count": 128,
   "metadata": {},
   "outputs": [],
   "source": [
    "df = pd.DataFrame(test2.data)"
   ]
  },
  {
   "cell_type": "code",
   "execution_count": null,
   "metadata": {},
   "outputs": [],
   "source": []
  }
 ],
 "metadata": {
  "kernelspec": {
   "display_name": "PythonData",
   "language": "python",
   "name": "pythondata"
  },
  "language_info": {
   "codemirror_mode": {
    "name": "ipython",
    "version": 3
   },
   "file_extension": ".py",
   "mimetype": "text/x-python",
   "name": "python",
   "nbconvert_exporter": "python",
   "pygments_lexer": "ipython3",
   "version": "3.7.11"
  }
 },
 "nbformat": 4,
 "nbformat_minor": 4
}
