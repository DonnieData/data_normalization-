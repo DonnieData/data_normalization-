{
 "cells": [
  {
   "cell_type": "code",
   "execution_count": 1,
   "metadata": {},
   "outputs": [],
   "source": [
    "#import dependencies \n",
    "import pandas as pd \n",
    "import requests \n",
    "from sqlalchemy import create_engine\n",
    "import psycopg2\n",
    "import config \n",
    "import queries\n",
    "from datetime import datetime\n",
    "import calendar"
   ]
  },
  {
   "cell_type": "code",
   "execution_count": 74,
   "metadata": {},
   "outputs": [],
   "source": [
    "# using a dates as a range is several times faster, will use ranges and optimize \n",
    "date_select = pd.date_range('2022-08-01','2022-09-01',freq='D')\n",
    "#extract date from datetime and convert to stirng \n",
    "dates = [str(datetime.date(i)) for i in dates]"
   ]
  },
  {
   "cell_type": "code",
   "execution_count": null,
   "metadata": {},
   "outputs": [],
   "source": [
    "strftime(\"%m/%d/%Y, %H:%M:%S\")"
   ]
  },
  {
   "cell_type": "code",
   "execution_count": 76,
   "metadata": {},
   "outputs": [
    {
     "data": {
      "text/plain": [
       "'2022-08-01'"
      ]
     },
     "execution_count": 76,
     "metadata": {},
     "output_type": "execute_result"
    }
   ],
   "source": [
    "dates[0] "
   ]
  },
  {
   "cell_type": "code",
   "execution_count": 30,
   "metadata": {},
   "outputs": [
    {
     "data": {
      "text/plain": [
       "'2022-00-08/01/22'"
      ]
     },
     "execution_count": 30,
     "metadata": {},
     "output_type": "execute_result"
    }
   ],
   "source": [
    "dates[0].strftime(\"%Y-%M-%D\")"
   ]
  },
  {
   "cell_type": "code",
   "execution_count": 46,
   "metadata": {},
   "outputs": [
    {
     "data": {
      "text/plain": [
       "range(0, 31)"
      ]
     },
     "execution_count": 46,
     "metadata": {},
     "output_type": "execute_result"
    }
   ],
   "source": [
    "range(len(dates)-1) "
   ]
  },
  {
   "cell_type": "code",
   "execution_count": 44,
   "metadata": {},
   "outputs": [
    {
     "data": {
      "text/plain": [
       "31"
      ]
     },
     "execution_count": 44,
     "metadata": {},
     "output_type": "execute_result"
    }
   ],
   "source": [
    "len(dates)"
   ]
  },
  {
   "cell_type": "code",
   "execution_count": 2,
   "metadata": {},
   "outputs": [],
   "source": [
    "#ampersand to chain filters\n",
    "#must set limit above expected data or default limt set to 1000\n",
    "api_url1 = \"https://data.sfgov.org/resource/imvp-dq3v.json?$limit=100000&$where=session_start_dt between '2022-08-01' and '2022-08-02'\"\n"
   ]
  },
  {
   "cell_type": "code",
   "execution_count": 472,
   "metadata": {},
   "outputs": [],
   "source": [
    "class GetData():\n",
    "    #api request\n",
    "     def __init__(self, endpoint_url):\n",
    "        self.endpoint = endpoint_url\n",
    "        self.response = requests.get(url=self.endpoint)\n",
    "        self.data = self.response.json() "
   ]
  },
  {
   "cell_type": "code",
   "execution_count": 309,
   "metadata": {},
   "outputs": [
    {
     "name": "stdout",
     "output_type": "stream",
     "text": [
      "requesting data\n",
      "data request complete\n"
     ]
    }
   ],
   "source": [
    "test1 = GetData(api_url1)"
   ]
  },
  {
   "cell_type": "code",
   "execution_count": 310,
   "metadata": {},
   "outputs": [
    {
     "data": {
      "text/plain": [
       "65382"
      ]
     },
     "execution_count": 310,
     "metadata": {},
     "output_type": "execute_result"
    }
   ],
   "source": [
    "len(test1.data)"
   ]
  },
  {
   "cell_type": "markdown",
   "metadata": {},
   "source": [
    "-------"
   ]
  },
  {
   "cell_type": "code",
   "execution_count": 362,
   "metadata": {},
   "outputs": [],
   "source": [
    "for i in range(len(test1.data)):\n",
    "    #test1.data[i]['time_extract'] = datetime.strptime(test1.data[0]['session_start_dt'], '%Y-%m-%dT%H:%M:%S.%f').time()"
   ]
  },
  {
   "cell_type": "code",
   "execution_count": null,
   "metadata": {},
   "outputs": [],
   "source": [
    "for i in range(len(test1.data)):\n",
    "    test1.data[i]['minute']"
   ]
  },
  {
   "cell_type": "code",
   "execution_count": 463,
   "metadata": {},
   "outputs": [],
   "source": [
    "def group_time(time_string):\n",
    "    time_extract = datetime.strptime(time_string,'%Y-%m-%dT%H:%M:%S.%f').time()\n",
    "    hour_extract = time_extract.strftime('%H')\n",
    "    minute_grouped = str(round(time_extract.minute / 5) *5) \n",
    "    time_group = datetime.strptime(hour_extract + minute_grouped, '%H%M').time()\n",
    "    return time_group"
   ]
  },
  {
   "cell_type": "code",
   "execution_count": 471,
   "metadata": {},
   "outputs": [
    {
     "name": "stdout",
     "output_type": "stream",
     "text": [
      "05:20:00\n",
      "14:15:00\n"
     ]
    }
   ],
   "source": [
    "group_time('2022-08-01T11:00:24.000')\n",
    "group_time('2022-08-01T05:21:31.000')\n",
    "group_time('2022-08-01T11:54:00.000')\n",
    "print(group_time('2022-08-01T05:21:31.000'))\n",
    "print(group_time('2022-08-01T14:15:00.000'))"
   ]
  },
  {
   "cell_type": "code",
   "execution_count": 469,
   "metadata": {},
   "outputs": [
    {
     "data": {
      "text/plain": [
       "[{'transmission_datetime': '232340114_4_08012022054718',\n",
       "  'post_id': '614-08130',\n",
       "  'street_block': 'POST ST 800',\n",
       "  'payment_type': 'CASH',\n",
       "  'session_start_dt': '2022-08-01T05:47:18.000',\n",
       "  'session_end_dt': '2022-08-01T09:20:00.000',\n",
       "  'meter_event_type': 'NS',\n",
       "  'gross_paid_amt': '0.25',\n",
       "  'time_extract': datetime.time(0, 22, 3)},\n",
       " {'transmission_datetime': '-6708946373_11_08012022054723',\n",
       "  'post_id': '869-08220',\n",
       "  'street_block': 'TERRY A FRANCOIS BLVD 800',\n",
       "  'payment_type': 'CREDIT CARD',\n",
       "  'session_start_dt': '2022-08-01T05:47:23.000',\n",
       "  'session_end_dt': '2022-08-01T09:00:23.000',\n",
       "  'meter_event_type': 'NS',\n",
       "  'gross_paid_amt': '2.5',\n",
       "  'time_extract': datetime.time(0, 22, 3)},\n",
       " {'transmission_datetime': '232340113_4_08012022054744',\n",
       "  'post_id': '600-16340',\n",
       "  'street_block': 'PACIFIC AVE 1600',\n",
       "  'payment_type': 'CREDIT CARD',\n",
       "  'session_start_dt': '2022-08-01T05:47:44.000',\n",
       "  'session_end_dt': '2022-08-01T11:00:00.000',\n",
       "  'meter_event_type': 'NS',\n",
       "  'gross_paid_amt': '4.5',\n",
       "  'time_extract': datetime.time(0, 22, 3)},\n",
       " {'transmission_datetime': '-6708946361_11_08012022054750',\n",
       "  'post_id': '491-11004',\n",
       "  'street_block': 'INDIANA ST 1100',\n",
       "  'payment_type': 'CREDIT CARD',\n",
       "  'session_start_dt': '2022-08-01T05:47:50.000',\n",
       "  'session_end_dt': '2022-08-01T11:01:24.000',\n",
       "  'meter_event_type': 'NS',\n",
       "  'gross_paid_amt': '2.5',\n",
       "  'time_extract': datetime.time(0, 22, 3)},\n",
       " {'transmission_datetime': '-6708946360_11_08012022054800',\n",
       "  'post_id': '419-04340',\n",
       "  'street_block': 'FRANKLIN ST 400',\n",
       "  'payment_type': 'CREDIT CARD',\n",
       "  'session_start_dt': '2022-08-01T05:48:00.000',\n",
       "  'session_end_dt': '2022-08-01T14:00:00.000',\n",
       "  'meter_event_type': 'NS',\n",
       "  'gross_paid_amt': '1.75',\n",
       "  'time_extract': datetime.time(0, 22, 3)},\n",
       " {'transmission_datetime': '232340115_4_08012022054807',\n",
       "  'post_id': '606-01050',\n",
       "  'street_block': 'PINE ST 100',\n",
       "  'payment_type': 'CREDIT CARD',\n",
       "  'session_start_dt': '2022-08-01T05:48:07.000',\n",
       "  'session_end_dt': '2022-08-01T08:41:15.000',\n",
       "  'meter_event_type': 'NS',\n",
       "  'gross_paid_amt': '6.75',\n",
       "  'time_extract': datetime.time(0, 22, 3)},\n",
       " {'transmission_datetime': '232340116_4_08012022055029',\n",
       "  'post_id': '419-04120',\n",
       "  'street_block': 'FRANKLIN ST 400',\n",
       "  'payment_type': 'CREDIT CARD',\n",
       "  'session_start_dt': '2022-08-01T05:50:29.000',\n",
       "  'session_end_dt': '2022-08-01T13:00:00.000',\n",
       "  'meter_event_type': 'NS',\n",
       "  'gross_paid_amt': '6.75',\n",
       "  'time_extract': datetime.time(0, 22, 3)},\n",
       " {'transmission_datetime': '232340117_4_08012022055053',\n",
       "  'post_id': '827-03140',\n",
       "  'street_block': 'CHINA BASIN ST 300',\n",
       "  'payment_type': 'CREDIT CARD',\n",
       "  'session_start_dt': '2022-08-01T05:50:53.000',\n",
       "  'session_end_dt': '2022-08-01T14:15:00.000',\n",
       "  'meter_event_type': 'NS',\n",
       "  'gross_paid_amt': '12',\n",
       "  'time_extract': datetime.time(0, 22, 3)},\n",
       " {'transmission_datetime': '-6708946368_11_08012022055100',\n",
       "  'post_id': '542-01050',\n",
       "  'street_block': 'LARKIN ST 100',\n",
       "  'payment_type': 'CREDIT CARD',\n",
       "  'session_start_dt': '2022-08-01T05:51:00.000',\n",
       "  'session_end_dt': '2022-08-01T11:00:00.000',\n",
       "  'meter_event_type': 'NS',\n",
       "  'gross_paid_amt': '2',\n",
       "  'time_extract': datetime.time(0, 22, 3)},\n",
       " {'transmission_datetime': '232340118_4_08012022055131',\n",
       "  'post_id': '720-05160',\n",
       "  'street_block': 'WASHINGTON ST 500',\n",
       "  'payment_type': 'CREDIT CARD',\n",
       "  'session_start_dt': '2022-08-01T05:51:31.000',\n",
       "  'session_end_dt': '2022-08-01T09:17:09.000',\n",
       "  'meter_event_type': 'NS',\n",
       "  'gross_paid_amt': '8',\n",
       "  'time_extract': datetime.time(0, 22, 3)},\n",
       " {'transmission_datetime': '232345959_4_08012022055143',\n",
       "  'post_id': '500-01220',\n",
       "  'street_block': 'JACKSON ST 100',\n",
       "  'payment_type': 'CREDIT CARD',\n",
       "  'session_start_dt': '2022-08-01T05:51:43.000',\n",
       "  'session_end_dt': '2022-08-01T09:02:30.000',\n",
       "  'meter_event_type': 'NS',\n",
       "  'gross_paid_amt': '0.25',\n",
       "  'time_extract': datetime.time(0, 22, 3)},\n",
       " {'transmission_datetime': '232340119_4_08012022055150',\n",
       "  'post_id': '666-24110',\n",
       "  'street_block': 'SUTTER ST 2400',\n",
       "  'payment_type': 'CREDIT CARD',\n",
       "  'session_start_dt': '2022-08-01T05:51:50.000',\n",
       "  'session_end_dt': '2022-08-01T11:00:00.000',\n",
       "  'meter_event_type': 'NS',\n",
       "  'gross_paid_amt': '4.5',\n",
       "  'time_extract': datetime.time(0, 22, 3)},\n",
       " {'transmission_datetime': '-6708946358_11_08012022055200',\n",
       "  'post_id': '324-05330',\n",
       "  'street_block': 'BATTERY ST 500',\n",
       "  'payment_type': 'CREDIT CARD',\n",
       "  'session_start_dt': '2022-08-01T05:52:00.000',\n",
       "  'session_end_dt': '2022-08-01T18:00:00.000',\n",
       "  'meter_event_type': 'NS',\n",
       "  'gross_paid_amt': '4.95',\n",
       "  'time_extract': datetime.time(0, 22, 3)},\n",
       " {'transmission_datetime': '-6708946359_11_08012022055200',\n",
       "  'post_id': '491-06003',\n",
       "  'street_block': 'INDIANA ST 600',\n",
       "  'payment_type': 'CREDIT CARD',\n",
       "  'session_start_dt': '2022-08-01T05:52:00.000',\n",
       "  'session_end_dt': '2022-08-01T13:00:21.000',\n",
       "  'meter_event_type': 'NS',\n",
       "  'gross_paid_amt': '14',\n",
       "  'time_extract': datetime.time(0, 22, 3)},\n",
       " {'transmission_datetime': '232340122_4_08012022055308',\n",
       "  'post_id': '606-04270',\n",
       "  'street_block': 'PINE ST 400',\n",
       "  'payment_type': 'CASH',\n",
       "  'session_start_dt': '2022-08-01T05:53:08.000',\n",
       "  'session_end_dt': '2022-08-01T07:20:48.000',\n",
       "  'meter_event_type': 'NS',\n",
       "  'gross_paid_amt': '1.3',\n",
       "  'time_extract': datetime.time(0, 22, 3)},\n",
       " {'transmission_datetime': '232340126_4_08012022055327',\n",
       "  'post_id': '830-13160',\n",
       "  'street_block': 'EMBARCADERO NORTH 1300',\n",
       "  'payment_type': 'CREDIT CARD',\n",
       "  'session_start_dt': '2022-08-01T05:53:27.000',\n",
       "  'session_end_dt': '2022-08-01T13:54:33.000',\n",
       "  'meter_event_type': 'NS',\n",
       "  'gross_paid_amt': '16.75',\n",
       "  'time_extract': datetime.time(0, 22, 3)},\n",
       " {'transmission_datetime': '-6708946357_11_08012022055336',\n",
       "  'post_id': '418-09006',\n",
       "  'street_block': 'FOLSOM ST 900',\n",
       "  'payment_type': 'CREDIT CARD',\n",
       "  'session_start_dt': '2022-08-01T05:53:36.000',\n",
       "  'session_end_dt': '2022-08-01T11:00:17.000',\n",
       "  'meter_event_type': 'NS',\n",
       "  'gross_paid_amt': '3',\n",
       "  'time_extract': datetime.time(0, 22, 3)},\n",
       " {'transmission_datetime': '232340120_4_08012022055336',\n",
       "  'post_id': '224-27510',\n",
       "  'street_block': '24TH ST 2700',\n",
       "  'payment_type': 'CREDIT CARD',\n",
       "  'session_start_dt': '2022-08-01T05:53:36.000',\n",
       "  'session_end_dt': '2022-08-01T09:08:35.000',\n",
       "  'meter_event_type': 'NS',\n",
       "  'gross_paid_amt': '0.25',\n",
       "  'time_extract': datetime.time(0, 22, 3)},\n",
       " {'transmission_datetime': '232340121_4_08012022055338',\n",
       "  'post_id': '720-05180',\n",
       "  'street_block': 'WASHINGTON ST 500',\n",
       "  'payment_type': 'CREDIT CARD',\n",
       "  'session_start_dt': '2022-08-01T05:53:38.000',\n",
       "  'session_end_dt': '2022-08-01T09:17:09.000',\n",
       "  'meter_event_type': 'NS',\n",
       "  'gross_paid_amt': '8',\n",
       "  'time_extract': datetime.time(0, 22, 3)},\n",
       " {'transmission_datetime': '232340124_4_08012022055428',\n",
       "  'post_id': '701-19130',\n",
       "  'street_block': 'VAN NESS AVE 1900',\n",
       "  'payment_type': 'CREDIT CARD',\n",
       "  'session_start_dt': '2022-08-01T05:54:28.000',\n",
       "  'session_end_dt': '2022-08-01T11:00:00.000',\n",
       "  'meter_event_type': 'NS',\n",
       "  'gross_paid_amt': '3',\n",
       "  'time_extract': datetime.time(0, 22, 3)},\n",
       " {'transmission_datetime': '232340123_4_08012022055435',\n",
       "  'post_id': '606-05260',\n",
       "  'street_block': 'PINE ST 500',\n",
       "  'payment_type': 'CREDIT CARD',\n",
       "  'session_start_dt': '2022-08-01T05:54:35.000',\n",
       "  'session_end_dt': '2022-08-01T09:00:00.000',\n",
       "  'meter_event_type': 'NS',\n",
       "  'gross_paid_amt': '7',\n",
       "  'time_extract': datetime.time(0, 22, 3)},\n",
       " {'transmission_datetime': '232340125_4_08012022055457',\n",
       "  'post_id': '701-09190',\n",
       "  'street_block': 'VAN NESS AVE 900',\n",
       "  'payment_type': 'CREDIT CARD',\n",
       "  'session_start_dt': '2022-08-01T05:54:57.000',\n",
       "  'session_end_dt': '2022-08-01T11:00:00.000',\n",
       "  'meter_event_type': 'NS',\n",
       "  'gross_paid_amt': '3.5',\n",
       "  'time_extract': datetime.time(0, 22, 3)},\n",
       " {'transmission_datetime': '-6708946356_11_08012022055504',\n",
       "  'post_id': '491-06003',\n",
       "  'street_block': 'INDIANA ST 600',\n",
       "  'payment_type': 'CREDIT CARD',\n",
       "  'session_start_dt': '2022-08-01T05:55:04.000',\n",
       "  'session_end_dt': '2022-08-01T13:00:45.000',\n",
       "  'meter_event_type': 'NS',\n",
       "  'gross_paid_amt': '14',\n",
       "  'time_extract': datetime.time(0, 22, 3)},\n",
       " {'transmission_datetime': '232340127_4_08012022055539',\n",
       "  'post_id': '606-04270',\n",
       "  'street_block': 'PINE ST 400',\n",
       "  'payment_type': 'CASH',\n",
       "  'session_start_dt': '2022-08-01T05:55:39.000',\n",
       "  'session_end_dt': '2022-08-01T07:51:12.000',\n",
       "  'meter_event_type': 'AT',\n",
       "  'gross_paid_amt': '1.9',\n",
       "  'time_extract': datetime.time(0, 22, 3)},\n",
       " {'transmission_datetime': '232340128_4_08012022055635',\n",
       "  'post_id': '701-19070',\n",
       "  'street_block': 'VAN NESS AVE 1900',\n",
       "  'payment_type': 'CREDIT CARD',\n",
       "  'session_start_dt': '2022-08-01T05:56:35.000',\n",
       "  'session_end_dt': '2022-08-01T11:00:00.000',\n",
       "  'meter_event_type': 'NS',\n",
       "  'gross_paid_amt': '3',\n",
       "  'time_extract': datetime.time(0, 22, 3)},\n",
       " {'transmission_datetime': '232340129_4_08012022055642',\n",
       "  'post_id': '666-11230',\n",
       "  'street_block': 'SUTTER ST 1100',\n",
       "  'payment_type': 'CREDIT CARD',\n",
       "  'session_start_dt': '2022-08-01T05:56:42.000',\n",
       "  'session_end_dt': '2022-08-01T11:00:00.000',\n",
       "  'meter_event_type': 'NS',\n",
       "  'gross_paid_amt': '4',\n",
       "  'time_extract': datetime.time(0, 22, 3)},\n",
       " {'transmission_datetime': '-6708946355_11_08012022055746',\n",
       "  'post_id': '845-05310',\n",
       "  'street_block': 'ILLINOIS ST 500',\n",
       "  'payment_type': 'CREDIT CARD',\n",
       "  'session_start_dt': '2022-08-01T05:57:46.000',\n",
       "  'session_end_dt': '2022-08-01T15:00:46.000',\n",
       "  'meter_event_type': 'NS',\n",
       "  'gross_paid_amt': '16.5',\n",
       "  'time_extract': datetime.time(0, 22, 3)},\n",
       " {'transmission_datetime': '232340130_4_08012022055749',\n",
       "  'post_id': '606-04270',\n",
       "  'street_block': 'PINE ST 400',\n",
       "  'payment_type': 'CASH',\n",
       "  'session_start_dt': '2022-08-01T05:57:49.000',\n",
       "  'session_end_dt': '2022-08-01T08:15:12.000',\n",
       "  'meter_event_type': 'AT',\n",
       "  'gross_paid_amt': '1.5',\n",
       "  'time_extract': datetime.time(0, 22, 3)},\n",
       " {'transmission_datetime': '-6708946353_11_08012022055900',\n",
       "  'post_id': '684-05073',\n",
       "  'street_block': 'TOWNSEND ST 500',\n",
       "  'payment_type': 'CREDIT CARD',\n",
       "  'session_start_dt': '2022-08-01T05:59:00.000',\n",
       "  'session_end_dt': '2022-08-01T14:16:48.000',\n",
       "  'meter_event_type': 'NS',\n",
       "  'gross_paid_amt': '6.6',\n",
       "  'time_extract': datetime.time(0, 22, 3)},\n",
       " {'transmission_datetime': '-6708946354_11_08012022055917',\n",
       "  'post_id': '470-12003',\n",
       "  'street_block': 'HOWARD ST 1200',\n",
       "  'payment_type': 'CREDIT CARD',\n",
       "  'session_start_dt': '2022-08-01T05:59:17.000',\n",
       "  'session_end_dt': '2022-08-01T11:00:45.000',\n",
       "  'meter_event_type': 'NS',\n",
       "  'gross_paid_amt': '6',\n",
       "  'time_extract': datetime.time(0, 22, 3)},\n",
       " {'transmission_datetime': '232340131_4_08012022055927',\n",
       "  'post_id': '585-03250',\n",
       "  'street_block': 'NORTH POINT ST 300',\n",
       "  'payment_type': 'CREDIT CARD',\n",
       "  'session_start_dt': '2022-08-01T05:59:27.000',\n",
       "  'session_end_dt': '2022-08-01T13:00:00.000',\n",
       "  'meter_event_type': 'NS',\n",
       "  'gross_paid_amt': '4.5',\n",
       "  'time_extract': datetime.time(0, 22, 3)},\n",
       " {'transmission_datetime': '-6708946363_11_08012022055937',\n",
       "  'post_id': '470-11009',\n",
       "  'street_block': 'HOWARD ST 1100',\n",
       "  'payment_type': 'CREDIT CARD',\n",
       "  'session_start_dt': '2022-08-01T05:59:37.000',\n",
       "  'session_end_dt': '2022-08-01T11:00:31.000',\n",
       "  'meter_event_type': 'NS',\n",
       "  'gross_paid_amt': '6',\n",
       "  'time_extract': datetime.time(0, 22, 3)},\n",
       " {'transmission_datetime': '-6708946364_11_08012022055941',\n",
       "  'post_id': '684-01003',\n",
       "  'street_block': 'TOWNSEND ST 100',\n",
       "  'payment_type': 'CREDIT CARD',\n",
       "  'session_start_dt': '2022-08-01T05:59:41.000',\n",
       "  'session_end_dt': '2022-08-01T14:01:05.000',\n",
       "  'meter_event_type': 'NS',\n",
       "  'gross_paid_amt': '10',\n",
       "  'time_extract': datetime.time(0, 22, 3)},\n",
       " {'transmission_datetime': '-6708946362_11_08012022055956',\n",
       "  'post_id': '568-00003',\n",
       "  'street_block': 'MISSION ST 0',\n",
       "  'payment_type': 'CREDIT CARD',\n",
       "  'session_start_dt': '2022-08-01T05:59:56.000',\n",
       "  'session_end_dt': '2022-08-01T11:00:20.000',\n",
       "  'meter_event_type': 'NS',\n",
       "  'gross_paid_amt': '15',\n",
       "  'time_extract': datetime.time(0, 22, 3)},\n",
       " {'transmission_datetime': '232340134_4_08012022060036',\n",
       "  'post_id': '606-04270',\n",
       "  'street_block': 'PINE ST 400',\n",
       "  'payment_type': 'CASH',\n",
       "  'session_start_dt': '2022-08-01T06:00:36.000',\n",
       "  'session_end_dt': '2022-08-01T08:41:36.000',\n",
       "  'meter_event_type': 'AT',\n",
       "  'gross_paid_amt': '1.65',\n",
       "  'time_extract': datetime.time(0, 22, 3)},\n",
       " {'transmission_datetime': '232340132_4_08012022060058',\n",
       "  'post_id': '821-05050',\n",
       "  'street_block': 'BEALE ST 500',\n",
       "  'payment_type': 'CREDIT CARD',\n",
       "  'session_start_dt': '2022-08-01T06:00:58.000',\n",
       "  'session_end_dt': '2022-08-01T14:37:30.000',\n",
       "  'meter_event_type': 'NS',\n",
       "  'gross_paid_amt': '7.75',\n",
       "  'time_extract': datetime.time(0, 22, 3)},\n",
       " {'transmission_datetime': '232340133_4_08012022060106',\n",
       "  'post_id': '865-02010',\n",
       "  'street_block': 'STEUART ST 200',\n",
       "  'payment_type': 'CREDIT CARD',\n",
       "  'session_start_dt': '2022-08-01T06:01:06.000',\n",
       "  'session_end_dt': '2022-08-01T08:30:00.000',\n",
       "  'meter_event_type': 'NS',\n",
       "  'gross_paid_amt': '3',\n",
       "  'time_extract': datetime.time(0, 22, 3)},\n",
       " {'transmission_datetime': '232340139_4_08012022060155',\n",
       "  'post_id': '720-00190',\n",
       "  'street_block': 'WASHINGTON ST 0',\n",
       "  'payment_type': 'CREDIT CARD',\n",
       "  'session_start_dt': '2022-08-01T06:01:55.000',\n",
       "  'session_end_dt': '2022-08-01T11:00:00.000',\n",
       "  'meter_event_type': 'NS',\n",
       "  'gross_paid_amt': '11',\n",
       "  'time_extract': datetime.time(0, 22, 3)},\n",
       " {'transmission_datetime': '-6708946367_11_08012022060222',\n",
       "  'post_id': '339-02005',\n",
       "  'street_block': 'BERRY ST 200',\n",
       "  'payment_type': 'CREDIT CARD',\n",
       "  'session_start_dt': '2022-08-01T06:02:22.000',\n",
       "  'session_end_dt': '2022-08-01T14:40:34.000',\n",
       "  'meter_event_type': 'NS',\n",
       "  'gross_paid_amt': '7',\n",
       "  'time_extract': datetime.time(0, 22, 3)},\n",
       " {'transmission_datetime': '232340135_4_08012022060226',\n",
       "  'post_id': '336-08370',\n",
       "  'street_block': 'BUSH ST 800',\n",
       "  'payment_type': 'CREDIT CARD',\n",
       "  'session_start_dt': '2022-08-01T06:02:26.000',\n",
       "  'session_end_dt': '2022-08-01T11:00:00.000',\n",
       "  'meter_event_type': 'NS',\n",
       "  'gross_paid_amt': '7',\n",
       "  'time_extract': datetime.time(0, 22, 3)},\n",
       " {'transmission_datetime': '232340136_4_08012022060234',\n",
       "  'post_id': '606-04270',\n",
       "  'street_block': 'PINE ST 400',\n",
       "  'payment_type': 'CASH',\n",
       "  'session_start_dt': '2022-08-01T06:02:34.000',\n",
       "  'session_end_dt': '2022-08-01T08:44:48.000',\n",
       "  'meter_event_type': 'AT',\n",
       "  'gross_paid_amt': '0.2',\n",
       "  'time_extract': datetime.time(0, 22, 3)},\n",
       " {'transmission_datetime': '-6708946352_11_08012022060303',\n",
       "  'post_id': '463-00003',\n",
       "  'street_block': 'HAWTHORNE ST 0',\n",
       "  'payment_type': 'CREDIT CARD',\n",
       "  'session_start_dt': '2022-08-01T06:03:03.000',\n",
       "  'session_end_dt': '2022-08-01T11:00:21.000',\n",
       "  'meter_event_type': 'NS',\n",
       "  'gross_paid_amt': '14',\n",
       "  'time_extract': datetime.time(0, 22, 3)},\n",
       " {'transmission_datetime': '232340137_4_08012022060341',\n",
       "  'post_id': '831-02140',\n",
       "  'street_block': 'EMBARCADERO SOUTH 200',\n",
       "  'payment_type': 'CREDIT CARD',\n",
       "  'session_start_dt': '2022-08-01T06:03:41.000',\n",
       "  'session_end_dt': '2022-08-01T09:20:00.000',\n",
       "  'meter_event_type': 'NS',\n",
       "  'gross_paid_amt': '10.5',\n",
       "  'time_extract': datetime.time(0, 22, 3)},\n",
       " {'transmission_datetime': '232340140_4_08012022060401',\n",
       "  'post_id': '606-04270',\n",
       "  'street_block': 'PINE ST 400',\n",
       "  'payment_type': 'CASH',\n",
       "  'session_start_dt': '2022-08-01T06:04:01.000',\n",
       "  'session_end_dt': '2022-08-01T08:48:00.000',\n",
       "  'meter_event_type': 'AT',\n",
       "  'gross_paid_amt': '0.2',\n",
       "  'time_extract': datetime.time(0, 22, 3)},\n",
       " {'transmission_datetime': '232340138_4_08012022060423',\n",
       "  'post_id': '324-12220',\n",
       "  'street_block': 'BATTERY ST 1200',\n",
       "  'payment_type': 'CREDIT CARD',\n",
       "  'session_start_dt': '2022-08-01T06:04:23.000',\n",
       "  'session_end_dt': '2022-08-01T09:00:00.000',\n",
       "  'meter_event_type': 'NS',\n",
       "  'gross_paid_amt': '3.5',\n",
       "  'time_extract': datetime.time(0, 22, 3)}]"
      ]
     },
     "execution_count": 469,
     "metadata": {},
     "output_type": "execute_result"
    }
   ],
   "source": [
    "test1.data[55:100]"
   ]
  },
  {
   "cell_type": "code",
   "execution_count": null,
   "metadata": {},
   "outputs": [],
   "source": [
    "group_time"
   ]
  },
  {
   "cell_type": "code",
   "execution_count": 455,
   "metadata": {},
   "outputs": [],
   "source": [
    "#--create grouped time--\n",
    "#create time extract and keep it datetiem.time format to derive other vriables from \n",
    "time_extract = datetime.strptime(test1.data[23]['session_start_dt'], '%Y-%m-%dT%H:%M:%S.%f').time()\n",
    "#extract hour through datetime string so it is returned as 2 character string instead of 1 digit int for ceertain hours\n",
    "hour_extract = time_extract.strftime('%H')\n",
    "#access minute directly so it is returned as int \n",
    "minute_grouped = str(round(time_extract.minute / 5) *5) "
   ]
  },
  {
   "cell_type": "code",
   "execution_count": 456,
   "metadata": {},
   "outputs": [
    {
     "name": "stdout",
     "output_type": "stream",
     "text": [
      "04:50:00\n"
     ]
    }
   ],
   "source": [
    "print(datetime.strptime(hour_extract + minute_grouped, '%H%M').time())"
   ]
  },
  {
   "cell_type": "code",
   "execution_count": null,
   "metadata": {},
   "outputs": [],
   "source": []
  },
  {
   "cell_type": "markdown",
   "metadata": {},
   "source": [
    "-----"
   ]
  },
  {
   "cell_type": "code",
   "execution_count": 6,
   "metadata": {},
   "outputs": [],
   "source": [
    "df = pd.DataFrame(test1.data)"
   ]
  },
  {
   "cell_type": "code",
   "execution_count": 401,
   "metadata": {},
   "outputs": [
    {
     "data": {
      "text/plain": [
       "array(['0', '1', '4', '5', '6', '7', '8', '9', '10', '11', '12', '13',\n",
       "       '14', '15', '16', '17', '18', '19', '20', '21', '22', '23'],\n",
       "      dtype=object)"
      ]
     },
     "execution_count": 401,
     "metadata": {},
     "output_type": "execute_result"
    }
   ],
   "source": [
    "df.session_start_hour.unique()"
   ]
  },
  {
   "cell_type": "code",
   "execution_count": 20,
   "metadata": {},
   "outputs": [
    {
     "data": {
      "text/plain": [
       "10000000"
      ]
     },
     "execution_count": 20,
     "metadata": {},
     "output_type": "execute_result"
    }
   ],
   "source": [
    "4 * 2500000"
   ]
  },
  {
   "cell_type": "markdown",
   "metadata": {},
   "source": [
    "### post id"
   ]
  },
  {
   "cell_type": "code",
   "execution_count": 75,
   "metadata": {},
   "outputs": [
    {
     "data": {
      "text/plain": [
       "14653"
      ]
     },
     "execution_count": 75,
     "metadata": {},
     "output_type": "execute_result"
    }
   ],
   "source": [
    "df.post_id.nunique()"
   ]
  },
  {
   "cell_type": "markdown",
   "metadata": {},
   "source": [
    "## gross paid ammount "
   ]
  },
  {
   "cell_type": "code",
   "execution_count": 32,
   "metadata": {},
   "outputs": [],
   "source": [
    "df['gross_paid_amt'] = df['gross_paid_amt'].apply(lambda x: float(x))"
   ]
  },
  {
   "cell_type": "code",
   "execution_count": 71,
   "metadata": {},
   "outputs": [],
   "source": [
    "#rename to dollar ammount / round to nearest half dollar \n",
    "df['gross_rounded'] = (.50 * round(df['gross_paid_amt']/.50))"
   ]
  },
  {
   "cell_type": "code",
   "execution_count": 73,
   "metadata": {},
   "outputs": [
    {
     "data": {
      "text/plain": [
       "94"
      ]
     },
     "execution_count": 73,
     "metadata": {},
     "output_type": "execute_result"
    }
   ],
   "source": [
    "df.gross_rounded.nunique()"
   ]
  },
  {
   "cell_type": "markdown",
   "metadata": {},
   "source": [
    "## session date  "
   ]
  },
  {
   "cell_type": "code",
   "execution_count": 197,
   "metadata": {},
   "outputs": [],
   "source": [
    "#extract date \n",
    "df['session_start_date'] = pd.to_datetime(df['session_start_dt']).dt.date"
   ]
  },
  {
   "cell_type": "code",
   "execution_count": null,
   "metadata": {},
   "outputs": [],
   "source": [
    "df['session_start_day'].dt.day()"
   ]
  },
  {
   "cell_type": "code",
   "execution_count": 225,
   "metadata": {},
   "outputs": [],
   "source": [
    "df['session_start_year'] = pd.to_datetime(df['session_start_dt']).dt.year\n",
    "df['session_start_month'] = d.to_datetime(df['session_start_dt']).dt.yea"
   ]
  },
  {
   "cell_type": "markdown",
   "metadata": {},
   "source": [
    "## session time "
   ]
  },
  {
   "cell_type": "code",
   "execution_count": 209,
   "metadata": {},
   "outputs": [],
   "source": [
    "#extract time\n",
    "df['session_start_time'] = pd.to_datetime(df['session_start_dt']).dt.time\n",
    "#extract hour \n",
    "df['session_start_hour'] = pd.to_datetime(df['session_start_dt']).dt.hour\n",
    "#extract minute\n",
    "df['session_start_minute'] = pd.to_datetime(df['session_start_dt']).dt.minute\n",
    "#group minutes\n",
    "df['session_start_minute_group'] = 5 * round(df['session_start_minute'] / 5)"
   ]
  },
  {
   "cell_type": "code",
   "execution_count": 229,
   "metadata": {},
   "outputs": [
    {
     "data": {
      "text/plain": [
       "0        22.0\n",
       "1        22.0\n",
       "2        22.0\n",
       "3        22.0\n",
       "4        22.0\n",
       "         ... \n",
       "65377    32.0\n",
       "65378    32.0\n",
       "65379    51.0\n",
       "65380    57.0\n",
       "65381    46.0\n",
       "Name: session_start_minute, Length: 65382, dtype: float64"
      ]
     },
     "execution_count": 229,
     "metadata": {},
     "output_type": "execute_result"
    }
   ],
   "source": [
    "round((df.session_start_minute.astype(int) / 5) * 5)"
   ]
  },
  {
   "cell_type": "code",
   "execution_count": 243,
   "metadata": {},
   "outputs": [
    {
     "name": "stdout",
     "output_type": "stream",
     "text": [
      "5\n"
     ]
    }
   ],
   "source": [
    "print(round((6.78)/5)*5)"
   ]
  },
  {
   "cell_type": "code",
   "execution_count": null,
   "metadata": {},
   "outputs": [],
   "source": [
    "(df.session_start_minute /5) * 5 )"
   ]
  },
  {
   "cell_type": "code",
   "execution_count": 239,
   "metadata": {},
   "outputs": [
    {
     "data": {
      "text/plain": [
       "0        22.0\n",
       "1        22.0\n",
       "2        22.0\n",
       "3        22.0\n",
       "4        22.0\n",
       "         ... \n",
       "65377    32.0\n",
       "65378    32.0\n",
       "65379    51.0\n",
       "65380    57.0\n",
       "65381    46.0\n",
       "Name: session_start_minute, Length: 65382, dtype: float64"
      ]
     },
     "execution_count": 239,
     "metadata": {},
     "output_type": "execute_result"
    }
   ],
   "source": [
    "round((df.session_start_minute/5) * 5)"
   ]
  },
  {
   "cell_type": "code",
   "execution_count": null,
   "metadata": {},
   "outputs": [],
   "source": [
    "int(5 * round(df['session_start_minute'] / 5))"
   ]
  },
  {
   "cell_type": "code",
   "execution_count": 99,
   "metadata": {},
   "outputs": [
    {
     "data": {
      "text/plain": [
       "10"
      ]
     },
     "execution_count": 99,
     "metadata": {},
     "output_type": "execute_result"
    }
   ],
   "source": [
    "5 * round(8/5)"
   ]
  },
  {
   "cell_type": "code",
   "execution_count": 285,
   "metadata": {},
   "outputs": [
    {
     "name": "stdout",
     "output_type": "stream",
     "text": [
      "02:43:00\n"
     ]
    }
   ],
   "source": [
    "samp = datetime.strptime('243','%H%M').time()\n",
    "print(samp)"
   ]
  },
  {
   "cell_type": "code",
   "execution_count": 159,
   "metadata": {},
   "outputs": [
    {
     "data": {
      "text/plain": [
       "datetime.time(0, 22, 3)"
      ]
     },
     "execution_count": 159,
     "metadata": {},
     "output_type": "execute_result"
    }
   ],
   "source": [
    "df.session_start_time[0]"
   ]
  },
  {
   "cell_type": "code",
   "execution_count": 257,
   "metadata": {},
   "outputs": [],
   "source": [
    "df['session_start_minute_group'] = df['session_start_minute_group'].astype(int)\n",
    "df['session_start_minute_group'] = df['session_start_minute_group'].astype(str)\n",
    "df['session_start_hour'] = df['session_start_hour'].astype(str)"
   ]
  },
  {
   "cell_type": "markdown",
   "metadata": {},
   "source": [
    "### time string "
   ]
  },
  {
   "cell_type": "code",
   "execution_count": 288,
   "metadata": {},
   "outputs": [],
   "source": [
    "df['time_string'] = df.session_start_hour+df.session_start_minute_group"
   ]
  },
  {
   "cell_type": "code",
   "execution_count": 297,
   "metadata": {},
   "outputs": [
    {
     "data": {
      "text/html": [
       "<div>\n",
       "<style scoped>\n",
       "    .dataframe tbody tr th:only-of-type {\n",
       "        vertical-align: middle;\n",
       "    }\n",
       "\n",
       "    .dataframe tbody tr th {\n",
       "        vertical-align: top;\n",
       "    }\n",
       "\n",
       "    .dataframe thead th {\n",
       "        text-align: right;\n",
       "    }\n",
       "</style>\n",
       "<table border=\"1\" class=\"dataframe\">\n",
       "  <thead>\n",
       "    <tr style=\"text-align: right;\">\n",
       "      <th></th>\n",
       "      <th>session_start_time</th>\n",
       "      <th>session_start_hour</th>\n",
       "      <th>time_string</th>\n",
       "    </tr>\n",
       "  </thead>\n",
       "  <tbody>\n",
       "    <tr>\n",
       "      <th>0</th>\n",
       "      <td>00:22:03</td>\n",
       "      <td>0</td>\n",
       "      <td>020</td>\n",
       "    </tr>\n",
       "    <tr>\n",
       "      <th>1</th>\n",
       "      <td>00:22:04</td>\n",
       "      <td>0</td>\n",
       "      <td>020</td>\n",
       "    </tr>\n",
       "    <tr>\n",
       "      <th>2</th>\n",
       "      <td>00:22:04</td>\n",
       "      <td>0</td>\n",
       "      <td>020</td>\n",
       "    </tr>\n",
       "    <tr>\n",
       "      <th>3</th>\n",
       "      <td>00:22:05</td>\n",
       "      <td>0</td>\n",
       "      <td>020</td>\n",
       "    </tr>\n",
       "    <tr>\n",
       "      <th>4</th>\n",
       "      <td>00:22:06</td>\n",
       "      <td>0</td>\n",
       "      <td>020</td>\n",
       "    </tr>\n",
       "  </tbody>\n",
       "</table>\n",
       "</div>"
      ],
      "text/plain": [
       "  session_start_time session_start_hour time_string\n",
       "0           00:22:03                  0         020\n",
       "1           00:22:04                  0         020\n",
       "2           00:22:04                  0         020\n",
       "3           00:22:05                  0         020\n",
       "4           00:22:06                  0         020"
      ]
     },
     "execution_count": 297,
     "metadata": {},
     "output_type": "execute_result"
    }
   ],
   "source": [
    "df[['session_start_time','session_start_hour','time_string']].head()"
   ]
  },
  {
   "cell_type": "code",
   "execution_count": 302,
   "metadata": {},
   "outputs": [
    {
     "data": {
      "text/plain": [
       "'020'"
      ]
     },
     "execution_count": 302,
     "metadata": {},
     "output_type": "execute_result"
    }
   ],
   "source": [
    "df.time_string[0]"
   ]
  },
  {
   "cell_type": "code",
   "execution_count": 306,
   "metadata": {},
   "outputs": [
    {
     "name": "stdout",
     "output_type": "stream",
     "text": [
      "00:22:00\n"
     ]
    }
   ],
   "source": [
    "print(datetime.strptime('0022','%H%M').time())"
   ]
  },
  {
   "cell_type": "code",
   "execution_count": 308,
   "metadata": {},
   "outputs": [
    {
     "name": "stdout",
     "output_type": "stream",
     "text": [
      "02:00:00\n"
     ]
    }
   ],
   "source": [
    "print(datetime.strptime(df.time_string[0],'%H%M').time())"
   ]
  },
  {
   "cell_type": "code",
   "execution_count": 295,
   "metadata": {},
   "outputs": [
    {
     "data": {
      "text/plain": [
       "'020'"
      ]
     },
     "execution_count": 295,
     "metadata": {},
     "output_type": "execute_result"
    }
   ],
   "source": [
    "df.time_string[0]"
   ]
  },
  {
   "cell_type": "code",
   "execution_count": null,
   "metadata": {},
   "outputs": [],
   "source": [
    "#make hours 2 digits  and focus on doing this without pandas"
   ]
  },
  {
   "cell_type": "code",
   "execution_count": null,
   "metadata": {},
   "outputs": [],
   "source": [
    "pd.to_datetime(df['session_start_hour'] df['session_start_minute'], '%H%M')"
   ]
  },
  {
   "cell_type": "code",
   "execution_count": 260,
   "metadata": {},
   "outputs": [
    {
     "data": {
      "text/plain": [
       "0        20\n",
       "1        20\n",
       "2        20\n",
       "3        20\n",
       "4        20\n",
       "         ..\n",
       "65377    30\n",
       "65378    30\n",
       "65379    50\n",
       "65380    55\n",
       "65381    45\n",
       "Name: session_start_minute_group, Length: 65382, dtype: object"
      ]
     },
     "execution_count": 260,
     "metadata": {},
     "output_type": "execute_result"
    }
   ],
   "source": [
    "df.session_start_minute_group"
   ]
  },
  {
   "cell_type": "code",
   "execution_count": 280,
   "metadata": {},
   "outputs": [
    {
     "data": {
      "text/plain": [
       "datetime.time(0, 13)"
      ]
     },
     "execution_count": 280,
     "metadata": {},
     "output_type": "execute_result"
    }
   ],
   "source": [
    "datetime.strptime('0013','%H%M').time()"
   ]
  },
  {
   "cell_type": "code",
   "execution_count": 262,
   "metadata": {},
   "outputs": [
    {
     "name": "stdout",
     "output_type": "stream",
     "text": [
      "00:20:00\n"
     ]
    }
   ],
   "source": [
    "datetime.strptime(df['session_start_minute_group'][0],'%M').time()"
   ]
  },
  {
   "cell_type": "code",
   "execution_count": 187,
   "metadata": {},
   "outputs": [
    {
     "ename": "ValueError",
     "evalue": "unconverted data remains: .0",
     "output_type": "error",
     "traceback": [
      "\u001b[1;31m---------------------------------------------------------------------------\u001b[0m",
      "\u001b[1;31mTypeError\u001b[0m                                 Traceback (most recent call last)",
      "\u001b[1;32m~Users\\Donne\\Anaconda3\\lib\\site-packages\\pandas\\core\\tools\\datetimes.py\u001b[0m in \u001b[0;36m_to_datetime_with_format\u001b[1;34m(arg, orig_arg, name, tz, fmt, exact, errors, infer_datetime_format)\u001b[0m\n\u001b[0;32m    508\u001b[0m         \u001b[1;32mtry\u001b[0m\u001b[1;33m:\u001b[0m\u001b[1;33m\u001b[0m\u001b[1;33m\u001b[0m\u001b[0m\n\u001b[1;32m--> 509\u001b[1;33m             \u001b[0mvalues\u001b[0m\u001b[1;33m,\u001b[0m \u001b[0mtz\u001b[0m \u001b[1;33m=\u001b[0m \u001b[0mconversion\u001b[0m\u001b[1;33m.\u001b[0m\u001b[0mdatetime_to_datetime64\u001b[0m\u001b[1;33m(\u001b[0m\u001b[0marg\u001b[0m\u001b[1;33m)\u001b[0m\u001b[1;33m\u001b[0m\u001b[1;33m\u001b[0m\u001b[0m\n\u001b[0m\u001b[0;32m    510\u001b[0m             \u001b[0mdta\u001b[0m \u001b[1;33m=\u001b[0m \u001b[0mDatetimeArray\u001b[0m\u001b[1;33m(\u001b[0m\u001b[0mvalues\u001b[0m\u001b[1;33m,\u001b[0m \u001b[0mdtype\u001b[0m\u001b[1;33m=\u001b[0m\u001b[0mtz_to_dtype\u001b[0m\u001b[1;33m(\u001b[0m\u001b[0mtz\u001b[0m\u001b[1;33m)\u001b[0m\u001b[1;33m)\u001b[0m\u001b[1;33m\u001b[0m\u001b[1;33m\u001b[0m\u001b[0m\n",
      "\u001b[1;32m~Users\\Donne\\Anaconda3\\lib\\site-packages\\pandas\\_libs\\tslibs\\conversion.pyx\u001b[0m in \u001b[0;36mpandas._libs.tslibs.conversion.datetime_to_datetime64\u001b[1;34m()\u001b[0m\n",
      "\u001b[1;31mTypeError\u001b[0m: Unrecognized value type: <class 'str'>",
      "\nDuring handling of the above exception, another exception occurred:\n",
      "\u001b[1;31mValueError\u001b[0m                                Traceback (most recent call last)",
      "\u001b[1;32m<ipython-input-187-999feac64730>\u001b[0m in \u001b[0;36m<module>\u001b[1;34m\u001b[0m\n\u001b[1;32m----> 1\u001b[1;33m \u001b[0mpd\u001b[0m\u001b[1;33m.\u001b[0m\u001b[0mto_datetime\u001b[0m\u001b[1;33m(\u001b[0m\u001b[0mdf\u001b[0m\u001b[1;33m[\u001b[0m\u001b[1;34m'session_start_minute_group'\u001b[0m\u001b[1;33m]\u001b[0m\u001b[1;33m.\u001b[0m\u001b[0mastype\u001b[0m\u001b[1;33m(\u001b[0m\u001b[0mstr\u001b[0m\u001b[1;33m)\u001b[0m\u001b[1;33m,\u001b[0m \u001b[0mformat\u001b[0m\u001b[1;33m=\u001b[0m\u001b[1;34m'%M'\u001b[0m\u001b[1;33m)\u001b[0m\u001b[1;33m.\u001b[0m\u001b[0mdt\u001b[0m\u001b[1;33m.\u001b[0m\u001b[0mtime\u001b[0m\u001b[1;33m\u001b[0m\u001b[1;33m\u001b[0m\u001b[0m\n\u001b[0m",
      "\u001b[1;32m~Users\\Donne\\Anaconda3\\lib\\site-packages\\pandas\\core\\tools\\datetimes.py\u001b[0m in \u001b[0;36mto_datetime\u001b[1;34m(arg, errors, dayfirst, yearfirst, utc, format, exact, unit, infer_datetime_format, origin, cache)\u001b[0m\n\u001b[0;32m    881\u001b[0m                 \u001b[0mresult\u001b[0m \u001b[1;33m=\u001b[0m \u001b[0mresult\u001b[0m\u001b[1;33m.\u001b[0m\u001b[0mtz_localize\u001b[0m\u001b[1;33m(\u001b[0m\u001b[0mtz\u001b[0m\u001b[1;33m)\u001b[0m  \u001b[1;31m# type: ignore[call-arg]\u001b[0m\u001b[1;33m\u001b[0m\u001b[1;33m\u001b[0m\u001b[0m\n\u001b[0;32m    882\u001b[0m     \u001b[1;32melif\u001b[0m \u001b[0misinstance\u001b[0m\u001b[1;33m(\u001b[0m\u001b[0marg\u001b[0m\u001b[1;33m,\u001b[0m \u001b[0mABCSeries\u001b[0m\u001b[1;33m)\u001b[0m\u001b[1;33m:\u001b[0m\u001b[1;33m\u001b[0m\u001b[1;33m\u001b[0m\u001b[0m\n\u001b[1;32m--> 883\u001b[1;33m         \u001b[0mcache_array\u001b[0m \u001b[1;33m=\u001b[0m \u001b[0m_maybe_cache\u001b[0m\u001b[1;33m(\u001b[0m\u001b[0marg\u001b[0m\u001b[1;33m,\u001b[0m \u001b[0mformat\u001b[0m\u001b[1;33m,\u001b[0m \u001b[0mcache\u001b[0m\u001b[1;33m,\u001b[0m \u001b[0mconvert_listlike\u001b[0m\u001b[1;33m)\u001b[0m\u001b[1;33m\u001b[0m\u001b[1;33m\u001b[0m\u001b[0m\n\u001b[0m\u001b[0;32m    884\u001b[0m         \u001b[1;32mif\u001b[0m \u001b[1;32mnot\u001b[0m \u001b[0mcache_array\u001b[0m\u001b[1;33m.\u001b[0m\u001b[0mempty\u001b[0m\u001b[1;33m:\u001b[0m\u001b[1;33m\u001b[0m\u001b[1;33m\u001b[0m\u001b[0m\n\u001b[0;32m    885\u001b[0m             \u001b[0mresult\u001b[0m \u001b[1;33m=\u001b[0m \u001b[0marg\u001b[0m\u001b[1;33m.\u001b[0m\u001b[0mmap\u001b[0m\u001b[1;33m(\u001b[0m\u001b[0mcache_array\u001b[0m\u001b[1;33m)\u001b[0m\u001b[1;33m\u001b[0m\u001b[1;33m\u001b[0m\u001b[0m\n",
      "\u001b[1;32m~Users\\Donne\\Anaconda3\\lib\\site-packages\\pandas\\core\\tools\\datetimes.py\u001b[0m in \u001b[0;36m_maybe_cache\u001b[1;34m(arg, format, cache, convert_listlike)\u001b[0m\n\u001b[0;32m    193\u001b[0m         \u001b[0munique_dates\u001b[0m \u001b[1;33m=\u001b[0m \u001b[0munique\u001b[0m\u001b[1;33m(\u001b[0m\u001b[0marg\u001b[0m\u001b[1;33m)\u001b[0m\u001b[1;33m\u001b[0m\u001b[1;33m\u001b[0m\u001b[0m\n\u001b[0;32m    194\u001b[0m         \u001b[1;32mif\u001b[0m \u001b[0mlen\u001b[0m\u001b[1;33m(\u001b[0m\u001b[0munique_dates\u001b[0m\u001b[1;33m)\u001b[0m \u001b[1;33m<\u001b[0m \u001b[0mlen\u001b[0m\u001b[1;33m(\u001b[0m\u001b[0marg\u001b[0m\u001b[1;33m)\u001b[0m\u001b[1;33m:\u001b[0m\u001b[1;33m\u001b[0m\u001b[1;33m\u001b[0m\u001b[0m\n\u001b[1;32m--> 195\u001b[1;33m             \u001b[0mcache_dates\u001b[0m \u001b[1;33m=\u001b[0m \u001b[0mconvert_listlike\u001b[0m\u001b[1;33m(\u001b[0m\u001b[0munique_dates\u001b[0m\u001b[1;33m,\u001b[0m \u001b[0mformat\u001b[0m\u001b[1;33m)\u001b[0m\u001b[1;33m\u001b[0m\u001b[1;33m\u001b[0m\u001b[0m\n\u001b[0m\u001b[0;32m    196\u001b[0m             \u001b[0mcache_array\u001b[0m \u001b[1;33m=\u001b[0m \u001b[0mSeries\u001b[0m\u001b[1;33m(\u001b[0m\u001b[0mcache_dates\u001b[0m\u001b[1;33m,\u001b[0m \u001b[0mindex\u001b[0m\u001b[1;33m=\u001b[0m\u001b[0munique_dates\u001b[0m\u001b[1;33m)\u001b[0m\u001b[1;33m\u001b[0m\u001b[1;33m\u001b[0m\u001b[0m\n\u001b[0;32m    197\u001b[0m             \u001b[1;31m# GH#39882 and GH#35888 in case of None and NaT we get duplicates\u001b[0m\u001b[1;33m\u001b[0m\u001b[1;33m\u001b[0m\u001b[1;33m\u001b[0m\u001b[0m\n",
      "\u001b[1;32m~Users\\Donne\\Anaconda3\\lib\\site-packages\\pandas\\core\\tools\\datetimes.py\u001b[0m in \u001b[0;36m_convert_listlike_datetimes\u001b[1;34m(arg, format, name, tz, unit, errors, infer_datetime_format, dayfirst, yearfirst, exact)\u001b[0m\n\u001b[0;32m    392\u001b[0m     \u001b[1;32mif\u001b[0m \u001b[0mformat\u001b[0m \u001b[1;32mis\u001b[0m \u001b[1;32mnot\u001b[0m \u001b[1;32mNone\u001b[0m\u001b[1;33m:\u001b[0m\u001b[1;33m\u001b[0m\u001b[1;33m\u001b[0m\u001b[0m\n\u001b[0;32m    393\u001b[0m         res = _to_datetime_with_format(\n\u001b[1;32m--> 394\u001b[1;33m             \u001b[0marg\u001b[0m\u001b[1;33m,\u001b[0m \u001b[0morig_arg\u001b[0m\u001b[1;33m,\u001b[0m \u001b[0mname\u001b[0m\u001b[1;33m,\u001b[0m \u001b[0mtz\u001b[0m\u001b[1;33m,\u001b[0m \u001b[0mformat\u001b[0m\u001b[1;33m,\u001b[0m \u001b[0mexact\u001b[0m\u001b[1;33m,\u001b[0m \u001b[0merrors\u001b[0m\u001b[1;33m,\u001b[0m \u001b[0minfer_datetime_format\u001b[0m\u001b[1;33m\u001b[0m\u001b[1;33m\u001b[0m\u001b[0m\n\u001b[0m\u001b[0;32m    395\u001b[0m         )\n\u001b[0;32m    396\u001b[0m         \u001b[1;32mif\u001b[0m \u001b[0mres\u001b[0m \u001b[1;32mis\u001b[0m \u001b[1;32mnot\u001b[0m \u001b[1;32mNone\u001b[0m\u001b[1;33m:\u001b[0m\u001b[1;33m\u001b[0m\u001b[1;33m\u001b[0m\u001b[0m\n",
      "\u001b[1;32m~Users\\Donne\\Anaconda3\\lib\\site-packages\\pandas\\core\\tools\\datetimes.py\u001b[0m in \u001b[0;36m_to_datetime_with_format\u001b[1;34m(arg, orig_arg, name, tz, fmt, exact, errors, infer_datetime_format)\u001b[0m\n\u001b[0;32m    511\u001b[0m             \u001b[1;32mreturn\u001b[0m \u001b[0mDatetimeIndex\u001b[0m\u001b[1;33m.\u001b[0m\u001b[0m_simple_new\u001b[0m\u001b[1;33m(\u001b[0m\u001b[0mdta\u001b[0m\u001b[1;33m,\u001b[0m \u001b[0mname\u001b[0m\u001b[1;33m=\u001b[0m\u001b[0mname\u001b[0m\u001b[1;33m)\u001b[0m\u001b[1;33m\u001b[0m\u001b[1;33m\u001b[0m\u001b[0m\n\u001b[0;32m    512\u001b[0m         \u001b[1;32mexcept\u001b[0m \u001b[1;33m(\u001b[0m\u001b[0mValueError\u001b[0m\u001b[1;33m,\u001b[0m \u001b[0mTypeError\u001b[0m\u001b[1;33m)\u001b[0m\u001b[1;33m:\u001b[0m\u001b[1;33m\u001b[0m\u001b[1;33m\u001b[0m\u001b[0m\n\u001b[1;32m--> 513\u001b[1;33m             \u001b[1;32mraise\u001b[0m \u001b[0merr\u001b[0m\u001b[1;33m\u001b[0m\u001b[1;33m\u001b[0m\u001b[0m\n\u001b[0m\u001b[0;32m    514\u001b[0m \u001b[1;33m\u001b[0m\u001b[0m\n\u001b[0;32m    515\u001b[0m \u001b[1;33m\u001b[0m\u001b[0m\n",
      "\u001b[1;32m~Users\\Donne\\Anaconda3\\lib\\site-packages\\pandas\\core\\tools\\datetimes.py\u001b[0m in \u001b[0;36m_to_datetime_with_format\u001b[1;34m(arg, orig_arg, name, tz, fmt, exact, errors, infer_datetime_format)\u001b[0m\n\u001b[0;32m    499\u001b[0m         \u001b[1;31m# fallback\u001b[0m\u001b[1;33m\u001b[0m\u001b[1;33m\u001b[0m\u001b[1;33m\u001b[0m\u001b[0m\n\u001b[0;32m    500\u001b[0m         res = _array_strptime_with_fallback(\n\u001b[1;32m--> 501\u001b[1;33m             \u001b[0marg\u001b[0m\u001b[1;33m,\u001b[0m \u001b[0mname\u001b[0m\u001b[1;33m,\u001b[0m \u001b[0mtz\u001b[0m\u001b[1;33m,\u001b[0m \u001b[0mfmt\u001b[0m\u001b[1;33m,\u001b[0m \u001b[0mexact\u001b[0m\u001b[1;33m,\u001b[0m \u001b[0merrors\u001b[0m\u001b[1;33m,\u001b[0m \u001b[0minfer_datetime_format\u001b[0m\u001b[1;33m\u001b[0m\u001b[1;33m\u001b[0m\u001b[0m\n\u001b[0m\u001b[0;32m    502\u001b[0m         )\n\u001b[0;32m    503\u001b[0m         \u001b[1;32mreturn\u001b[0m \u001b[0mres\u001b[0m\u001b[1;33m\u001b[0m\u001b[1;33m\u001b[0m\u001b[0m\n",
      "\u001b[1;32m~Users\\Donne\\Anaconda3\\lib\\site-packages\\pandas\\core\\tools\\datetimes.py\u001b[0m in \u001b[0;36m_array_strptime_with_fallback\u001b[1;34m(arg, name, tz, fmt, exact, errors, infer_datetime_format)\u001b[0m\n\u001b[0;32m    434\u001b[0m \u001b[1;33m\u001b[0m\u001b[0m\n\u001b[0;32m    435\u001b[0m     \u001b[1;32mtry\u001b[0m\u001b[1;33m:\u001b[0m\u001b[1;33m\u001b[0m\u001b[1;33m\u001b[0m\u001b[0m\n\u001b[1;32m--> 436\u001b[1;33m         \u001b[0mresult\u001b[0m\u001b[1;33m,\u001b[0m \u001b[0mtimezones\u001b[0m \u001b[1;33m=\u001b[0m \u001b[0marray_strptime\u001b[0m\u001b[1;33m(\u001b[0m\u001b[0marg\u001b[0m\u001b[1;33m,\u001b[0m \u001b[0mfmt\u001b[0m\u001b[1;33m,\u001b[0m \u001b[0mexact\u001b[0m\u001b[1;33m=\u001b[0m\u001b[0mexact\u001b[0m\u001b[1;33m,\u001b[0m \u001b[0merrors\u001b[0m\u001b[1;33m=\u001b[0m\u001b[0merrors\u001b[0m\u001b[1;33m)\u001b[0m\u001b[1;33m\u001b[0m\u001b[1;33m\u001b[0m\u001b[0m\n\u001b[0m\u001b[0;32m    437\u001b[0m         \u001b[1;32mif\u001b[0m \u001b[1;34m\"%Z\"\u001b[0m \u001b[1;32min\u001b[0m \u001b[0mfmt\u001b[0m \u001b[1;32mor\u001b[0m \u001b[1;34m\"%z\"\u001b[0m \u001b[1;32min\u001b[0m \u001b[0mfmt\u001b[0m\u001b[1;33m:\u001b[0m\u001b[1;33m\u001b[0m\u001b[1;33m\u001b[0m\u001b[0m\n\u001b[0;32m    438\u001b[0m             \u001b[1;32mreturn\u001b[0m \u001b[0m_return_parsed_timezone_results\u001b[0m\u001b[1;33m(\u001b[0m\u001b[0mresult\u001b[0m\u001b[1;33m,\u001b[0m \u001b[0mtimezones\u001b[0m\u001b[1;33m,\u001b[0m \u001b[0mtz\u001b[0m\u001b[1;33m,\u001b[0m \u001b[0mname\u001b[0m\u001b[1;33m)\u001b[0m\u001b[1;33m\u001b[0m\u001b[1;33m\u001b[0m\u001b[0m\n",
      "\u001b[1;32m~Users\\Donne\\Anaconda3\\lib\\site-packages\\pandas\\_libs\\tslibs\\strptime.pyx\u001b[0m in \u001b[0;36mpandas._libs.tslibs.strptime.array_strptime\u001b[1;34m()\u001b[0m\n",
      "\u001b[1;31mValueError\u001b[0m: unconverted data remains: .0"
     ]
    }
   ],
   "source": [
    " pd.to_datetime(df['session_start_minute_group'].astype(str), format='%M').dt.time"
   ]
  },
  {
   "cell_type": "code",
   "execution_count": 178,
   "metadata": {},
   "outputs": [],
   "source": [
    "df['grouped_time'] = df['session_start_minute'].astype(str)"
   ]
  },
  {
   "cell_type": "code",
   "execution_count": 179,
   "metadata": {},
   "outputs": [
    {
     "data": {
      "text/html": [
       "<div>\n",
       "<style scoped>\n",
       "    .dataframe tbody tr th:only-of-type {\n",
       "        vertical-align: middle;\n",
       "    }\n",
       "\n",
       "    .dataframe tbody tr th {\n",
       "        vertical-align: top;\n",
       "    }\n",
       "\n",
       "    .dataframe thead th {\n",
       "        text-align: right;\n",
       "    }\n",
       "</style>\n",
       "<table border=\"1\" class=\"dataframe\">\n",
       "  <thead>\n",
       "    <tr style=\"text-align: right;\">\n",
       "      <th></th>\n",
       "      <th>transmission_datetime</th>\n",
       "      <th>post_id</th>\n",
       "      <th>street_block</th>\n",
       "      <th>payment_type</th>\n",
       "      <th>session_start_dt</th>\n",
       "      <th>session_end_dt</th>\n",
       "      <th>meter_event_type</th>\n",
       "      <th>gross_paid_amt</th>\n",
       "      <th>gross_rounded</th>\n",
       "      <th>session_start_time</th>\n",
       "      <th>session_start_minute</th>\n",
       "      <th>grouped_time</th>\n",
       "    </tr>\n",
       "  </thead>\n",
       "  <tbody>\n",
       "    <tr>\n",
       "      <th>0</th>\n",
       "      <td>-6708946392_11_08012022002203</td>\n",
       "      <td>854-29140</td>\n",
       "      <td>LEAVENWORTH ST 2900</td>\n",
       "      <td>CREDIT CARD</td>\n",
       "      <td>2022-08-01T00:22:03.000</td>\n",
       "      <td>2022-07-31T16:16:48.000</td>\n",
       "      <td>AT</td>\n",
       "      <td>10.69</td>\n",
       "      <td>10.5</td>\n",
       "      <td>00:22:03</td>\n",
       "      <td>22</td>\n",
       "      <td>22</td>\n",
       "    </tr>\n",
       "    <tr>\n",
       "      <th>1</th>\n",
       "      <td>-6708946391_11_08012022002204</td>\n",
       "      <td>854-29080</td>\n",
       "      <td>LEAVENWORTH ST 2900</td>\n",
       "      <td>CASH</td>\n",
       "      <td>2022-08-01T00:22:04.000</td>\n",
       "      <td>2022-07-31T15:00:00.000</td>\n",
       "      <td>AT</td>\n",
       "      <td>5.50</td>\n",
       "      <td>5.5</td>\n",
       "      <td>00:22:04</td>\n",
       "      <td>22</td>\n",
       "      <td>22</td>\n",
       "    </tr>\n",
       "    <tr>\n",
       "      <th>2</th>\n",
       "      <td>-6708946400_11_08012022002204</td>\n",
       "      <td>854-29140</td>\n",
       "      <td>LEAVENWORTH ST 2900</td>\n",
       "      <td>CREDIT CARD</td>\n",
       "      <td>2022-08-01T00:22:04.000</td>\n",
       "      <td>2022-07-31T17:16:48.000</td>\n",
       "      <td>AT</td>\n",
       "      <td>4.25</td>\n",
       "      <td>4.0</td>\n",
       "      <td>00:22:04</td>\n",
       "      <td>22</td>\n",
       "      <td>22</td>\n",
       "    </tr>\n",
       "    <tr>\n",
       "      <th>3</th>\n",
       "      <td>-6708946399_11_08012022002205</td>\n",
       "      <td>854-29060</td>\n",
       "      <td>LEAVENWORTH ST 2900</td>\n",
       "      <td>CREDIT CARD</td>\n",
       "      <td>2022-08-01T00:22:05.000</td>\n",
       "      <td>2022-07-31T16:16:48.000</td>\n",
       "      <td>AT</td>\n",
       "      <td>7.69</td>\n",
       "      <td>7.5</td>\n",
       "      <td>00:22:05</td>\n",
       "      <td>22</td>\n",
       "      <td>22</td>\n",
       "    </tr>\n",
       "    <tr>\n",
       "      <th>4</th>\n",
       "      <td>-6708946389_11_08012022002206</td>\n",
       "      <td>854-29120</td>\n",
       "      <td>LEAVENWORTH ST 2900</td>\n",
       "      <td>CREDIT CARD</td>\n",
       "      <td>2022-08-01T00:22:06.000</td>\n",
       "      <td>2022-07-31T16:58:36.000</td>\n",
       "      <td>AT</td>\n",
       "      <td>4.25</td>\n",
       "      <td>4.0</td>\n",
       "      <td>00:22:06</td>\n",
       "      <td>22</td>\n",
       "      <td>22</td>\n",
       "    </tr>\n",
       "  </tbody>\n",
       "</table>\n",
       "</div>"
      ],
      "text/plain": [
       "           transmission_datetime    post_id         street_block payment_type  \\\n",
       "0  -6708946392_11_08012022002203  854-29140  LEAVENWORTH ST 2900  CREDIT CARD   \n",
       "1  -6708946391_11_08012022002204  854-29080  LEAVENWORTH ST 2900         CASH   \n",
       "2  -6708946400_11_08012022002204  854-29140  LEAVENWORTH ST 2900  CREDIT CARD   \n",
       "3  -6708946399_11_08012022002205  854-29060  LEAVENWORTH ST 2900  CREDIT CARD   \n",
       "4  -6708946389_11_08012022002206  854-29120  LEAVENWORTH ST 2900  CREDIT CARD   \n",
       "\n",
       "          session_start_dt           session_end_dt meter_event_type  \\\n",
       "0  2022-08-01T00:22:03.000  2022-07-31T16:16:48.000               AT   \n",
       "1  2022-08-01T00:22:04.000  2022-07-31T15:00:00.000               AT   \n",
       "2  2022-08-01T00:22:04.000  2022-07-31T17:16:48.000               AT   \n",
       "3  2022-08-01T00:22:05.000  2022-07-31T16:16:48.000               AT   \n",
       "4  2022-08-01T00:22:06.000  2022-07-31T16:58:36.000               AT   \n",
       "\n",
       "   gross_paid_amt  gross_rounded session_start_time  session_start_minute  \\\n",
       "0           10.69           10.5           00:22:03                    22   \n",
       "1            5.50            5.5           00:22:04                    22   \n",
       "2            4.25            4.0           00:22:04                    22   \n",
       "3            7.69            7.5           00:22:05                    22   \n",
       "4            4.25            4.0           00:22:06                    22   \n",
       "\n",
       "  grouped_time  \n",
       "0           22  \n",
       "1           22  \n",
       "2           22  \n",
       "3           22  \n",
       "4           22  "
      ]
     },
     "execution_count": 179,
     "metadata": {},
     "output_type": "execute_result"
    }
   ],
   "source": [
    "df.head()"
   ]
  },
  {
   "cell_type": "code",
   "execution_count": null,
   "metadata": {},
   "outputs": [],
   "source": []
  }
 ],
 "metadata": {
  "kernelspec": {
   "display_name": "PythonData",
   "language": "python",
   "name": "pythondata"
  },
  "language_info": {
   "codemirror_mode": {
    "name": "ipython",
    "version": 3
   },
   "file_extension": ".py",
   "mimetype": "text/x-python",
   "name": "python",
   "nbconvert_exporter": "python",
   "pygments_lexer": "ipython3",
   "version": "3.7.11"
  }
 },
 "nbformat": 4,
 "nbformat_minor": 4
}
