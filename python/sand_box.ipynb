{
 "cells": [
  {
   "cell_type": "code",
   "execution_count": 1,
   "metadata": {},
   "outputs": [],
   "source": [
    "#import dependencies \n",
    "import pandas as pd \n",
    "import requests \n",
    "from sqlalchemy import create_engine\n",
    "import psycopg2\n",
    "import config \n",
    "import queries\n",
    "from datetime import datetime\n",
    "import calendar"
   ]
  },
  {
   "cell_type": "code",
   "execution_count": 74,
   "metadata": {},
   "outputs": [],
   "source": [
    "# using a dates as a range is several times faster, will use ranges and optimize \n",
    "date_select = pd.date_range('2022-08-01','2022-09-01',freq='D')\n",
    "#extract date from datetime and convert to stirng \n",
    "dates = [str(datetime.date(i)) for i in dates]"
   ]
  },
  {
   "cell_type": "code",
   "execution_count": null,
   "metadata": {},
   "outputs": [],
   "source": [
    "strftime(\"%m/%d/%Y, %H:%M:%S\")"
   ]
  },
  {
   "cell_type": "code",
   "execution_count": 76,
   "metadata": {},
   "outputs": [
    {
     "data": {
      "text/plain": [
       "'2022-08-01'"
      ]
     },
     "execution_count": 76,
     "metadata": {},
     "output_type": "execute_result"
    }
   ],
   "source": [
    "dates[0] "
   ]
  },
  {
   "cell_type": "code",
   "execution_count": 30,
   "metadata": {},
   "outputs": [
    {
     "data": {
      "text/plain": [
       "'2022-00-08/01/22'"
      ]
     },
     "execution_count": 30,
     "metadata": {},
     "output_type": "execute_result"
    }
   ],
   "source": [
    "dates[0].strftime(\"%Y-%M-%D\")"
   ]
  },
  {
   "cell_type": "code",
   "execution_count": 46,
   "metadata": {},
   "outputs": [
    {
     "data": {
      "text/plain": [
       "range(0, 31)"
      ]
     },
     "execution_count": 46,
     "metadata": {},
     "output_type": "execute_result"
    }
   ],
   "source": [
    "range(len(dates)-1) "
   ]
  },
  {
   "cell_type": "code",
   "execution_count": 44,
   "metadata": {},
   "outputs": [
    {
     "data": {
      "text/plain": [
       "31"
      ]
     },
     "execution_count": 44,
     "metadata": {},
     "output_type": "execute_result"
    }
   ],
   "source": [
    "len(dates)"
   ]
  },
  {
   "cell_type": "code",
   "execution_count": 58,
   "metadata": {},
   "outputs": [],
   "source": [
    "#ampersand to chain filters\n",
    "#must set limit above expected data or default limt set to 1000\n",
    "api_url1 = \"https://data.sfgov.org/resource/imvp-dq3v.json?$limit=100000&$where=session_start_dt between '2022-08-01' and '2022-08-02'\"\n"
   ]
  },
  {
   "cell_type": "code",
   "execution_count": 3,
   "metadata": {},
   "outputs": [],
   "source": [
    "class GetData():\n",
    "    #api request\n",
    "     def __init__(self, endpoint_url):\n",
    "        print(\"requesting data\")\n",
    "        self.endpoint = endpoint_url\n",
    "        self.response = requests.get(url=self.endpoint)\n",
    "        self.data = self.response.json() \n",
    "        print(\"data request complete\")\n",
    "    "
   ]
  },
  {
   "cell_type": "code",
   "execution_count": 90,
   "metadata": {},
   "outputs": [
    {
     "name": "stdout",
     "output_type": "stream",
     "text": [
      "requesting data\n",
      "data request complete\n"
     ]
    }
   ],
   "source": [
    "test1 = GetData(api_url1)"
   ]
  },
  {
   "cell_type": "code",
   "execution_count": 91,
   "metadata": {},
   "outputs": [
    {
     "data": {
      "text/plain": [
       "65382"
      ]
     },
     "execution_count": 91,
     "metadata": {},
     "output_type": "execute_result"
    }
   ],
   "source": [
    "len(test1.data)"
   ]
  },
  {
   "cell_type": "code",
   "execution_count": 92,
   "metadata": {},
   "outputs": [],
   "source": [
    "df = pd.DataFrame(test1.data)"
   ]
  },
  {
   "cell_type": "code",
   "execution_count": 93,
   "metadata": {},
   "outputs": [
    {
     "data": {
      "text/html": [
       "<div>\n",
       "<style scoped>\n",
       "    .dataframe tbody tr th:only-of-type {\n",
       "        vertical-align: middle;\n",
       "    }\n",
       "\n",
       "    .dataframe tbody tr th {\n",
       "        vertical-align: top;\n",
       "    }\n",
       "\n",
       "    .dataframe thead th {\n",
       "        text-align: right;\n",
       "    }\n",
       "</style>\n",
       "<table border=\"1\" class=\"dataframe\">\n",
       "  <thead>\n",
       "    <tr style=\"text-align: right;\">\n",
       "      <th></th>\n",
       "      <th>transmission_datetime</th>\n",
       "      <th>post_id</th>\n",
       "      <th>street_block</th>\n",
       "      <th>payment_type</th>\n",
       "      <th>session_start_dt</th>\n",
       "      <th>session_end_dt</th>\n",
       "      <th>meter_event_type</th>\n",
       "      <th>gross_paid_amt</th>\n",
       "    </tr>\n",
       "  </thead>\n",
       "  <tbody>\n",
       "    <tr>\n",
       "      <th>0</th>\n",
       "      <td>-6708946392_11_08012022002203</td>\n",
       "      <td>854-29140</td>\n",
       "      <td>LEAVENWORTH ST 2900</td>\n",
       "      <td>CREDIT CARD</td>\n",
       "      <td>2022-08-01T00:22:03.000</td>\n",
       "      <td>2022-07-31T16:16:48.000</td>\n",
       "      <td>AT</td>\n",
       "      <td>10.69</td>\n",
       "    </tr>\n",
       "    <tr>\n",
       "      <th>1</th>\n",
       "      <td>-6708946391_11_08012022002204</td>\n",
       "      <td>854-29080</td>\n",
       "      <td>LEAVENWORTH ST 2900</td>\n",
       "      <td>CASH</td>\n",
       "      <td>2022-08-01T00:22:04.000</td>\n",
       "      <td>2022-07-31T15:00:00.000</td>\n",
       "      <td>AT</td>\n",
       "      <td>5.5</td>\n",
       "    </tr>\n",
       "    <tr>\n",
       "      <th>2</th>\n",
       "      <td>-6708946400_11_08012022002204</td>\n",
       "      <td>854-29140</td>\n",
       "      <td>LEAVENWORTH ST 2900</td>\n",
       "      <td>CREDIT CARD</td>\n",
       "      <td>2022-08-01T00:22:04.000</td>\n",
       "      <td>2022-07-31T17:16:48.000</td>\n",
       "      <td>AT</td>\n",
       "      <td>4.25</td>\n",
       "    </tr>\n",
       "    <tr>\n",
       "      <th>3</th>\n",
       "      <td>-6708946399_11_08012022002205</td>\n",
       "      <td>854-29060</td>\n",
       "      <td>LEAVENWORTH ST 2900</td>\n",
       "      <td>CREDIT CARD</td>\n",
       "      <td>2022-08-01T00:22:05.000</td>\n",
       "      <td>2022-07-31T16:16:48.000</td>\n",
       "      <td>AT</td>\n",
       "      <td>7.69</td>\n",
       "    </tr>\n",
       "    <tr>\n",
       "      <th>4</th>\n",
       "      <td>-6708946389_11_08012022002206</td>\n",
       "      <td>854-29120</td>\n",
       "      <td>LEAVENWORTH ST 2900</td>\n",
       "      <td>CREDIT CARD</td>\n",
       "      <td>2022-08-01T00:22:06.000</td>\n",
       "      <td>2022-07-31T16:58:36.000</td>\n",
       "      <td>AT</td>\n",
       "      <td>4.25</td>\n",
       "    </tr>\n",
       "  </tbody>\n",
       "</table>\n",
       "</div>"
      ],
      "text/plain": [
       "           transmission_datetime    post_id         street_block payment_type  \\\n",
       "0  -6708946392_11_08012022002203  854-29140  LEAVENWORTH ST 2900  CREDIT CARD   \n",
       "1  -6708946391_11_08012022002204  854-29080  LEAVENWORTH ST 2900         CASH   \n",
       "2  -6708946400_11_08012022002204  854-29140  LEAVENWORTH ST 2900  CREDIT CARD   \n",
       "3  -6708946399_11_08012022002205  854-29060  LEAVENWORTH ST 2900  CREDIT CARD   \n",
       "4  -6708946389_11_08012022002206  854-29120  LEAVENWORTH ST 2900  CREDIT CARD   \n",
       "\n",
       "          session_start_dt           session_end_dt meter_event_type  \\\n",
       "0  2022-08-01T00:22:03.000  2022-07-31T16:16:48.000               AT   \n",
       "1  2022-08-01T00:22:04.000  2022-07-31T15:00:00.000               AT   \n",
       "2  2022-08-01T00:22:04.000  2022-07-31T17:16:48.000               AT   \n",
       "3  2022-08-01T00:22:05.000  2022-07-31T16:16:48.000               AT   \n",
       "4  2022-08-01T00:22:06.000  2022-07-31T16:58:36.000               AT   \n",
       "\n",
       "  gross_paid_amt  \n",
       "0          10.69  \n",
       "1            5.5  \n",
       "2           4.25  \n",
       "3           7.69  \n",
       "4           4.25  "
      ]
     },
     "execution_count": 93,
     "metadata": {},
     "output_type": "execute_result"
    }
   ],
   "source": [
    "df.head()"
   ]
  },
  {
   "cell_type": "markdown",
   "metadata": {},
   "source": [
    "## gross paid ammount "
   ]
  },
  {
   "cell_type": "code",
   "execution_count": 122,
   "metadata": {},
   "outputs": [],
   "source": [
    "df['gross_paid_amt'] = df['gross_paid_amt'].apply(lambda x: float(x))"
   ]
  },
  {
   "cell_type": "code",
   "execution_count": 149,
   "metadata": {},
   "outputs": [
    {
     "data": {
      "text/plain": [
       "0    11.0\n",
       "1     6.0\n",
       "2     4.0\n",
       "3     8.0\n",
       "4     4.0\n",
       "Name: gross_paid_amt, dtype: float64"
      ]
     },
     "execution_count": 149,
     "metadata": {},
     "output_type": "execute_result"
    }
   ],
   "source": [
    "#rename to dollar ammount \n",
    "round(df.gross_paid_amt).head()"
   ]
  },
  {
   "cell_type": "markdown",
   "metadata": {},
   "source": [
    "## session times "
   ]
  },
  {
   "cell_type": "code",
   "execution_count": 153,
   "metadata": {},
   "outputs": [],
   "source": [
    "#extract date \n",
    "df['session_start_date'] = pd.to_datetime(df['session_start_dt']).dt.date"
   ]
  },
  {
   "cell_type": "code",
   "execution_count": 148,
   "metadata": {},
   "outputs": [
    {
     "data": {
      "text/html": [
       "<div>\n",
       "<style scoped>\n",
       "    .dataframe tbody tr th:only-of-type {\n",
       "        vertical-align: middle;\n",
       "    }\n",
       "\n",
       "    .dataframe tbody tr th {\n",
       "        vertical-align: top;\n",
       "    }\n",
       "\n",
       "    .dataframe thead th {\n",
       "        text-align: right;\n",
       "    }\n",
       "</style>\n",
       "<table border=\"1\" class=\"dataframe\">\n",
       "  <thead>\n",
       "    <tr style=\"text-align: right;\">\n",
       "      <th></th>\n",
       "      <th>transmission_datetime</th>\n",
       "      <th>post_id</th>\n",
       "      <th>street_block</th>\n",
       "      <th>payment_type</th>\n",
       "      <th>session_start_dt</th>\n",
       "      <th>session_end_dt</th>\n",
       "      <th>meter_event_type</th>\n",
       "      <th>gross_paid_amt</th>\n",
       "      <th>session_start_date</th>\n",
       "    </tr>\n",
       "  </thead>\n",
       "  <tbody>\n",
       "    <tr>\n",
       "      <th>0</th>\n",
       "      <td>-6708946392_11_08012022002203</td>\n",
       "      <td>854-29140</td>\n",
       "      <td>LEAVENWORTH ST 2900</td>\n",
       "      <td>CREDIT CARD</td>\n",
       "      <td>2022-08-01T00:22:03.000</td>\n",
       "      <td>2022-07-31T16:16:48.000</td>\n",
       "      <td>AT</td>\n",
       "      <td>10.69</td>\n",
       "      <td>2022-08-01</td>\n",
       "    </tr>\n",
       "    <tr>\n",
       "      <th>1</th>\n",
       "      <td>-6708946391_11_08012022002204</td>\n",
       "      <td>854-29080</td>\n",
       "      <td>LEAVENWORTH ST 2900</td>\n",
       "      <td>CASH</td>\n",
       "      <td>2022-08-01T00:22:04.000</td>\n",
       "      <td>2022-07-31T15:00:00.000</td>\n",
       "      <td>AT</td>\n",
       "      <td>5.50</td>\n",
       "      <td>2022-08-01</td>\n",
       "    </tr>\n",
       "    <tr>\n",
       "      <th>2</th>\n",
       "      <td>-6708946400_11_08012022002204</td>\n",
       "      <td>854-29140</td>\n",
       "      <td>LEAVENWORTH ST 2900</td>\n",
       "      <td>CREDIT CARD</td>\n",
       "      <td>2022-08-01T00:22:04.000</td>\n",
       "      <td>2022-07-31T17:16:48.000</td>\n",
       "      <td>AT</td>\n",
       "      <td>4.25</td>\n",
       "      <td>2022-08-01</td>\n",
       "    </tr>\n",
       "    <tr>\n",
       "      <th>3</th>\n",
       "      <td>-6708946399_11_08012022002205</td>\n",
       "      <td>854-29060</td>\n",
       "      <td>LEAVENWORTH ST 2900</td>\n",
       "      <td>CREDIT CARD</td>\n",
       "      <td>2022-08-01T00:22:05.000</td>\n",
       "      <td>2022-07-31T16:16:48.000</td>\n",
       "      <td>AT</td>\n",
       "      <td>7.69</td>\n",
       "      <td>2022-08-01</td>\n",
       "    </tr>\n",
       "    <tr>\n",
       "      <th>4</th>\n",
       "      <td>-6708946389_11_08012022002206</td>\n",
       "      <td>854-29120</td>\n",
       "      <td>LEAVENWORTH ST 2900</td>\n",
       "      <td>CREDIT CARD</td>\n",
       "      <td>2022-08-01T00:22:06.000</td>\n",
       "      <td>2022-07-31T16:58:36.000</td>\n",
       "      <td>AT</td>\n",
       "      <td>4.25</td>\n",
       "      <td>2022-08-01</td>\n",
       "    </tr>\n",
       "  </tbody>\n",
       "</table>\n",
       "</div>"
      ],
      "text/plain": [
       "           transmission_datetime    post_id         street_block payment_type  \\\n",
       "0  -6708946392_11_08012022002203  854-29140  LEAVENWORTH ST 2900  CREDIT CARD   \n",
       "1  -6708946391_11_08012022002204  854-29080  LEAVENWORTH ST 2900         CASH   \n",
       "2  -6708946400_11_08012022002204  854-29140  LEAVENWORTH ST 2900  CREDIT CARD   \n",
       "3  -6708946399_11_08012022002205  854-29060  LEAVENWORTH ST 2900  CREDIT CARD   \n",
       "4  -6708946389_11_08012022002206  854-29120  LEAVENWORTH ST 2900  CREDIT CARD   \n",
       "\n",
       "          session_start_dt           session_end_dt meter_event_type  \\\n",
       "0  2022-08-01T00:22:03.000  2022-07-31T16:16:48.000               AT   \n",
       "1  2022-08-01T00:22:04.000  2022-07-31T15:00:00.000               AT   \n",
       "2  2022-08-01T00:22:04.000  2022-07-31T17:16:48.000               AT   \n",
       "3  2022-08-01T00:22:05.000  2022-07-31T16:16:48.000               AT   \n",
       "4  2022-08-01T00:22:06.000  2022-07-31T16:58:36.000               AT   \n",
       "\n",
       "   gross_paid_amt session_start_date  \n",
       "0           10.69         2022-08-01  \n",
       "1            5.50         2022-08-01  \n",
       "2            4.25         2022-08-01  \n",
       "3            7.69         2022-08-01  \n",
       "4            4.25         2022-08-01  "
      ]
     },
     "execution_count": 148,
     "metadata": {},
     "output_type": "execute_result"
    }
   ],
   "source": [
    "df.head()"
   ]
  },
  {
   "cell_type": "code",
   "execution_count": 152,
   "metadata": {},
   "outputs": [],
   "source": [
    "#extract time\n",
    "df['session_start_time'] = pd.to_datetime(df['session_start_dt']).dt.time"
   ]
  },
  {
   "cell_type": "code",
   "execution_count": 156,
   "metadata": {},
   "outputs": [
    {
     "data": {
      "text/html": [
       "<div>\n",
       "<style scoped>\n",
       "    .dataframe tbody tr th:only-of-type {\n",
       "        vertical-align: middle;\n",
       "    }\n",
       "\n",
       "    .dataframe tbody tr th {\n",
       "        vertical-align: top;\n",
       "    }\n",
       "\n",
       "    .dataframe thead th {\n",
       "        text-align: right;\n",
       "    }\n",
       "</style>\n",
       "<table border=\"1\" class=\"dataframe\">\n",
       "  <thead>\n",
       "    <tr style=\"text-align: right;\">\n",
       "      <th></th>\n",
       "      <th>transmission_datetime</th>\n",
       "      <th>post_id</th>\n",
       "      <th>street_block</th>\n",
       "      <th>payment_type</th>\n",
       "      <th>session_start_dt</th>\n",
       "      <th>session_end_dt</th>\n",
       "      <th>meter_event_type</th>\n",
       "      <th>gross_paid_amt</th>\n",
       "      <th>session_start_date</th>\n",
       "      <th>session_start_time</th>\n",
       "    </tr>\n",
       "  </thead>\n",
       "  <tbody>\n",
       "    <tr>\n",
       "      <th>0</th>\n",
       "      <td>-6708946392_11_08012022002203</td>\n",
       "      <td>854-29140</td>\n",
       "      <td>LEAVENWORTH ST 2900</td>\n",
       "      <td>CREDIT CARD</td>\n",
       "      <td>2022-08-01T00:22:03.000</td>\n",
       "      <td>2022-07-31T16:16:48.000</td>\n",
       "      <td>AT</td>\n",
       "      <td>10.69</td>\n",
       "      <td>2022-08-01</td>\n",
       "      <td>00:22:03</td>\n",
       "    </tr>\n",
       "    <tr>\n",
       "      <th>1</th>\n",
       "      <td>-6708946391_11_08012022002204</td>\n",
       "      <td>854-29080</td>\n",
       "      <td>LEAVENWORTH ST 2900</td>\n",
       "      <td>CASH</td>\n",
       "      <td>2022-08-01T00:22:04.000</td>\n",
       "      <td>2022-07-31T15:00:00.000</td>\n",
       "      <td>AT</td>\n",
       "      <td>5.50</td>\n",
       "      <td>2022-08-01</td>\n",
       "      <td>00:22:04</td>\n",
       "    </tr>\n",
       "    <tr>\n",
       "      <th>2</th>\n",
       "      <td>-6708946400_11_08012022002204</td>\n",
       "      <td>854-29140</td>\n",
       "      <td>LEAVENWORTH ST 2900</td>\n",
       "      <td>CREDIT CARD</td>\n",
       "      <td>2022-08-01T00:22:04.000</td>\n",
       "      <td>2022-07-31T17:16:48.000</td>\n",
       "      <td>AT</td>\n",
       "      <td>4.25</td>\n",
       "      <td>2022-08-01</td>\n",
       "      <td>00:22:04</td>\n",
       "    </tr>\n",
       "    <tr>\n",
       "      <th>3</th>\n",
       "      <td>-6708946399_11_08012022002205</td>\n",
       "      <td>854-29060</td>\n",
       "      <td>LEAVENWORTH ST 2900</td>\n",
       "      <td>CREDIT CARD</td>\n",
       "      <td>2022-08-01T00:22:05.000</td>\n",
       "      <td>2022-07-31T16:16:48.000</td>\n",
       "      <td>AT</td>\n",
       "      <td>7.69</td>\n",
       "      <td>2022-08-01</td>\n",
       "      <td>00:22:05</td>\n",
       "    </tr>\n",
       "    <tr>\n",
       "      <th>4</th>\n",
       "      <td>-6708946389_11_08012022002206</td>\n",
       "      <td>854-29120</td>\n",
       "      <td>LEAVENWORTH ST 2900</td>\n",
       "      <td>CREDIT CARD</td>\n",
       "      <td>2022-08-01T00:22:06.000</td>\n",
       "      <td>2022-07-31T16:58:36.000</td>\n",
       "      <td>AT</td>\n",
       "      <td>4.25</td>\n",
       "      <td>2022-08-01</td>\n",
       "      <td>00:22:06</td>\n",
       "    </tr>\n",
       "  </tbody>\n",
       "</table>\n",
       "</div>"
      ],
      "text/plain": [
       "           transmission_datetime    post_id         street_block payment_type  \\\n",
       "0  -6708946392_11_08012022002203  854-29140  LEAVENWORTH ST 2900  CREDIT CARD   \n",
       "1  -6708946391_11_08012022002204  854-29080  LEAVENWORTH ST 2900         CASH   \n",
       "2  -6708946400_11_08012022002204  854-29140  LEAVENWORTH ST 2900  CREDIT CARD   \n",
       "3  -6708946399_11_08012022002205  854-29060  LEAVENWORTH ST 2900  CREDIT CARD   \n",
       "4  -6708946389_11_08012022002206  854-29120  LEAVENWORTH ST 2900  CREDIT CARD   \n",
       "\n",
       "          session_start_dt           session_end_dt meter_event_type  \\\n",
       "0  2022-08-01T00:22:03.000  2022-07-31T16:16:48.000               AT   \n",
       "1  2022-08-01T00:22:04.000  2022-07-31T15:00:00.000               AT   \n",
       "2  2022-08-01T00:22:04.000  2022-07-31T17:16:48.000               AT   \n",
       "3  2022-08-01T00:22:05.000  2022-07-31T16:16:48.000               AT   \n",
       "4  2022-08-01T00:22:06.000  2022-07-31T16:58:36.000               AT   \n",
       "\n",
       "   gross_paid_amt session_start_date session_start_time  \n",
       "0           10.69         2022-08-01           00:22:03  \n",
       "1            5.50         2022-08-01           00:22:04  \n",
       "2            4.25         2022-08-01           00:22:04  \n",
       "3            7.69         2022-08-01           00:22:05  \n",
       "4            4.25         2022-08-01           00:22:06  "
      ]
     },
     "execution_count": 156,
     "metadata": {},
     "output_type": "execute_result"
    }
   ],
   "source": [
    "df.head()"
   ]
  },
  {
   "cell_type": "code",
   "execution_count": null,
   "metadata": {},
   "outputs": [],
   "source": [
    "df['session_start_time']"
   ]
  },
  {
   "cell_type": "code",
   "execution_count": null,
   "metadata": {},
   "outputs": [],
   "source": [
    "#seperate date and time \n",
    "df['session_start'] = pd.to_datetime(df)"
   ]
  }
 ],
 "metadata": {
  "kernelspec": {
   "display_name": "PythonData",
   "language": "python",
   "name": "pythondata"
  },
  "language_info": {
   "codemirror_mode": {
    "name": "ipython",
    "version": 3
   },
   "file_extension": ".py",
   "mimetype": "text/x-python",
   "name": "python",
   "nbconvert_exporter": "python",
   "pygments_lexer": "ipython3",
   "version": "3.7.11"
  }
 },
 "nbformat": 4,
 "nbformat_minor": 4
}
