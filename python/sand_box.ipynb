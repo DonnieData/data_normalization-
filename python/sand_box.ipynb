{
 "cells": [
  {
   "cell_type": "code",
   "execution_count": 1,
   "metadata": {},
   "outputs": [],
   "source": [
    "#import dependencies \n",
    "import pandas as pd \n",
    "import requests \n",
    "from sqlalchemy import create_engine\n",
    "import psycopg2\n",
    "import config \n"
   ]
  },
  {
   "cell_type": "code",
   "execution_count": 2,
   "metadata": {},
   "outputs": [],
   "source": [
    "class GetData():\n",
    "    def __init__(self):\n",
    "        self.endpoint = \"https://data.sfgov.org/resource/imvp-dq3v.json?$limit=1000\"\n",
    "        response = requests.get(url=self.endpoint)\n",
    "        self.data = response.json()"
   ]
  },
  {
   "cell_type": "code",
   "execution_count": 4,
   "metadata": {},
   "outputs": [],
   "source": [
    "test = GetData()"
   ]
  },
  {
   "cell_type": "code",
   "execution_count": 6,
   "metadata": {},
   "outputs": [
    {
     "data": {
      "text/plain": [
       "{'transmission_datetime': '120744642_4_04042017090156',\n",
       " 'post_id': '471-10460',\n",
       " 'street_block': 'HARRISON ST 1000',\n",
       " 'payment_type': 'CREDIT CARD',\n",
       " 'session_start_dt': '2017-04-04T09:01:56.000',\n",
       " 'session_end_dt': '2017-04-04T11:01:56.000',\n",
       " 'meter_event_type': 'NS',\n",
       " 'gross_paid_amt': '4.5'}"
      ]
     },
     "execution_count": 6,
     "metadata": {},
     "output_type": "execute_result"
    }
   ],
   "source": [
    "test.data[2]"
   ]
  },
  {
   "cell_type": "code",
   "execution_count": null,
   "metadata": {},
   "outputs": [],
   "source": []
  },
  {
   "cell_type": "code",
   "execution_count": 7,
   "metadata": {},
   "outputs": [
    {
     "data": {
      "text/plain": [
       "1000"
      ]
     },
     "execution_count": 7,
     "metadata": {},
     "output_type": "execute_result"
    }
   ],
   "source": [
    "len(test_data.data)"
   ]
  }
 ],
 "metadata": {
  "kernelspec": {
   "display_name": "PythonData",
   "language": "python",
   "name": "pythondata"
  },
  "language_info": {
   "codemirror_mode": {
    "name": "ipython",
    "version": 3
   },
   "file_extension": ".py",
   "mimetype": "text/x-python",
   "name": "python",
   "nbconvert_exporter": "python",
   "pygments_lexer": "ipython3",
   "version": "3.7.11"
  }
 },
 "nbformat": 4,
 "nbformat_minor": 4
}
