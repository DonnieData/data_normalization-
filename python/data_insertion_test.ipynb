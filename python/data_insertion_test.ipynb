{
 "cells": [
  {
   "cell_type": "code",
   "execution_count": 1,
   "metadata": {},
   "outputs": [],
   "source": [
    "#import dependencies \n",
    "import pandas as pd \n",
    "import requests \n",
    "from sqlalchemy import create_engine\n",
    "import psycopg2\n",
    "import config "
   ]
  },
  {
   "cell_type": "code",
   "execution_count": 2,
   "metadata": {},
   "outputs": [],
   "source": [
    "#connect to postgres database \n",
    "conn = psycopg2.connect(database=\"donniedata\", user=config.db_user, password=config.db_password, sslmode=\"disable\")\n",
    "cur = conn.cursor();\n",
    "conn.autocommit = True"
   ]
  },
  {
   "cell_type": "code",
   "execution_count": 3,
   "metadata": {},
   "outputs": [],
   "source": [
    "#get sample of data -1000 rows\n",
    "endpoint = \"https://data.sfgov.org/resource/imvp-dq3v.json?$limit=1000\"\n",
    "r = requests.get(url=endpoint)"
   ]
  },
  {
   "cell_type": "code",
   "execution_count": 4,
   "metadata": {},
   "outputs": [],
   "source": [
    "#convert to datframe \n",
    "data_df = pd.DataFrame(r.json())"
   ]
  },
  {
   "cell_type": "code",
   "execution_count": 5,
   "metadata": {},
   "outputs": [
    {
     "name": "stdout",
     "output_type": "stream",
     "text": [
      "<class 'pandas.core.frame.DataFrame'>\n",
      "RangeIndex: 1000 entries, 0 to 999\n",
      "Data columns (total 8 columns):\n",
      " #   Column                 Non-Null Count  Dtype \n",
      "---  ------                 --------------  ----- \n",
      " 0   transmission_datetime  1000 non-null   object\n",
      " 1   post_id                1000 non-null   object\n",
      " 2   street_block           1000 non-null   object\n",
      " 3   payment_type           1000 non-null   object\n",
      " 4   session_start_dt       1000 non-null   object\n",
      " 5   session_end_dt         1000 non-null   object\n",
      " 6   meter_event_type       1000 non-null   object\n",
      " 7   gross_paid_amt         1000 non-null   object\n",
      "dtypes: object(8)\n",
      "memory usage: 62.6+ KB\n"
     ]
    }
   ],
   "source": [
    "# review enforce data types \n",
    "data_df.info()"
   ]
  },
  {
   "cell_type": "code",
   "execution_count": 6,
   "metadata": {},
   "outputs": [
    {
     "data": {
      "text/html": [
       "<div>\n",
       "<style scoped>\n",
       "    .dataframe tbody tr th:only-of-type {\n",
       "        vertical-align: middle;\n",
       "    }\n",
       "\n",
       "    .dataframe tbody tr th {\n",
       "        vertical-align: top;\n",
       "    }\n",
       "\n",
       "    .dataframe thead th {\n",
       "        text-align: right;\n",
       "    }\n",
       "</style>\n",
       "<table border=\"1\" class=\"dataframe\">\n",
       "  <thead>\n",
       "    <tr style=\"text-align: right;\">\n",
       "      <th></th>\n",
       "      <th>transmission_datetime</th>\n",
       "      <th>post_id</th>\n",
       "      <th>street_block</th>\n",
       "      <th>payment_type</th>\n",
       "      <th>session_start_dt</th>\n",
       "      <th>session_end_dt</th>\n",
       "      <th>meter_event_type</th>\n",
       "      <th>gross_paid_amt</th>\n",
       "    </tr>\n",
       "  </thead>\n",
       "  <tbody>\n",
       "    <tr>\n",
       "      <th>0</th>\n",
       "      <td>196158860_4_06092020073616</td>\n",
       "      <td>700-14150</td>\n",
       "      <td>VALENCIA ST 1400</td>\n",
       "      <td>CASH</td>\n",
       "      <td>2020-06-09T07:36:16.000</td>\n",
       "      <td>2020-06-09T10:36:00.000</td>\n",
       "      <td>NS</td>\n",
       "      <td>0.8</td>\n",
       "    </tr>\n",
       "    <tr>\n",
       "      <th>1</th>\n",
       "      <td>196158861_4_06092020073722</td>\n",
       "      <td>471-07180</td>\n",
       "      <td>HARRISON ST 700</td>\n",
       "      <td>CREDIT CARD</td>\n",
       "      <td>2020-06-09T07:37:22.000</td>\n",
       "      <td>2020-06-09T17:30:10.000</td>\n",
       "      <td>NS</td>\n",
       "      <td>4.25</td>\n",
       "    </tr>\n",
       "    <tr>\n",
       "      <th>2</th>\n",
       "      <td>196158862_4_06092020073733</td>\n",
       "      <td>524-01320</td>\n",
       "      <td>KING ST 100</td>\n",
       "      <td>CREDIT CARD</td>\n",
       "      <td>2020-06-09T07:37:33.000</td>\n",
       "      <td>2020-06-09T17:00:09.000</td>\n",
       "      <td>NS</td>\n",
       "      <td>4</td>\n",
       "    </tr>\n",
       "    <tr>\n",
       "      <th>3</th>\n",
       "      <td>196158863_4_06092020073706</td>\n",
       "      <td>651-03060</td>\n",
       "      <td>SANSOME ST 300</td>\n",
       "      <td>CASH</td>\n",
       "      <td>2020-06-09T07:37:06.000</td>\n",
       "      <td>2020-06-09T10:58:16.000</td>\n",
       "      <td>AT</td>\n",
       "      <td>1.35</td>\n",
       "    </tr>\n",
       "    <tr>\n",
       "      <th>4</th>\n",
       "      <td>196158864_4_06092020073759</td>\n",
       "      <td>359-09080</td>\n",
       "      <td>CLAY ST 900</td>\n",
       "      <td>CREDIT CARD</td>\n",
       "      <td>2020-06-09T07:37:59.000</td>\n",
       "      <td>2020-06-09T15:00:10.000</td>\n",
       "      <td>NS</td>\n",
       "      <td>3</td>\n",
       "    </tr>\n",
       "  </tbody>\n",
       "</table>\n",
       "</div>"
      ],
      "text/plain": [
       "        transmission_datetime    post_id      street_block payment_type  \\\n",
       "0  196158860_4_06092020073616  700-14150  VALENCIA ST 1400         CASH   \n",
       "1  196158861_4_06092020073722  471-07180   HARRISON ST 700  CREDIT CARD   \n",
       "2  196158862_4_06092020073733  524-01320       KING ST 100  CREDIT CARD   \n",
       "3  196158863_4_06092020073706  651-03060    SANSOME ST 300         CASH   \n",
       "4  196158864_4_06092020073759  359-09080       CLAY ST 900  CREDIT CARD   \n",
       "\n",
       "          session_start_dt           session_end_dt meter_event_type  \\\n",
       "0  2020-06-09T07:36:16.000  2020-06-09T10:36:00.000               NS   \n",
       "1  2020-06-09T07:37:22.000  2020-06-09T17:30:10.000               NS   \n",
       "2  2020-06-09T07:37:33.000  2020-06-09T17:00:09.000               NS   \n",
       "3  2020-06-09T07:37:06.000  2020-06-09T10:58:16.000               AT   \n",
       "4  2020-06-09T07:37:59.000  2020-06-09T15:00:10.000               NS   \n",
       "\n",
       "  gross_paid_amt  \n",
       "0            0.8  \n",
       "1           4.25  \n",
       "2              4  \n",
       "3           1.35  \n",
       "4              3  "
      ]
     },
     "execution_count": 6,
     "metadata": {},
     "output_type": "execute_result"
    }
   ],
   "source": [
    "data_df.head()"
   ]
  },
  {
   "cell_type": "code",
   "execution_count": 27,
   "metadata": {},
   "outputs": [
    {
     "data": {
      "text/plain": [
       "array(['GRANT AVE 1100', 'PACIFIC AVE 400', 'NEW MONTGOMERY ST 100',\n",
       "       'HOWARD ST 100', 'CLAY ST 300', '07TH ST 100',\n",
       "       'SAINT JOSEPHS AVE 300', 'HOWARD ST 500', 'MISSION ST 0',\n",
       "       'MAIN ST 100'], dtype=object)"
      ]
     },
     "execution_count": 27,
     "metadata": {},
     "output_type": "execute_result"
    }
   ],
   "source": [
    "#get unique values of dimension from current data pullto further reduce checking each value \n",
    "streets_unique = data_df.street_block.unique()\n",
    "streets_unique[0:10]"
   ]
  },
  {
   "cell_type": "code",
   "execution_count": 11,
   "metadata": {},
   "outputs": [],
   "source": [
    "\n",
    "street_list = data_df.street_block.to_list()"
   ]
  },
  {
   "cell_type": "code",
   "execution_count": 55,
   "metadata": {},
   "outputs": [
    {
     "data": {
      "text/plain": [
       "[('VALENCIA ST 1400',),\n",
       " ('HARRISON ST 700',),\n",
       " ('KING ST 100',),\n",
       " ('SANSOME ST 300',),\n",
       " ('CLAY ST 900',)]"
      ]
     },
     "execution_count": 55,
     "metadata": {},
     "output_type": "execute_result"
    }
   ],
   "source": [
    "#first test with all values to ensure script only inserts values not already in table \n",
    "#convert to tuples for insertion \n",
    "street_list = list(data_df[['street_block']].to_records(index=False))\n",
    "street_list[0:5]"
   ]
  },
  {
   "cell_type": "code",
   "execution_count": 60,
   "metadata": {},
   "outputs": [
    {
     "data": {
      "text/plain": [
       "('VALENCIA ST 1400',)"
      ]
     },
     "execution_count": 60,
     "metadata": {},
     "output_type": "execute_result"
    }
   ],
   "source": [
    "street_list[0]"
   ]
  },
  {
   "cell_type": "code",
   "execution_count": 59,
   "metadata": {},
   "outputs": [
    {
     "ename": "IndexError",
     "evalue": "invalid index (1)",
     "output_type": "error",
     "traceback": [
      "\u001b[1;31m---------------------------------------------------------------------------\u001b[0m",
      "\u001b[1;31mIndexError\u001b[0m                                Traceback (most recent call last)",
      "\u001b[1;32m<ipython-input-59-b1b767874c8b>\u001b[0m in \u001b[0;36m<module>\u001b[1;34m\u001b[0m\n\u001b[0;32m      9\u001b[0m \u001b[1;33m\u001b[0m\u001b[0m\n\u001b[0;32m     10\u001b[0m '''\n\u001b[1;32m---> 11\u001b[1;33m \u001b[0mcur\u001b[0m\u001b[1;33m.\u001b[0m\u001b[0mexecutemany\u001b[0m\u001b[1;33m(\u001b[0m\u001b[0msql\u001b[0m\u001b[1;33m,\u001b[0m \u001b[0mstreet_list\u001b[0m\u001b[1;33m)\u001b[0m\u001b[1;33m\u001b[0m\u001b[1;33m\u001b[0m\u001b[0m\n\u001b[0m",
      "\u001b[1;32m~Users\\Donne\\Anaconda3\\lib\\site-packages\\numpy\\core\\records.py\u001b[0m in \u001b[0;36m__getitem__\u001b[1;34m(self, indx)\u001b[0m\n\u001b[0;32m    290\u001b[0m \u001b[1;33m\u001b[0m\u001b[0m\n\u001b[0;32m    291\u001b[0m     \u001b[1;32mdef\u001b[0m \u001b[0m__getitem__\u001b[0m\u001b[1;33m(\u001b[0m\u001b[0mself\u001b[0m\u001b[1;33m,\u001b[0m \u001b[0mindx\u001b[0m\u001b[1;33m)\u001b[0m\u001b[1;33m:\u001b[0m\u001b[1;33m\u001b[0m\u001b[1;33m\u001b[0m\u001b[0m\n\u001b[1;32m--> 292\u001b[1;33m         \u001b[0mobj\u001b[0m \u001b[1;33m=\u001b[0m \u001b[0mnt\u001b[0m\u001b[1;33m.\u001b[0m\u001b[0mvoid\u001b[0m\u001b[1;33m.\u001b[0m\u001b[0m__getitem__\u001b[0m\u001b[1;33m(\u001b[0m\u001b[0mself\u001b[0m\u001b[1;33m,\u001b[0m \u001b[0mindx\u001b[0m\u001b[1;33m)\u001b[0m\u001b[1;33m\u001b[0m\u001b[1;33m\u001b[0m\u001b[0m\n\u001b[0m\u001b[0;32m    293\u001b[0m \u001b[1;33m\u001b[0m\u001b[0m\n\u001b[0;32m    294\u001b[0m         \u001b[1;31m# copy behavior of record.__getattribute__,\u001b[0m\u001b[1;33m\u001b[0m\u001b[1;33m\u001b[0m\u001b[1;33m\u001b[0m\u001b[0m\n",
      "\u001b[1;31mIndexError\u001b[0m: invalid index (1)"
     ]
    }
   ],
   "source": [
    "sql = '''\n",
    "DO $$\n",
    "BEGIN \n",
    "IF NOT EXISTS (select 1 from sf_ticket_trans.dim_street where street_block = %s) \n",
    "THEN INSERT INTO sf_ticket_trans.dim_street (street_block) VALUES (%s);\n",
    "END IF;\n",
    "END;\n",
    "$$ \n",
    "\n",
    "'''\n",
    "cur.executemany(sql, street_list)"
   ]
  },
  {
   "cell_type": "code",
   "execution_count": null,
   "metadata": {},
   "outputs": [],
   "source": [
    "cur.executemany()"
   ]
  },
  {
   "cell_type": "code",
   "execution_count": 46,
   "metadata": {},
   "outputs": [
    {
     "name": "stdout",
     "output_type": "stream",
     "text": [
      "1000\n"
     ]
    }
   ],
   "source": [
    "print(len(street_list))"
   ]
  },
  {
   "cell_type": "code",
   "execution_count": null,
   "metadata": {},
   "outputs": [],
   "source": []
  }
 ],
 "metadata": {
  "kernelspec": {
   "display_name": "PythonData",
   "language": "python",
   "name": "pythondata"
  },
  "language_info": {
   "codemirror_mode": {
    "name": "ipython",
    "version": 3
   },
   "file_extension": ".py",
   "mimetype": "text/x-python",
   "name": "python",
   "nbconvert_exporter": "python",
   "pygments_lexer": "ipython3",
   "version": "3.7.11"
  }
 },
 "nbformat": 4,
 "nbformat_minor": 4
}
