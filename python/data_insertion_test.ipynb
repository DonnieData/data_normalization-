{
 "cells": [
  {
   "cell_type": "code",
   "execution_count": 1,
   "metadata": {},
   "outputs": [],
   "source": [
    "#import dependencies \n",
    "import pandas as pd \n",
    "import requests \n",
    "from sqlalchemy import create_engine\n",
    "import psycopg2\n",
    "import config "
   ]
  },
  {
   "cell_type": "code",
   "execution_count": 2,
   "metadata": {},
   "outputs": [],
   "source": [
    "#connect to postgres database \n",
    "conn = psycopg2.connect(database=\"donniedata\", user=config.db_user, password=config.db_password, sslmode=\"disable\")\n",
    "cur = conn.cursor();\n",
    "conn.autocommit = True"
   ]
  },
  {
   "cell_type": "code",
   "execution_count": 3,
   "metadata": {},
   "outputs": [],
   "source": [
    "#get sample of data -1000 rows\n",
    "endpoint = \"https://data.sfgov.org/resource/imvp-dq3v.json?$limit=1000\"\n",
    "r = requests.get(url=endpoint)"
   ]
  },
  {
   "cell_type": "code",
   "execution_count": 295,
   "metadata": {},
   "outputs": [],
   "source": [
    "data = r.json()"
   ]
  },
  {
   "cell_type": "code",
   "execution_count": 297,
   "metadata": {},
   "outputs": [
    {
     "data": {
      "text/plain": [
       "[{'transmission_datetime': '196158860_4_06092020073616',\n",
       "  'post_id': '700-14150',\n",
       "  'street_block': 'VALENCIA ST 1400',\n",
       "  'payment_type': 'CASH',\n",
       "  'session_start_dt': '2020-06-09T07:36:16.000',\n",
       "  'session_end_dt': '2020-06-09T10:36:00.000',\n",
       "  'meter_event_type': 'NS',\n",
       "  'gross_paid_amt': '0.8'},\n",
       " {'transmission_datetime': '196158861_4_06092020073722',\n",
       "  'post_id': '471-07180',\n",
       "  'street_block': 'HARRISON ST 700',\n",
       "  'payment_type': 'CREDIT CARD',\n",
       "  'session_start_dt': '2020-06-09T07:37:22.000',\n",
       "  'session_end_dt': '2020-06-09T17:30:10.000',\n",
       "  'meter_event_type': 'NS',\n",
       "  'gross_paid_amt': '4.25'}]"
      ]
     },
     "execution_count": 297,
     "metadata": {},
     "output_type": "execute_result"
    }
   ],
   "source": [
    "data[0:2]"
   ]
  },
  {
   "cell_type": "markdown",
   "metadata": {},
   "source": [
    "## payment table "
   ]
  },
  {
   "cell_type": "code",
   "execution_count": 299,
   "metadata": {},
   "outputs": [],
   "source": [
    "#insert data into street dimension\n",
    "sql = '''\n",
    "DO $$\n",
    "BEGIN \n",
    "IF NOT EXISTS (select 1 from sf_ticket_trans.dim_payment where payment_type = %(payment)s) \n",
    "THEN INSERT INTO sf_ticket_trans.dim_payment (payment_type) VALUES (%(payment)s);\n",
    "END IF;\n",
    "END;\n",
    "$$ \n",
    "\n",
    "'''\n",
    "\n",
    "#refactored execution option to irate through json object itself \n",
    "[cur.execute(sql, {'payment':data[i]['payment_type']}) for i in list(range(len(data)))];\n",
    "    "
   ]
  },
  {
   "cell_type": "code",
   "execution_count": 302,
   "metadata": {},
   "outputs": [
    {
     "name": "stdout",
     "output_type": "stream",
     "text": [
      "Unique values inserted: 3\n",
      "Unique values from data pull: 3\n"
     ]
    }
   ],
   "source": [
    "#data inserstion test succesful wiht only unqiue values being added\n",
    "cur.execute('select count(*) from sf_ticket_trans.dim_payment')\n",
    "print('Unique values inserted:', cur.fetchall()[0][0])\n",
    "\n",
    "payment_type_list = [data[i]['payment_type'] for i in list(range(len(data)))]\n",
    "print('Unique values from data pull:', len(set(payment_type_list)))"
   ]
  },
  {
   "cell_type": "markdown",
   "metadata": {},
   "source": [
    "## Streets data "
   ]
  },
  {
   "cell_type": "code",
   "execution_count": 277,
   "metadata": {},
   "outputs": [],
   "source": [
    "#create street list \n",
    "street_list = [data[i]['street_block'] for i in list(range(len(data)))]"
   ]
  },
  {
   "cell_type": "code",
   "execution_count": 279,
   "metadata": {},
   "outputs": [],
   "source": [
    "#insert data into street dimension\n",
    "sql = '''\n",
    "DO $$\n",
    "BEGIN \n",
    "IF NOT EXISTS (select 1 from sf_ticket_trans.dim_street where street_block = %(street)s) \n",
    "THEN INSERT INTO sf_ticket_trans.dim_street (street_block) VALUES ( %(street)s  );\n",
    "END IF;\n",
    "END;\n",
    "$$ \n",
    "\n",
    "'''\n",
    "    \n",
    "[cur.execute(sql, {'street':i}) for i in street_list];\n",
    "    "
   ]
  },
  {
   "cell_type": "code",
   "execution_count": 285,
   "metadata": {},
   "outputs": [
    {
     "name": "stdout",
     "output_type": "stream",
     "text": [
      "Unique values inserted: 491\n",
      "Unique values from data pull: 491\n"
     ]
    }
   ],
   "source": [
    "#data inserstion test succesful wiht only unqiue values being added\n",
    "cur.execute('select count(*) from sf_ticket_trans.dim_street')\n",
    "print('Unique values inserted:', cur.fetchall()[0][0])\n",
    "print('Unique values from data pull:', len(set(street_list)))"
   ]
  },
  {
   "cell_type": "markdown",
   "metadata": {},
   "source": [
    "## fact table "
   ]
  },
  {
   "cell_type": "code",
   "execution_count": 321,
   "metadata": {},
   "outputs": [],
   "source": [
    "#query to get street_id and insert \n",
    "#subquery to select id where value= lookup-value and insert with new data\n",
    "sql ='''\n",
    "\n",
    "INSERT INTO sf_ticket_trans.fact_transactions (\n",
    "    transmission_datetime ,\n",
    "    payment_type_id,\n",
    "    street_block_id ,\n",
    "    post_id ,\n",
    "    meter_event_type ,\n",
    "    gross_paid_amt ,\n",
    "    session_start_dt ,\n",
    "    session_end_date \n",
    "    )\n",
    "VALUES (\n",
    "    %(transmission_dt)s ,\n",
    "    (SELECT payment_type_id \n",
    "        FROM sf_ticket_trans.dim_payment WHERE payment_type = %(payment)s ) ,\n",
    "    (SELECT street_block_id \n",
    "        FROM sf_ticket_trans.dim_street WHERE street_block = %(street)s ) ,\n",
    "    %(post)s ,\n",
    "    %(meter_event)s ,\n",
    "    %(paid_amt)s ,\n",
    "    %(sessionstart)s ,\n",
    "    %(sessionend)s \n",
    "    );\n",
    "\n",
    "'''\n",
    "#iterate through json object and insert into fact table \n",
    "for i in list(range(len(data))): \n",
    "    cur.execute(sql, {\n",
    "                     'transmission_dt' : data[i]['transmission_datetime'],\n",
    "                      'payment': data[i]['payment_type'],\n",
    "                      'street': data[i]['street_block'],\n",
    "                     'post' : data[i]['post_id'],\n",
    "                      'meter_event': data[i]['meter_event_type'],\n",
    "                      'paid_amt': data[i]['gross_paid_amt'],\n",
    "                     'sessionstart' : data[i]['session_start_dt'],\n",
    "                      'sessionend': data[i]['session_end_dt']\n",
    "                    })\n",
    "    \n",
    "    \n",
    "                "
   ]
  },
  {
   "cell_type": "markdown",
   "metadata": {},
   "source": [
    "## validate "
   ]
  },
  {
   "cell_type": "code",
   "execution_count": 322,
   "metadata": {},
   "outputs": [],
   "source": [
    "data_df = pd.DataFrame(data)"
   ]
  },
  {
   "cell_type": "code",
   "execution_count": 334,
   "metadata": {},
   "outputs": [
    {
     "data": {
      "text/plain": [
       "250"
      ]
     },
     "execution_count": 334,
     "metadata": {},
     "output_type": "execute_result"
    }
   ],
   "source": [
    "round(len(data_df) * 0.25)"
   ]
  },
  {
   "cell_type": "code",
   "execution_count": 478,
   "metadata": {},
   "outputs": [],
   "source": [
    "#get sample of subset \n",
    "sample_size = round(len(data_df) * 0.25)\n",
    "sample_ids = data_df.sample(sample_size)['transmission_datetime'].to_list()\n",
    "sample_id_tuple = tuple(sample_ids)"
   ]
  },
  {
   "cell_type": "code",
   "execution_count": 365,
   "metadata": {},
   "outputs": [
    {
     "data": {
      "text/html": [
       "<div>\n",
       "<style scoped>\n",
       "    .dataframe tbody tr th:only-of-type {\n",
       "        vertical-align: middle;\n",
       "    }\n",
       "\n",
       "    .dataframe tbody tr th {\n",
       "        vertical-align: top;\n",
       "    }\n",
       "\n",
       "    .dataframe thead th {\n",
       "        text-align: right;\n",
       "    }\n",
       "</style>\n",
       "<table border=\"1\" class=\"dataframe\">\n",
       "  <thead>\n",
       "    <tr style=\"text-align: right;\">\n",
       "      <th></th>\n",
       "      <th>transmission_datetime</th>\n",
       "      <th>payment_type</th>\n",
       "      <th>street_block</th>\n",
       "    </tr>\n",
       "  </thead>\n",
       "  <tbody>\n",
       "    <tr>\n",
       "      <th>7</th>\n",
       "      <td>196158867_4_06092020073841</td>\n",
       "      <td>CREDIT CARD</td>\n",
       "      <td>SPEAR ST 400</td>\n",
       "    </tr>\n",
       "    <tr>\n",
       "      <th>8</th>\n",
       "      <td>196158868_4_06092020073825</td>\n",
       "      <td>CREDIT CARD</td>\n",
       "      <td>EMBARCADERO NORTH 300</td>\n",
       "    </tr>\n",
       "    <tr>\n",
       "      <th>9</th>\n",
       "      <td>196158869_4_06092020073758</td>\n",
       "      <td>CASH</td>\n",
       "      <td>BROADWAY 0</td>\n",
       "    </tr>\n",
       "    <tr>\n",
       "      <th>11</th>\n",
       "      <td>196158871_4_06092020073928</td>\n",
       "      <td>CREDIT CARD</td>\n",
       "      <td>07TH ST 200</td>\n",
       "    </tr>\n",
       "    <tr>\n",
       "      <th>13</th>\n",
       "      <td>196158873_4_06092020073931</td>\n",
       "      <td>CREDIT CARD</td>\n",
       "      <td>SPEAR ST 0</td>\n",
       "    </tr>\n",
       "  </tbody>\n",
       "</table>\n",
       "</div>"
      ],
      "text/plain": [
       "         transmission_datetime payment_type           street_block\n",
       "7   196158867_4_06092020073841  CREDIT CARD           SPEAR ST 400\n",
       "8   196158868_4_06092020073825  CREDIT CARD  EMBARCADERO NORTH 300\n",
       "9   196158869_4_06092020073758         CASH             BROADWAY 0\n",
       "11  196158871_4_06092020073928  CREDIT CARD            07TH ST 200\n",
       "13  196158873_4_06092020073931  CREDIT CARD             SPEAR ST 0"
      ]
     },
     "execution_count": 365,
     "metadata": {},
     "output_type": "execute_result"
    }
   ],
   "source": [
    "sample_df = data_df[data_df['transmission_datetime'].isin(sample_ids)][['transmission_datetime','payment_type','street_block']]\n",
    "sample_df.head()"
   ]
  },
  {
   "cell_type": "code",
   "execution_count": 481,
   "metadata": {},
   "outputs": [],
   "source": [
    "sql = (''' \n",
    "SELECT tran.transmission_datetime,\n",
    "        pay.payment_type,\n",
    "        str.street_block\n",
    "FROM sf_ticket_trans.fact_transactions tran\n",
    "    LEFT JOIN sf_ticket_trans.dim_payment pay\n",
    "        ON tran.payment_type_id = pay.payment_type_id\n",
    "    LEFT JOIN sf_ticket_trans.dim_street str\n",
    "        ON tran.street_block_id = str.street_block_id\n",
    "WHERE tran.transmission_datetime IN %s\n",
    "''')\n",
    "\n",
    "#value tuple must also be 'tupled' psycopg2 expects a sequence of sequence  \n",
    "cur.execute(sql, (sample_id_tuple,))\n",
    "result_df = pd.DataFrame(cur.fetchall())\n",
    "result_df.columns = [i[0] for i in cur.description]"
   ]
  },
  {
   "cell_type": "code",
   "execution_count": 482,
   "metadata": {},
   "outputs": [
    {
     "data": {
      "text/html": [
       "<div>\n",
       "<style scoped>\n",
       "    .dataframe tbody tr th:only-of-type {\n",
       "        vertical-align: middle;\n",
       "    }\n",
       "\n",
       "    .dataframe tbody tr th {\n",
       "        vertical-align: top;\n",
       "    }\n",
       "\n",
       "    .dataframe thead th {\n",
       "        text-align: right;\n",
       "    }\n",
       "</style>\n",
       "<table border=\"1\" class=\"dataframe\">\n",
       "  <thead>\n",
       "    <tr style=\"text-align: right;\">\n",
       "      <th></th>\n",
       "      <th>transmission_datetime</th>\n",
       "      <th>payment_type</th>\n",
       "      <th>street_block</th>\n",
       "    </tr>\n",
       "  </thead>\n",
       "  <tbody>\n",
       "    <tr>\n",
       "      <th>0</th>\n",
       "      <td>196158863_4_06092020073706</td>\n",
       "      <td>CASH</td>\n",
       "      <td>SANSOME ST 300</td>\n",
       "    </tr>\n",
       "    <tr>\n",
       "      <th>1</th>\n",
       "      <td>196158865_4_06092020073802</td>\n",
       "      <td>CREDIT CARD</td>\n",
       "      <td>SPEAR ST 300</td>\n",
       "    </tr>\n",
       "    <tr>\n",
       "      <th>2</th>\n",
       "      <td>196158869_4_06092020073758</td>\n",
       "      <td>CASH</td>\n",
       "      <td>BROADWAY 0</td>\n",
       "    </tr>\n",
       "    <tr>\n",
       "      <th>3</th>\n",
       "      <td>196158886_4_06092020074050</td>\n",
       "      <td>CREDIT CARD</td>\n",
       "      <td>PINE ST 300</td>\n",
       "    </tr>\n",
       "    <tr>\n",
       "      <th>4</th>\n",
       "      <td>196158889_4_06092020074102</td>\n",
       "      <td>CREDIT CARD</td>\n",
       "      <td>EMBARCADERO SOUTH 400</td>\n",
       "    </tr>\n",
       "    <tr>\n",
       "      <th>...</th>\n",
       "      <td>...</td>\n",
       "      <td>...</td>\n",
       "      <td>...</td>\n",
       "    </tr>\n",
       "    <tr>\n",
       "      <th>245</th>\n",
       "      <td>196159864_4_06092020085155</td>\n",
       "      <td>CREDIT CARD</td>\n",
       "      <td>07TH ST 1300</td>\n",
       "    </tr>\n",
       "    <tr>\n",
       "      <th>246</th>\n",
       "      <td>196159866_4_06092020085213</td>\n",
       "      <td>CREDIT CARD</td>\n",
       "      <td>OFARRELL ST 2200</td>\n",
       "    </tr>\n",
       "    <tr>\n",
       "      <th>247</th>\n",
       "      <td>196159872_4_06092020085133</td>\n",
       "      <td>CASH</td>\n",
       "      <td>MISSION ST 2000</td>\n",
       "    </tr>\n",
       "    <tr>\n",
       "      <th>248</th>\n",
       "      <td>196159873_4_06092020085230</td>\n",
       "      <td>CREDIT CARD</td>\n",
       "      <td>SACRAMENTO ST 2400</td>\n",
       "    </tr>\n",
       "    <tr>\n",
       "      <th>249</th>\n",
       "      <td>196159875_4_06092020085240</td>\n",
       "      <td>CREDIT CARD</td>\n",
       "      <td>BATTERY ST 800</td>\n",
       "    </tr>\n",
       "  </tbody>\n",
       "</table>\n",
       "<p>250 rows × 3 columns</p>\n",
       "</div>"
      ],
      "text/plain": [
       "          transmission_datetime payment_type           street_block\n",
       "0    196158863_4_06092020073706         CASH         SANSOME ST 300\n",
       "1    196158865_4_06092020073802  CREDIT CARD           SPEAR ST 300\n",
       "2    196158869_4_06092020073758         CASH             BROADWAY 0\n",
       "3    196158886_4_06092020074050  CREDIT CARD            PINE ST 300\n",
       "4    196158889_4_06092020074102  CREDIT CARD  EMBARCADERO SOUTH 400\n",
       "..                          ...          ...                    ...\n",
       "245  196159864_4_06092020085155  CREDIT CARD           07TH ST 1300\n",
       "246  196159866_4_06092020085213  CREDIT CARD       OFARRELL ST 2200\n",
       "247  196159872_4_06092020085133         CASH        MISSION ST 2000\n",
       "248  196159873_4_06092020085230  CREDIT CARD     SACRAMENTO ST 2400\n",
       "249  196159875_4_06092020085240  CREDIT CARD         BATTERY ST 800\n",
       "\n",
       "[250 rows x 3 columns]"
      ]
     },
     "execution_count": 482,
     "metadata": {},
     "output_type": "execute_result"
    }
   ],
   "source": [
    "result_df"
   ]
  },
  {
   "cell_type": "code",
   "execution_count": null,
   "metadata": {},
   "outputs": [],
   "source": []
  }
 ],
 "metadata": {
  "kernelspec": {
   "display_name": "PythonData",
   "language": "python",
   "name": "pythondata"
  },
  "language_info": {
   "codemirror_mode": {
    "name": "ipython",
    "version": 3
   },
   "file_extension": ".py",
   "mimetype": "text/x-python",
   "name": "python",
   "nbconvert_exporter": "python",
   "pygments_lexer": "ipython3",
   "version": "3.7.11"
  }
 },
 "nbformat": 4,
 "nbformat_minor": 4
}
