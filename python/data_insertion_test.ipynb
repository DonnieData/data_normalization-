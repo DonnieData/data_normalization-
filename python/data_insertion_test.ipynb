{
 "cells": [
  {
   "cell_type": "code",
   "execution_count": 1,
   "metadata": {},
   "outputs": [],
   "source": [
    "#import dependencies \n",
    "import pandas as pd \n",
    "import requests \n",
    "from sqlalchemy import create_engine\n",
    "import psycopg2\n",
    "import config "
   ]
  },
  {
   "cell_type": "code",
   "execution_count": 2,
   "metadata": {},
   "outputs": [],
   "source": [
    "#connect to postgres database \n",
    "conn = psycopg2.connect(database=\"donniedata\", user=config.db_user, password=config.db_password, sslmode=\"disable\")\n",
    "cur = conn.cursor();\n",
    "conn.autocommit = True"
   ]
  },
  {
   "cell_type": "code",
   "execution_count": 3,
   "metadata": {},
   "outputs": [],
   "source": [
    "#get sample of data -1000 rows\n",
    "endpoint = \"https://data.sfgov.org/resource/imvp-dq3v.json?$limit=1000\"\n",
    "r = requests.get(url=endpoint)"
   ]
  },
  {
   "cell_type": "markdown",
   "metadata": {},
   "source": [
    "## Normalized Streets data insertion "
   ]
  },
  {
   "cell_type": "code",
   "execution_count": 71,
   "metadata": {},
   "outputs": [
    {
     "data": {
      "text/plain": [
       "[('VALENCIA ST 1400',),\n",
       " ('HARRISON ST 700',),\n",
       " ('KING ST 100',),\n",
       " ('SANSOME ST 300',),\n",
       " ('CLAY ST 900',)]"
      ]
     },
     "execution_count": 71,
     "metadata": {},
     "output_type": "execute_result"
    }
   ],
   "source": [
    "#first test with all values to ensure script only inserts values not already in table \n",
    "#convert to tuples for insertion \n",
    "street_list = list(data_df[['street_block']].to_records(index=False))\n",
    "street_list[0:5]"
   ]
  },
  {
   "cell_type": "code",
   "execution_count": 277,
   "metadata": {},
   "outputs": [],
   "source": [
    "#create street list \n",
    "street_list = [data[i]['street_block'] for i in list(range(len(data)))]"
   ]
  },
  {
   "cell_type": "code",
   "execution_count": 279,
   "metadata": {},
   "outputs": [],
   "source": [
    "#insert data into street dimension\n",
    "sql = '''\n",
    "DO $$\n",
    "BEGIN \n",
    "IF NOT EXISTS (select 1 from sf_ticket_trans.dim_street where street_block = %(street)s) \n",
    "THEN INSERT INTO sf_ticket_trans.dim_street (street_block) VALUES (%(street)s);\n",
    "END IF;\n",
    "END;\n",
    "$$ \n",
    "\n",
    "'''\n",
    "    \n",
    "[cur.execute(sql, {'street':i}) for i in street_list];\n",
    "    "
   ]
  },
  {
   "cell_type": "code",
   "execution_count": 285,
   "metadata": {},
   "outputs": [
    {
     "name": "stdout",
     "output_type": "stream",
     "text": [
      "Unique values inserted: 491\n",
      "Unique values from data pull: 491\n"
     ]
    }
   ],
   "source": [
    "#data inserstion test succesful wiht only unqiue values being added\n",
    "cur.execute('select count(*) from sf_ticket_trans.dim_street')\n",
    "print('Unique values inserted:', cur.fetchall()[0][0])\n",
    "print('Unique values from data pull:', len(set(street_list)))"
   ]
  },
  {
   "cell_type": "markdown",
   "metadata": {},
   "source": [
    "## Normalizing fact table streets data "
   ]
  },
  {
   "cell_type": "code",
   "execution_count": 291,
   "metadata": {},
   "outputs": [
    {
     "data": {
      "text/plain": [
       "['transmission_datetime',\n",
       " 'post_id',\n",
       " 'street_block',\n",
       " 'payment_type',\n",
       " 'session_start_dt',\n",
       " 'session_end_dt',\n",
       " 'meter_event_type',\n",
       " 'gross_paid_amt']"
      ]
     },
     "execution_count": 291,
     "metadata": {},
     "output_type": "execute_result"
    }
   ],
   "source": [
    "#columns \n",
    "[i for i in data[0].keys()]"
   ]
  },
  {
   "cell_type": "code",
   "execution_count": 292,
   "metadata": {},
   "outputs": [],
   "source": [
    "#query to get street_id and insert \n",
    "#subquery to select id where value= lookup-value and insert with new data\n",
    "sql ='''\n",
    "\n",
    "INSERT INTO sf_ticket_trans.fact_transactions (\n",
    "    transmission_datetime ,\n",
    "    (SELECT payment_type_id where payment_type = %(payment_type)s) ,\n",
    "    street_block_id ,\n",
    "    post_id ,\n",
    "    meter_event_type ,\n",
    "    gross_paid_amt ,\n",
    "    session_start_dt ,\n",
    "    session_end_date \n",
    "    )\n",
    "    VALUES (\n",
    "    %(transmission_datetime)s ,\n",
    "    (SELECT street_block_id where street_block = %(street)s) ,\n",
    "    %(street_block_id)s ,\n",
    "    %(post_id)s ,\n",
    "    %(meter_event_type)s ,\n",
    "    %(gross_paid_amt)s ,\n",
    "    %(session_start_dt)s ,\n",
    "    %(session_end_date)s ,\n",
    "    )\n",
    "\n",
    "'''\n"
   ]
  },
  {
   "cell_type": "code",
   "execution_count": null,
   "metadata": {},
   "outputs": [],
   "source": []
  }
 ],
 "metadata": {
  "kernelspec": {
   "display_name": "PythonData",
   "language": "python",
   "name": "pythondata"
  },
  "language_info": {
   "codemirror_mode": {
    "name": "ipython",
    "version": 3
   },
   "file_extension": ".py",
   "mimetype": "text/x-python",
   "name": "python",
   "nbconvert_exporter": "python",
   "pygments_lexer": "ipython3",
   "version": "3.7.11"
  }
 },
 "nbformat": 4,
 "nbformat_minor": 4
}
