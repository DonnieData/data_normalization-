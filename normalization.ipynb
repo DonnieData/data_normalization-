{
 "cells": [
  {
   "cell_type": "code",
   "execution_count": 2,
   "metadata": {},
   "outputs": [],
   "source": [
    "#import dependencies \n",
    "import pandas as pd \n",
    "import requests \n",
    "from sqlalchemy import create_engine\n",
    "import psycopg2\n",
    "import config "
   ]
  },
  {
   "cell_type": "markdown",
   "metadata": {},
   "source": [
    "# Data "
   ]
  },
  {
   "cell_type": "code",
   "execution_count": 20,
   "metadata": {},
   "outputs": [],
   "source": [
    "#get sample of data -1000 rows\n",
    "endpoint = \"https://data.sfgov.org/resource/imvp-dq3v.json?$limit=1000\"\n",
    "r = requests.get(url=endpoint)"
   ]
  },
  {
   "cell_type": "code",
   "execution_count": 28,
   "metadata": {},
   "outputs": [],
   "source": [
    "#convert to datframe \n",
    "data_df = pd.DataFrame(r.json())"
   ]
  },
  {
   "cell_type": "code",
   "execution_count": 29,
   "metadata": {},
   "outputs": [
    {
     "data": {
      "text/plain": [
       "(1000, 8)"
      ]
     },
     "execution_count": 29,
     "metadata": {},
     "output_type": "execute_result"
    }
   ],
   "source": [
    "data_df.shape"
   ]
  },
  {
   "cell_type": "code",
   "execution_count": 30,
   "metadata": {},
   "outputs": [
    {
     "data": {
      "text/html": [
       "<div>\n",
       "<style scoped>\n",
       "    .dataframe tbody tr th:only-of-type {\n",
       "        vertical-align: middle;\n",
       "    }\n",
       "\n",
       "    .dataframe tbody tr th {\n",
       "        vertical-align: top;\n",
       "    }\n",
       "\n",
       "    .dataframe thead th {\n",
       "        text-align: right;\n",
       "    }\n",
       "</style>\n",
       "<table border=\"1\" class=\"dataframe\">\n",
       "  <thead>\n",
       "    <tr style=\"text-align: right;\">\n",
       "      <th></th>\n",
       "      <th>transmission_datetime</th>\n",
       "      <th>post_id</th>\n",
       "      <th>street_block</th>\n",
       "      <th>payment_type</th>\n",
       "      <th>session_start_dt</th>\n",
       "      <th>session_end_dt</th>\n",
       "      <th>meter_event_type</th>\n",
       "      <th>gross_paid_amt</th>\n",
       "    </tr>\n",
       "  </thead>\n",
       "  <tbody>\n",
       "    <tr>\n",
       "      <th>0</th>\n",
       "      <td>135482724_4_09302017104221</td>\n",
       "      <td>352-05200</td>\n",
       "      <td>CASTRO ST 500</td>\n",
       "      <td>CREDIT CARD</td>\n",
       "      <td>2017-09-30T10:42:21.000</td>\n",
       "      <td>2017-09-30T11:02:21.000</td>\n",
       "      <td>NS</td>\n",
       "      <td>0.75</td>\n",
       "    </tr>\n",
       "    <tr>\n",
       "      <th>1</th>\n",
       "      <td>135482725_4_09302017104224</td>\n",
       "      <td>418-08670</td>\n",
       "      <td>FOLSOM ST 800</td>\n",
       "      <td>CREDIT CARD</td>\n",
       "      <td>2017-09-30T10:42:24.000</td>\n",
       "      <td>2017-09-30T12:42:17.000</td>\n",
       "      <td>NS</td>\n",
       "      <td>5.54</td>\n",
       "    </tr>\n",
       "    <tr>\n",
       "      <th>2</th>\n",
       "      <td>135482726_4_09302017104223</td>\n",
       "      <td>568-45310</td>\n",
       "      <td>MISSION ST 4500</td>\n",
       "      <td>CASH</td>\n",
       "      <td>2017-09-30T10:42:23.000</td>\n",
       "      <td>2017-09-30T11:26:07.000</td>\n",
       "      <td>NS</td>\n",
       "      <td>0.75</td>\n",
       "    </tr>\n",
       "    <tr>\n",
       "      <th>3</th>\n",
       "      <td>135482727_4_09302017104226</td>\n",
       "      <td>350-24090</td>\n",
       "      <td>CALIFORNIA ST 2400</td>\n",
       "      <td>CASH</td>\n",
       "      <td>2017-09-30T10:42:26.000</td>\n",
       "      <td>2017-09-30T11:27:56.000</td>\n",
       "      <td>AT</td>\n",
       "      <td>0.15</td>\n",
       "    </tr>\n",
       "    <tr>\n",
       "      <th>4</th>\n",
       "      <td>135482728_4_09302017104226</td>\n",
       "      <td>226-34480</td>\n",
       "      <td>26TH ST 3400</td>\n",
       "      <td>CASH</td>\n",
       "      <td>2017-09-30T10:42:26.000</td>\n",
       "      <td>2017-09-30T11:42:26.000</td>\n",
       "      <td>NS</td>\n",
       "      <td>2.25</td>\n",
       "    </tr>\n",
       "  </tbody>\n",
       "</table>\n",
       "</div>"
      ],
      "text/plain": [
       "        transmission_datetime    post_id        street_block payment_type  \\\n",
       "0  135482724_4_09302017104221  352-05200       CASTRO ST 500  CREDIT CARD   \n",
       "1  135482725_4_09302017104224  418-08670       FOLSOM ST 800  CREDIT CARD   \n",
       "2  135482726_4_09302017104223  568-45310     MISSION ST 4500         CASH   \n",
       "3  135482727_4_09302017104226  350-24090  CALIFORNIA ST 2400         CASH   \n",
       "4  135482728_4_09302017104226  226-34480        26TH ST 3400         CASH   \n",
       "\n",
       "          session_start_dt           session_end_dt meter_event_type  \\\n",
       "0  2017-09-30T10:42:21.000  2017-09-30T11:02:21.000               NS   \n",
       "1  2017-09-30T10:42:24.000  2017-09-30T12:42:17.000               NS   \n",
       "2  2017-09-30T10:42:23.000  2017-09-30T11:26:07.000               NS   \n",
       "3  2017-09-30T10:42:26.000  2017-09-30T11:27:56.000               AT   \n",
       "4  2017-09-30T10:42:26.000  2017-09-30T11:42:26.000               NS   \n",
       "\n",
       "  gross_paid_amt  \n",
       "0           0.75  \n",
       "1           5.54  \n",
       "2           0.75  \n",
       "3           0.15  \n",
       "4           2.25  "
      ]
     },
     "execution_count": 30,
     "metadata": {},
     "output_type": "execute_result"
    }
   ],
   "source": [
    "#review dataframe \n",
    "data_df.head()"
   ]
  },
  {
   "cell_type": "code",
   "execution_count": 37,
   "metadata": {},
   "outputs": [
    {
     "data": {
      "text/plain": [
       "['transmission_datetime',\n",
       " 'post_id',\n",
       " 'street_block',\n",
       " 'payment_type',\n",
       " 'session_start_dt',\n",
       " 'session_end_dt',\n",
       " 'meter_event_type',\n",
       " 'gross_paid_amt']"
      ]
     },
     "execution_count": 37,
     "metadata": {},
     "output_type": "execute_result"
    }
   ],
   "source": [
    "[i for i in data_df.columns]"
   ]
  },
  {
   "cell_type": "code",
   "execution_count": 39,
   "metadata": {},
   "outputs": [
    {
     "data": {
      "text/plain": [
       "array(['NS', 'AT'], dtype=object)"
      ]
     },
     "execution_count": 39,
     "metadata": {},
     "output_type": "execute_result"
    }
   ],
   "source": [
    "data_df.meter_event_type.unique()"
   ]
  },
  {
   "cell_type": "code",
   "execution_count": 67,
   "metadata": {},
   "outputs": [
    {
     "data": {
      "text/plain": [
       "534"
      ]
     },
     "execution_count": 67,
     "metadata": {},
     "output_type": "execute_result"
    }
   ],
   "source": [
    "len(data_df.street_block.unique())"
   ]
  },
  {
   "cell_type": "code",
   "execution_count": 64,
   "metadata": {},
   "outputs": [
    {
     "data": {
      "text/html": [
       "<div>\n",
       "<style scoped>\n",
       "    .dataframe tbody tr th:only-of-type {\n",
       "        vertical-align: middle;\n",
       "    }\n",
       "\n",
       "    .dataframe tbody tr th {\n",
       "        vertical-align: top;\n",
       "    }\n",
       "\n",
       "    .dataframe thead th {\n",
       "        text-align: right;\n",
       "    }\n",
       "</style>\n",
       "<table border=\"1\" class=\"dataframe\">\n",
       "  <thead>\n",
       "    <tr style=\"text-align: right;\">\n",
       "      <th></th>\n",
       "      <th>0</th>\n",
       "    </tr>\n",
       "  </thead>\n",
       "  <tbody>\n",
       "    <tr>\n",
       "      <th>0</th>\n",
       "      <td>CASTRO ST 500</td>\n",
       "    </tr>\n",
       "    <tr>\n",
       "      <th>1</th>\n",
       "      <td>FOLSOM ST 800</td>\n",
       "    </tr>\n",
       "    <tr>\n",
       "      <th>2</th>\n",
       "      <td>MISSION ST 4500</td>\n",
       "    </tr>\n",
       "    <tr>\n",
       "      <th>3</th>\n",
       "      <td>CALIFORNIA ST 2400</td>\n",
       "    </tr>\n",
       "    <tr>\n",
       "      <th>4</th>\n",
       "      <td>26TH ST 3400</td>\n",
       "    </tr>\n",
       "    <tr>\n",
       "      <th>...</th>\n",
       "      <td>...</td>\n",
       "    </tr>\n",
       "    <tr>\n",
       "      <th>529</th>\n",
       "      <td>TREAT AVE 1100</td>\n",
       "    </tr>\n",
       "    <tr>\n",
       "      <th>530</th>\n",
       "      <td>03RD ST 700</td>\n",
       "    </tr>\n",
       "    <tr>\n",
       "      <th>531</th>\n",
       "      <td>BAY ST 400</td>\n",
       "    </tr>\n",
       "    <tr>\n",
       "      <th>532</th>\n",
       "      <td>POLK ST 800</td>\n",
       "    </tr>\n",
       "    <tr>\n",
       "      <th>533</th>\n",
       "      <td>BALBOA ST 300</td>\n",
       "    </tr>\n",
       "  </tbody>\n",
       "</table>\n",
       "<p>534 rows × 1 columns</p>\n",
       "</div>"
      ],
      "text/plain": [
       "                      0\n",
       "0         CASTRO ST 500\n",
       "1         FOLSOM ST 800\n",
       "2       MISSION ST 4500\n",
       "3    CALIFORNIA ST 2400\n",
       "4          26TH ST 3400\n",
       "..                  ...\n",
       "529      TREAT AVE 1100\n",
       "530         03RD ST 700\n",
       "531          BAY ST 400\n",
       "532         POLK ST 800\n",
       "533       BALBOA ST 300\n",
       "\n",
       "[534 rows x 1 columns]"
      ]
     },
     "execution_count": 64,
     "metadata": {},
     "output_type": "execute_result"
    }
   ],
   "source": [
    "pd.DataFrame(data_df.street_block.unique())"
   ]
  },
  {
   "cell_type": "markdown",
   "metadata": {},
   "source": [
    "# Database "
   ]
  },
  {
   "cell_type": "code",
   "execution_count": 71,
   "metadata": {},
   "outputs": [],
   "source": [
    "#connect to postgres database \n",
    "conn = psycopg2.connect(database=\"donniedata\", user=config.db_user, password=config.db_password, sslmode=\"disable\")\n",
    "cur = conn.cursor();\n",
    "conn.autocommit = True"
   ]
  },
  {
   "cell_type": "code",
   "execution_count": null,
   "metadata": {},
   "outputs": [],
   "source": [
    "sf_ticket_trans"
   ]
  },
  {
   "cell_type": "code",
   "execution_count": 73,
   "metadata": {},
   "outputs": [
    {
     "data": {
      "text/plain": [
       "['transmission_datetime',\n",
       " 'post_id',\n",
       " 'street_block',\n",
       " 'payment_type',\n",
       " 'session_start_dt',\n",
       " 'session_end_dt',\n",
       " 'meter_event_type',\n",
       " 'gross_paid_amt']"
      ]
     },
     "execution_count": 73,
     "metadata": {},
     "output_type": "execute_result"
    }
   ],
   "source": [
    "[i for i in data_df.columns]"
   ]
  },
  {
   "cell_type": "code",
   "execution_count": 78,
   "metadata": {},
   "outputs": [],
   "source": [
    "sql = '''\n",
    "CREATE TABLE sf_ticket_trans.fact_transactions ( \n",
    "transmission_datetime TEXT,\n",
    "payment_type_id INTEGER,\n",
    "street_block_id INTEGER,\n",
    "post_id TEXT,\n",
    "meter_event_type TEXT,\n",
    "gross_paid_amt DECIMAL,\n",
    "session_start_dt TIMESTAMP,\n",
    "session_end_date TIMESTAMP\n",
    ")\n",
    "'''\n",
    "\n",
    "cur.execute(sql)"
   ]
  },
  {
   "cell_type": "code",
   "execution_count": null,
   "metadata": {},
   "outputs": [],
   "source": []
  }
 ],
 "metadata": {
  "kernelspec": {
   "display_name": "PythonData",
   "language": "python",
   "name": "pythondata"
  },
  "language_info": {
   "codemirror_mode": {
    "name": "ipython",
    "version": 3
   },
   "file_extension": ".py",
   "mimetype": "text/x-python",
   "name": "python",
   "nbconvert_exporter": "python",
   "pygments_lexer": "ipython3",
   "version": "3.7.11"
  }
 },
 "nbformat": 4,
 "nbformat_minor": 4
}
